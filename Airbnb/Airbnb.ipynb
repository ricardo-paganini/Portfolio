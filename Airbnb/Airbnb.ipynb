{
 "cells": [
  {
   "cell_type": "markdown",
   "id": "5ad83a04",
   "metadata": {},
   "source": [
    "# PROJETO AIRBNB (RJ) - PREVISÃO DE PREÇO DE IMÓVEL\n",
    "\n",
    "### CONTEXTO\n",
    "\n",
    "No Airbnb, qualquer pessoa que tenha um quarto ou um imóvel de qualquer tipo (apartamento, casa, chalé, pousada, etc.) pode ofertar o seu imóvel para ser alugado por diária.\n",
    "\n",
    "Você cria o seu perfil de host (LOCATÁRIO) e cria o anúncio do seu imóvel.\n",
    "\n",
    "Nesse anúncio, o host deve descrever as características do imóvel da forma mais completa possível, com o objetico de  tornar o seu anúncio mais atrativo).\n",
    "\n",
    "Existem dezenas de personalizações possíveis no seu anúncio, desde quantidade mínima de diária, preço, quantidade de quartos, até regras de cancelamento, taxa extra para hóspedes extras, exigência de verificação de identidade do locador, etc.\n",
    "\n",
    "### OBJETIVO\n",
    "\n",
    "Construir um modelo de previsão de preço que permita uma pessoa comum que possui um imóvel possa saber quanto deve cobrar pela diária do seu imóvel.\n",
    "\n",
    "Ou ainda, para o locador comum, dado o imóvel que ele está buscando, ajudar a saber se aquele imóvel está com preço atrativo (abaixo da média para imóveis com as mesmas características) ou não.\n",
    "    \n",
    "### DADOS\n",
    "\n",
    "As bases de dados foram retiradas do site kaggle: https://www.kaggle.com/allanbruno/airbnb-rio-de-janeiro.\n",
    "\n",
    "Dados coletados da plataforma Airbnb contendo informações dos períodos de agosto 2018 a maio 2020.\n",
    "\n",
    "\n",
    "### OBSERVAÇÕES\n",
    "\n",
    "Alguns fatores importantes que podem influenciar o valor do imóvel:\n",
    "\n",
    "    1- Sazonalidade\n",
    "    2- Localização\n",
    "    3- Comodidade\n",
    "    4- Segurança\n",
    "    \n",
    "\n",
    "### DESCRIÇÃO DOS DADOS\n",
    "\n",
    "1 - ANÚNCIO\n",
    "\n",
    "    id => Numeração única que identifica o anúncio.\n",
    "    listing_url => URL referente ao anúncio.\n",
    "    scrape_id => Numeração que identifica a raspagem dos dados.\n",
    "    last_scraped => data da raspagem dos dados.\n",
    "    name => título do anúncio.\n",
    "    summary => Descrição do imóvel.\n",
    "    space => Campo utilizado pelo locatário para colocar algumas características so imóvel.\n",
    "    description => Descrição mais detalhada sobre o imóvel e suas características.\n",
    "    experiences_offered => Descrição da experiência oferecida que acompanha a locaçãoe o ambiente do imóvel.\n",
    "    neighborhood_overview => Panorama geral da vizinhança.\n",
    "    notes => Algumas observações adicionais sobre o imóvel.\n",
    "    transit => Descreve os recursos de deslocamento ou transporte nos arredores do imóvel.\n",
    "    access => Descreve como é o acesso ao apartamento e quais os principais pontos de acesso nos arredores do imóvel.\n",
    "    interaction => Descreve como pode ser o contato com o locatário (e-mail, telefone, whatsapp, etc)\n",
    "    house_rules => Descreve as regras de boa conduta do imóvel que o locador deve seguir.\n",
    "    thumbnail_url => Link das fotos pequenas do imóvel. Usado para compor o visual do anúncio.\n",
    "    medium_url => Link das fotos de tamanho médio do imóvel. Usado para compor o visual do anúncio.\n",
    "    picture_url => Link das fotos de tamanho normal do imóvel. Usado para compor o visual do anúncio.\n",
    "    xl_picture_url => Link das fotos de tamanho grande do imóvel. Usado para compor o visual do anúncio.\n",
    "    \n",
    "2 - LOCATÁRIO\n",
    "\n",
    "    host_id => Numeração única que identifica o locatário dentro da plataforma.\n",
    "    host_url => URL de localização do perfil do usuário na plataforma.\n",
    "    host_name => Nome do locatário.\n",
    "    host_since => Data de cadastro do locatário dentro da plataforma.\n",
    "    host_location => Local de residência do locatário.\n",
    "    host_about => Breve apresentação do locatário.\n",
    "    host_response_time => Tempo em que o locatário demora para responder as solicitações do locador.\n",
    "    host_response_rate => Avaliação do tempo de responta do locatário.\n",
    "    host_acceptance_rate => Avaliação da aceitação dos usuários da plataforma para com o locatário.\n",
    "    host_is_superhost => Define se o locatário é um super host dentro da plataforma (se ele é um bom anfitrião). \n",
    "    host_thumbnail_url => link da foto pequena de perfil do locatário.\n",
    "    host_picture_url => link da foto normal de perfil do locatário.\n",
    "    host_neighbourhood => Visinhança do locatário.\n",
    "    host_listings_count => Quantas locações já foram realizadas naquele imóvel.\n",
    "    host_total_listings_count => Total de locações que já foram realizadas pelo locatário.\n",
    "    host_verifications => Informa o tipo de verificação do locatário (e-mail, telefone, etc).\n",
    "    host_has_profile_pic => Informa se o locatário tem ou não foto de perfil.\n",
    "    host_identity_verified => Informa se o locatário teve ou não a sua conta verificada.\n",
    "    \n",
    "3 - IMÓVEL\n",
    "\n",
    "    street => Informa a Rua próxima ao imóvel.\n",
    "    neighbourhood => Informa o bairro do imóvel.\n",
    "    neighbourhood_cleansed => Informa o nome da vizinhança que é limpa.\n",
    "    neighbourhood_group_cleansed => Informa o grupo da vizinhança que é limpa.\n",
    "    city => Informa a cidade onde o imóvel está localizado.\n",
    "    state => Informa o estado onde o imóvel está localizado.\n",
    "    zipcode => Informa o CEP de localização do imóvel.\n",
    "    market => Onde existem comércio.\n",
    "    smart_location => Informa a localização resumida do imóvel (normalmente o estado e o país)\n",
    "    country_code => Informa o código do país onde o imóvel está localizado.\n",
    "    country => Informa o país onde o imóvel está localizado.\n",
    "    latitude => Informa a coordenada de latitude de localização do imóvel.\n",
    "    longitude => Informa a coordenada de longitude de localização do imóvel.\n",
    "    is_location_exact => Informa se a localização é exata ou não.\n",
    "    property_type => Tipo do imóvel (apartamento, casa, etc).\n",
    "    room_type => Tipo de quarto (compartilhado, privado, etc).\n",
    "    accommodates => Número de cômodos no imóvel.\n",
    "    bathrooms => Número de banheiros no imóvel.\n",
    "    bedrooms => Número de quartos no imóvel.\n",
    "    beds => Número de camas no imóvel.\n",
    "    bed_type => Tipo das camas no imóvel.\n",
    "    amenities => Outros recursos disponíveis no imóvel como: wifi, tv a cabo, etc.\n",
    "    square_feet => Medida do imóvel (padrão americano: pé quadrado).\n",
    "    price => Preço de locação (em dólar). **VARIÁVEL QUE SE QUER PREVER**\n",
    "    weekly_price => Preço de locação por um período de uma semana (em dólar).\n",
    "    monthly_price => Preço de locação por um período de um mês (em dólar).\n",
    "    security_deposit => Valor do depósito caução utilizado para a reserva do aluguel (em dólar).\n",
    "    cleaning_fee => Taxa de limpeza (em dólar).\n",
    "    guests_included => Quantidade de convidados que o imóvel comporta.\n",
    "    extra_people => Valor de pessoas adicionais ao número de convidados que o imóvel comporta (em dólar).\n",
    "    minimum_nights => Número mínimo de noites para a locação.\n",
    "    maximum_nights => Número máximo de noites para locação.\n",
    "    calendar_updated => Data de atualização do calendário de locação do imóvel.\n",
    "    has_availability => Informa se o imóvel está ou não disponível.\n",
    "    availability_30 => Número de avaliações dos últimos 30 dias.\n",
    "    availability_60 => Número de avaliações dos últimos 60 dias.\n",
    "    availability_90 => Número de avaliações dos últimos 90 dias.\n",
    "    availability_365 => Número de avaliações dos últimos 365 dias.\n",
    "    calendar_last_scraped => Data da última raspagem de dados da plataforma.\n",
    "    number_of_reviews => Número de avaliações.\n",
    "    first_review => Data da primeira avaliação.\n",
    "    last_review => Data da última avaliação.\n",
    "    review_scores_rating => Classificação das avaliações.\n",
    "    review_scores_accuracy => Precisão das avaliações.\n",
    "    review_scores_cleanliness => Classificação da limpeza do local.\n",
    "    review_scores_checkin => Classificação do check-in.\n",
    "    review_scores_communication => Classificação da comunicação entre locatário e locador.\n",
    "    review_scores_location => Classificação da localização.\n",
    "    review_scores_value => Avaliação do valor das pontuações.\n",
    "    requires_license => Informa se o imóvel possui licença de locação.\n",
    "    license => Qual o tipo de licença do imóvel para locação.\n",
    "    jurisdiction_names => Nome da jurisdição.\n",
    "    instant_bookable => Informa se o imóvel pode ou não ser locado imediatamente.\n",
    "    is_business_travel_ready => Informa se o imóve está ou não pronto para acomodar executivos.\n",
    "    cancellation_policy => Descreve a política de cancelamento.\n",
    "    require_guest_profile_picture => Exige ou não uma foto de idenficação do locador.\n",
    "    require_guest_phone_verification => Exige ou não um telefone de contato do locador.\n",
    "    calculated_host_listings_count => Contagem de número de hospedagens realizadas.\n",
    "    reviews_per_month => Número de classificações por mês.\n",
    "    \n",
    "    \n",
    "**OBS.: APÓS VERIFICAR A DESCRIÇÃO DAS COLUNAS PODEMOS, (PELA SIMPLES OBSERVAÇÃO) EXCLUIR DIVERSOS ATRIBUTOS QUE SERÃO IRRELEVANTES PARA O TIPO DE IMPLEMENTAÇÃO QUE SERÁ RALIZADA.**"
   ]
  },
  {
   "cell_type": "markdown",
   "id": "72f66706",
   "metadata": {},
   "source": [
    "## BIBLIOTECAS"
   ]
  },
  {
   "cell_type": "code",
   "execution_count": 1,
   "id": "c8320fd0",
   "metadata": {},
   "outputs": [],
   "source": [
    "import pandas as pd\n",
    "import pathlib "
   ]
  },
  {
   "cell_type": "markdown",
   "id": "3c6779f3",
   "metadata": {},
   "source": [
    "## CARGA / CONSOLIDAÇÃO DOS DADOS"
   ]
  },
  {
   "cell_type": "code",
   "execution_count": 2,
   "id": "c495f4b2",
   "metadata": {},
   "outputs": [],
   "source": [
    "base_path = pathlib.Path('Data')\n",
    "df_airbnb = pd.DataFrame()\n",
    "\n",
    "for file in base_path.iterdir():\n",
    "    df = pd.read_csv(file, low_memory=False)\n",
    "    df_airbnb = pd.concat([df_airbnb,df] , axis=0)"
   ]
  },
  {
   "cell_type": "markdown",
   "id": "cd3e6fe8",
   "metadata": {},
   "source": [
    "## LIMPEZA DOS DADOS\n",
    "\n",
    "Conforme mencionado durante a descrição das colunas existentes nos dados, podemos observar que muitas colunas são irrelevantes para o projeto.\n",
    "\n",
    "Portanto são colunas que poderemos remover do nosso DataFrame."
   ]
  },
  {
   "cell_type": "code",
   "execution_count": 3,
   "id": "5cf15e4e",
   "metadata": {},
   "outputs": [],
   "source": [
    "# Definindo as colunas que até o momento farão parte do DataFrame para análise\n",
    "\n",
    "columns_accepted =['host_since','host_response_time','host_response_rate','host_is_superhost','host_listings_count',\n",
    "          'host_total_listings_count','host_has_profile_pic','host_identity_verified','latitude','longitude','property_type',\n",
    "          'room_type','accommodates','bathrooms','bedrooms','beds','bed_type','square_feet','price','cleaning_fee',\n",
    "          'guests_included','extra_people','minimum_nights','maximum_nights','has_availability','availability_30',\n",
    "          'availability_60','availability_90','availability_365','number_of_reviews','first_review','last_review',\n",
    "          'review_scores_rating','review_scores_accuracy','review_scores_cleanliness','review_scores_checkin',\n",
    "          'review_scores_communication','review_scores_location','review_scores_value','requires_license','instant_bookable',\n",
    "          'is_business_travel_ready','cancellation_policy','require_guest_profile_picture','require_guest_phone_verification',\n",
    "          'calculated_host_listings_count','reviews_per_month']\n",
    "\n",
    "# Definindo as colunas que serão excluídas do Dataframe\n",
    "\n",
    "columns_origin = df_airbnb.columns\n",
    "columns_to_drop = columns_origin.difference(columns_accepted)\n",
    "\n",
    "# Copiando os dados do Dataframe original para iniciar as análises excluindo as colunas definidas anteriormente\n",
    "\n",
    "df = df_airbnb.copy()\n",
    "\n",
    "df.drop(columns=columns_to_drop, inplace=True, axis=1)"
   ]
  },
  {
   "cell_type": "markdown",
   "id": "d5949642",
   "metadata": {},
   "source": [
    "## ANALISANDO / REMOVENDO VALORES NULL"
   ]
  },
  {
   "cell_type": "code",
   "execution_count": 4,
   "id": "a4a836a4",
   "metadata": {},
   "outputs": [
    {
     "data": {
      "text/plain": [
       "host_since                             460\n",
       "host_response_time                  401843\n",
       "host_response_rate                  401846\n",
       "host_is_superhost                      460\n",
       "host_listings_count                    460\n",
       "host_total_listings_count              460\n",
       "host_has_profile_pic                   460\n",
       "host_identity_verified                 460\n",
       "latitude                                 0\n",
       "longitude                                0\n",
       "property_type                            0\n",
       "room_type                                0\n",
       "accommodates                             0\n",
       "bathrooms                             1724\n",
       "bedrooms                               850\n",
       "beds                                  2502\n",
       "bed_type                                 0\n",
       "square_feet                         888162\n",
       "price                                    0\n",
       "cleaning_fee                        313506\n",
       "guests_included                          0\n",
       "extra_people                             0\n",
       "minimum_nights                           0\n",
       "maximum_nights                           0\n",
       "has_availability                         0\n",
       "availability_30                          0\n",
       "availability_60                          0\n",
       "availability_90                          0\n",
       "availability_365                         0\n",
       "number_of_reviews                        0\n",
       "first_review                        424288\n",
       "last_review                         424249\n",
       "review_scores_rating                448016\n",
       "review_scores_accuracy              448586\n",
       "review_scores_cleanliness           448413\n",
       "review_scores_checkin               448650\n",
       "review_scores_communication         448415\n",
       "review_scores_location              448553\n",
       "review_scores_value                 448551\n",
       "requires_license                         0\n",
       "instant_bookable                         0\n",
       "is_business_travel_ready                 0\n",
       "cancellation_policy                      0\n",
       "require_guest_profile_picture            0\n",
       "require_guest_phone_verification         0\n",
       "calculated_host_listings_count           0\n",
       "reviews_per_month                   424288\n",
       "dtype: int64"
      ]
     },
     "execution_count": 4,
     "metadata": {},
     "output_type": "execute_result"
    }
   ],
   "source": [
    "df.isnull().sum()"
   ]
  },
  {
   "cell_type": "markdown",
   "id": "e74891c1",
   "metadata": {},
   "source": [
    "Podemos observar que existem muitas colunas que possuem uma quantidade muito grande de valores nulos ou faltantes. \n",
    "\n",
    "Uma coluna que pode ser eliminada prontamente é a **square_feet** que, embora pareça ser relevante para o modelo não possui dados suficientes.\n",
    "\n",
    "Outras colunas que representam mais de 40% de dados faltantes na base de dados e que deverão ser eliminadas são:\n",
    "**host_response_time,host_response_rate,first_review,last_review,review_scores_rating,review_scores_accuracy,review_scores_cleanliness,review_scores_checkin,review_scores_communication,review_scores_location,review_scores_value,reviews_per_month.**\n",
    "    \n",
    "As colunas: **host_since,host_is_superhost,host_listings_count,host_total_listings_count,host_has_profile_pic,host_identity_verified,bathrooms,bedrooms,beds** ,possuem uma quantidade muito baixa de valores faltantes. Por conta disto optei em eliminar apenas as linhas cujo valor NA esteja presente dentro destas colunas, preservando assim os demais registros."
   ]
  },
  {
   "cell_type": "code",
   "execution_count": 46,
   "id": "b0f12a00",
   "metadata": {},
   "outputs": [],
   "source": [
    "# Fazendo uma cópia do Dataframe df antes de remover as linhas totalmente vazias.\n",
    "\n",
    "df1 = df.copy()\n",
    "\n",
    "columns_to_drop = ['square_feet','host_response_time','host_response_rate','first_review','last_review','review_scores_rating',\n",
    "                   'review_scores_accuracy','review_scores_cleanliness','review_scores_checkin','review_scores_communication', \n",
    "                   'review_scores_location','review_scores_value','reviews_per_month','cleaning_fee']"
   ]
  },
  {
   "cell_type": "code",
   "execution_count": 47,
   "id": "c7df5cb1",
   "metadata": {},
   "outputs": [],
   "source": [
    "df1.drop(columns=columns_to_drop, inplace=True, axis=1)"
   ]
  },
  {
   "cell_type": "code",
   "execution_count": 57,
   "id": "51fd8c56",
   "metadata": {},
   "outputs": [
    {
     "data": {
      "text/plain": [
       "host_since                          0\n",
       "host_is_superhost                   0\n",
       "host_listings_count                 0\n",
       "host_total_listings_count           0\n",
       "host_has_profile_pic                0\n",
       "host_identity_verified              0\n",
       "latitude                            0\n",
       "longitude                           0\n",
       "property_type                       0\n",
       "room_type                           0\n",
       "accommodates                        0\n",
       "bathrooms                           0\n",
       "bedrooms                            0\n",
       "beds                                0\n",
       "bed_type                            0\n",
       "price                               0\n",
       "guests_included                     0\n",
       "extra_people                        0\n",
       "minimum_nights                      0\n",
       "maximum_nights                      0\n",
       "has_availability                    0\n",
       "availability_30                     0\n",
       "availability_60                     0\n",
       "availability_90                     0\n",
       "availability_365                    0\n",
       "number_of_reviews                   0\n",
       "requires_license                    0\n",
       "instant_bookable                    0\n",
       "is_business_travel_ready            0\n",
       "cancellation_policy                 0\n",
       "require_guest_profile_picture       0\n",
       "require_guest_phone_verification    0\n",
       "calculated_host_listings_count      0\n",
       "dtype: int64"
      ]
     },
     "execution_count": 57,
     "metadata": {},
     "output_type": "execute_result"
    }
   ],
   "source": [
    "df1.isnull().sum()"
   ]
  },
  {
   "cell_type": "code",
   "execution_count": 55,
   "id": "efee0cad",
   "metadata": {},
   "outputs": [],
   "source": [
    "df1.dropna(inplace=True)"
   ]
  },
  {
   "cell_type": "code",
   "execution_count": 56,
   "id": "4c044932",
   "metadata": {},
   "outputs": [
    {
     "data": {
      "text/plain": [
       "897709"
      ]
     },
     "execution_count": 56,
     "metadata": {},
     "output_type": "execute_result"
    }
   ],
   "source": [
    "len(df1)"
   ]
  },
  {
   "cell_type": "markdown",
   "id": "555400b4",
   "metadata": {},
   "source": [
    "## ANALISANDO / ALTERANDO O TIPO DOS DADOS"
   ]
  },
  {
   "cell_type": "code",
   "execution_count": null,
   "id": "df1f284a",
   "metadata": {},
   "outputs": [],
   "source": []
  }
 ],
 "metadata": {
  "kernelspec": {
   "display_name": "Python 3 (ipykernel)",
   "language": "python",
   "name": "python3"
  },
  "language_info": {
   "codemirror_mode": {
    "name": "ipython",
    "version": 3
   },
   "file_extension": ".py",
   "mimetype": "text/x-python",
   "name": "python",
   "nbconvert_exporter": "python",
   "pygments_lexer": "ipython3",
   "version": "3.11.0"
  }
 },
 "nbformat": 4,
 "nbformat_minor": 5
}
