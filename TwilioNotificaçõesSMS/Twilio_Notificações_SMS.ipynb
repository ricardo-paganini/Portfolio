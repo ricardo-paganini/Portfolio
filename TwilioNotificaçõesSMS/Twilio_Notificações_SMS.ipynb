{
 "cells": [
  {
   "cell_type": "markdown",
   "id": "4be72a2e",
   "metadata": {},
   "source": [
    "# PROJETO: ENVIO DE NOTIFICAÇÕES POR SMS - TWILIO"
   ]
  },
  {
   "cell_type": "markdown",
   "id": "67b1dbb2",
   "metadata": {},
   "source": [
    "### MOTIVAÇÃO:\n",
    "\n",
    "    - IMPLEMENTAR UMA FORMA SIMPLES E OBJETIVA DE NOTIFICAR O SUCESSO OU FALHA DE EXECUÇÃO DE TAREFAS AUTOMATIZADAS.\n",
    "\n",
    "### ETAPAS:\n",
    "\n",
    "     1 - REALIZAR CADASTRO NO SITE: https://www.twilio.com/pt-br/\n",
    "     2 - ARMAZENAR A SENHA CADASTRADA: AvengerIronMan@2023\n",
    "     3 - REALIZAR AS VERIFICAÇÕES NECESSÁRIAS DO TWILIO (CONFIRMAÇÕES POR EMAIL E SMS)\n",
    "     4 - INSTALAR O PACOTE TWILIO: !pip install twilio\n",
    "     5 - CRIAR UM NÚMERO PARA ENVIO DE SMS NA PLATAFORMA DO TWILIO\n",
    "     6 - VERIFIQUE O NÚMERO QUE SERÁ O DESTINATÁRIO NA PLATAFORMA DO TWILIO\n",
    "     7 - IMPORTE O PACOTE DO TWILIO: from twilio.rest import Client\n",
    "     8 - DEFINA TODOS OS PARÂMETROS NECESSÁRIOS\n",
    "     9 - DEFINA A MENSAGEM A SER ENVIADA (MENSAGENS CURTAS)\n",
    "     10 - ENVIE A MENSAGEM"
   ]
  },
  {
   "cell_type": "markdown",
   "id": "1def9927",
   "metadata": {},
   "source": [
    "## 1 - IMPORTANDO PACOTES"
   ]
  },
  {
   "cell_type": "code",
   "execution_count": 4,
   "id": "b25c78d9",
   "metadata": {},
   "outputs": [],
   "source": [
    "from twilio.rest import Client"
   ]
  },
  {
   "cell_type": "markdown",
   "id": "80e635cf",
   "metadata": {},
   "source": [
    "## 2 - DEFININDO PARÂMETROS"
   ]
  },
  {
   "cell_type": "code",
   "execution_count": 7,
   "id": "c442d03a",
   "metadata": {},
   "outputs": [],
   "source": [
    "account_sid = 'AC2e67699a39d83f56e28ece6798ed6234'\n",
    "auth_token = '76d259ed0abcea59b9ecd8b9064806e2'\n",
    "sender = '+13855263165'\n",
    "recipient = '+5511932731001'\n",
    "client = Client(account_sid,auth_token)"
   ]
  },
  {
   "cell_type": "markdown",
   "id": "d2be497e",
   "metadata": {},
   "source": [
    "## 3 - DEFININDO A MENSAGEM"
   ]
  },
  {
   "cell_type": "code",
   "execution_count": 8,
   "id": "e645134a",
   "metadata": {},
   "outputs": [],
   "source": [
    "message = client.messages.create(to=recipient,from_=sender, body='Carga de dados do INSTAGRAM concluída !')"
   ]
  },
  {
   "cell_type": "markdown",
   "id": "bc46efb1",
   "metadata": {},
   "source": [
    "## 4 - ENVIANDO A MENSAGEM"
   ]
  },
  {
   "cell_type": "code",
   "execution_count": 10,
   "id": "9cab3463",
   "metadata": {},
   "outputs": [
    {
     "data": {
      "text/plain": [
       "'SM7d5e3c6a63a2be6888eac5dfe47a4967'"
      ]
     },
     "execution_count": 10,
     "metadata": {},
     "output_type": "execute_result"
    }
   ],
   "source": [
    "message.sid"
   ]
  }
 ],
 "metadata": {
  "kernelspec": {
   "display_name": "Python 3 (ipykernel)",
   "language": "python",
   "name": "python3"
  },
  "language_info": {
   "codemirror_mode": {
    "name": "ipython",
    "version": 3
   },
   "file_extension": ".py",
   "mimetype": "text/x-python",
   "name": "python",
   "nbconvert_exporter": "python",
   "pygments_lexer": "ipython3",
   "version": "3.10.8"
  }
 },
 "nbformat": 4,
 "nbformat_minor": 5
}
