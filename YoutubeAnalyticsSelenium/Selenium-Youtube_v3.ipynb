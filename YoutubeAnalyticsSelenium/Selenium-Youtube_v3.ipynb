{
 "cells": [
  {
   "cell_type": "markdown",
   "id": "65304199",
   "metadata": {},
   "source": [
    "# YOUTUBE ANALYTICS - ABENDI"
   ]
  },
  {
   "cell_type": "markdown",
   "id": "886c394b",
   "metadata": {},
   "source": [
    "### OBJETIVO\n",
    "\n",
    "Coletar de forma automática dados através da ferramenta de web scraping Selenium para a geração de dashboards no Power BI para facilitar a tomada de decisão do Marketing e Diretoria.\n",
    "\n",
    "### Métricas coletadas\n",
    "\n",
    "- Relatórios no formato CSV.\n",
    "\n",
    "### Infomações de acesso\n",
    "\n",
    "- Usuário: USUÁRIO DE ACESSO A CONTA DO YOUTUBE\n",
    "- Senha: SENHA DO USUÁRIO"
   ]
  },
  {
   "cell_type": "markdown",
   "id": "38b15dbc",
   "metadata": {},
   "source": [
    "## 1 - IMPORTAÇÕES DE PACOTES"
   ]
  },
  {
   "cell_type": "code",
   "execution_count": null,
   "id": "a1aa9c64",
   "metadata": {
    "ExecuteTime": {
     "end_time": "2023-01-30T12:04:34.845514Z",
     "start_time": "2023-01-30T12:04:33.950830Z"
    }
   },
   "outputs": [],
   "source": [
    "from selenium import webdriver\n",
    "from selenium.webdriver.chrome.service import Service\n",
    "from webdriver_manager.chrome import ChromeDriverManager\n",
    "from selenium.webdriver.support.ui import WebDriverWait\n",
    "from selenium.webdriver.support import expected_conditions as ec\n",
    "from selenium.webdriver.common.action_chains import ActionChains\n",
    "from selenium.webdriver.chrome.options import Options\n",
    "from selenium.webdriver.common.alert import Alert\n",
    "import undetected_chromedriver.v2 as uc\n",
    "from selenium.webdriver.common.by import By\n",
    "import os\n",
    "import pandas as pd\n",
    "from selenium.webdriver.common.keys import Keys\n",
    "from selenium.webdriver.support.select import Select\n",
    "import time\n",
    "from datetime import date, timedelta\n",
    "import os\n",
    "from zipfile import ZipFile\n",
    "import pandas as pd\n",
    "import shutil\n",
    "import pyodbc\n",
    "import smtplib\n",
    "import email.message"
   ]
  },
  {
   "cell_type": "markdown",
   "id": "f26a6d22",
   "metadata": {},
   "source": [
    "## 2 - FUNÇÕES"
   ]
  },
  {
   "cell_type": "code",
   "execution_count": 2,
   "id": "f26dea7e",
   "metadata": {
    "ExecuteTime": {
     "end_time": "2023-01-30T12:04:34.861477Z",
     "start_time": "2023-01-30T12:04:34.848508Z"
    }
   },
   "outputs": [],
   "source": [
    "def clean_folder(new_folder):\n",
    "    # Limpando a pasta para o próximo relatório\n",
    "\n",
    "    for files in os.listdir(new_folder):\n",
    "        path = os.path.join(new_folder, files)\n",
    "        try:\n",
    "            shutil.rmtree(path)\n",
    "        except OSError:\n",
    "            os.remove(path)\n",
    "            \n",
    "            \n",
    "def set_folder():\n",
    "    # Definir diretório de trabalho\n",
    "\n",
    "    new_folder = r'CAMINHO DA PASTA\\Downloads'\n",
    "    os.chdir(new_folder)\n",
    "    \n",
    "    return new_folder"
   ]
  },
  {
   "cell_type": "markdown",
   "id": "1897db97",
   "metadata": {},
   "source": [
    "## 3 - DEFINIÇÃO DE PARÂMETROS"
   ]
  },
  {
   "cell_type": "code",
   "execution_count": 3,
   "id": "2710193f",
   "metadata": {
    "ExecuteTime": {
     "end_time": "2023-01-30T12:04:34.877432Z",
     "start_time": "2023-01-30T12:04:34.863468Z"
    }
   },
   "outputs": [],
   "source": [
    "folder = r'CAMINHO ONDE OS DADOS SERÃO SALVOS'\n",
    "os.chdir(folder)\n",
    "\n",
    "# Definindo a data do dia anterior\n",
    "data = date.today() - timedelta(days=1)\n",
    "data = str(data.strftime('%d/%m/%Y'))\n",
    "\n",
    "# Limpando a pasta download\n",
    "clean_folder(set_folder())\n",
    "\n",
    "remetente = 'REMETENTE DO E-MAIL' \n",
    "senha = 'SENHA DE AUTORIZAÇÃO DO CÓDIGO PARA USAR A CONTA DO GOOGLE'"
   ]
  },
  {
   "cell_type": "markdown",
   "id": "5ef46f15",
   "metadata": {},
   "source": [
    "## 4 - INICIALIZAÇÃO DO NAVEGADOR"
   ]
  },
  {
   "cell_type": "code",
   "execution_count": 4,
   "id": "5c8760b9",
   "metadata": {
    "ExecuteTime": {
     "end_time": "2023-01-30T12:04:41.432412Z",
     "start_time": "2023-01-30T12:04:34.879426Z"
    }
   },
   "outputs": [],
   "source": [
    "# Inicializando o Navegador com uma página definida\n",
    "options = webdriver.ChromeOptions()\n",
    "options.add_argument(r'--user-data-dir=CAMINHO DO PERFIL DO GOOGLE CHROME')\n",
    "service = Service(ChromeDriverManager().install())\n",
    "browser = uc.Chrome(service=service, options=options)"
   ]
  },
  {
   "cell_type": "markdown",
   "id": "3d1add90",
   "metadata": {},
   "source": [
    "## 5 - ACESSANDO A PÁGINA DO YOUTUBE STUDIO"
   ]
  },
  {
   "cell_type": "code",
   "execution_count": 5,
   "id": "7977693c",
   "metadata": {
    "ExecuteTime": {
     "end_time": "2023-01-30T12:05:06.934254Z",
     "start_time": "2023-01-30T12:04:41.434408Z"
    }
   },
   "outputs": [],
   "source": [
    "# Acessando uma página web\n",
    "browser.get('https://studio.youtube.com')\n",
    "browser.maximize_window()\n",
    "time.sleep(5)\n",
    "\n",
    "# Clicando em Estatísticas\n",
    "browser.get('https://studio.youtube.com/channel/CÓDIGO DO CANAL/analytics/tab-overview/period-default')"
   ]
  },
  {
   "cell_type": "markdown",
   "id": "0218730c",
   "metadata": {},
   "source": [
    "## 6 - RELATÓRIO QUE INSERE REGISTROS NA TABELA: tb_yt_main"
   ]
  },
  {
   "cell_type": "code",
   "execution_count": 6,
   "id": "b632d1c9",
   "metadata": {
    "ExecuteTime": {
     "end_time": "2023-01-30T12:05:08.453761Z",
     "start_time": "2023-01-30T12:05:06.937246Z"
    }
   },
   "outputs": [],
   "source": [
    "# Clicando no modo Avançado\n",
    "advanced_mode = WebDriverWait(browser,40).until(ec.presence_of_element_located((By.ID, 'advanced-analytics')))\n",
    "advanced_mode.click()\n",
    "time.sleep(1)"
   ]
  },
  {
   "cell_type": "code",
   "execution_count": 7,
   "id": "a80b7c83",
   "metadata": {
    "ExecuteTime": {
     "end_time": "2023-01-30T12:05:10.703650Z",
     "start_time": "2023-01-30T12:05:08.455749Z"
    }
   },
   "outputs": [],
   "source": [
    "# Clicando no menu DropDown do Modo Avançado\n",
    "dropdown_menu = WebDriverWait(browser,40).until(ec.presence_of_element_located((By.XPATH, '//*[@id=\"filter-date-rows\"]/yta-time-picker')))\n",
    "dropdown_menu.click()\n",
    "time.sleep(1)"
   ]
  },
  {
   "cell_type": "code",
   "execution_count": 8,
   "id": "0f21a303",
   "metadata": {
    "ExecuteTime": {
     "end_time": "2023-01-30T12:05:16.891660Z",
     "start_time": "2023-01-30T12:05:10.705608Z"
    }
   },
   "outputs": [],
   "source": [
    "# Clicando na opção Personalizado\n",
    "time.sleep(5)\n",
    "custom = WebDriverWait(browser,40).until(ec.presence_of_element_located((By.XPATH, '//*[@id=\"text-item-13\"]/ytcp-ve/div/div/yt-formatted-string')))\n",
    "custom.click()\n",
    "time.sleep(1)"
   ]
  },
  {
   "cell_type": "code",
   "execution_count": 9,
   "id": "1f7c182f",
   "metadata": {
    "ExecuteTime": {
     "end_time": "2023-01-30T12:05:16.923645Z",
     "start_time": "2023-01-30T12:05:16.893664Z"
    }
   },
   "outputs": [
    {
     "name": "stdout",
     "output_type": "stream",
     "text": [
      "02/01/2023\n"
     ]
    }
   ],
   "source": [
    "# Coletando o tipo/formato da informação do campo Data Inicial\n",
    "value = browser.find_element(By.ID, 'start-date').get_attribute('value')\n",
    "print(value)"
   ]
  },
  {
   "cell_type": "code",
   "execution_count": 10,
   "id": "ff45167e",
   "metadata": {
    "ExecuteTime": {
     "end_time": "2023-01-30T12:05:22.780674Z",
     "start_time": "2023-01-30T12:05:16.928577Z"
    }
   },
   "outputs": [],
   "source": [
    "time.sleep(5)\n",
    "# Apagando os caracteres do campo da Data Inicial\n",
    "for i in range(len(value)):\n",
    "    browser.find_element(By.ID, 'start-date').send_keys(Keys.BACKSPACE)"
   ]
  },
  {
   "cell_type": "code",
   "execution_count": 11,
   "id": "eca43fa1",
   "metadata": {
    "ExecuteTime": {
     "end_time": "2023-01-30T12:05:22.892377Z",
     "start_time": "2023-01-30T12:05:22.782669Z"
    }
   },
   "outputs": [],
   "source": [
    "# Inserindo a Data Inicial\n",
    "browser.find_element(By.ID,'start-date').send_keys(data)"
   ]
  },
  {
   "cell_type": "code",
   "execution_count": 12,
   "id": "ba4ea67d",
   "metadata": {
    "ExecuteTime": {
     "end_time": "2023-01-30T12:05:23.378087Z",
     "start_time": "2023-01-30T12:05:22.893375Z"
    }
   },
   "outputs": [],
   "source": [
    "# Apagando os caracteres do campo da Data Final\n",
    "for i in range(len(value)):\n",
    "    browser.find_element(By.ID, 'end-date').send_keys(Keys.BACKSPACE)"
   ]
  },
  {
   "cell_type": "code",
   "execution_count": 13,
   "id": "b40177c2",
   "metadata": {
    "ExecuteTime": {
     "end_time": "2023-01-30T12:05:24.488861Z",
     "start_time": "2023-01-30T12:05:23.381076Z"
    }
   },
   "outputs": [],
   "source": [
    "# Inserindo a Data Final\n",
    "time.sleep(1)\n",
    "browser.find_element(By.ID,'end-date').send_keys(data)"
   ]
  },
  {
   "cell_type": "code",
   "execution_count": 14,
   "id": "b2790929",
   "metadata": {
    "ExecuteTime": {
     "end_time": "2023-01-30T12:05:24.953619Z",
     "start_time": "2023-01-30T12:05:24.490816Z"
    }
   },
   "outputs": [],
   "source": [
    "# Apagando os caracteres do campo da Data Inicial\n",
    "for i in range(len(value)):\n",
    "    browser.find_element(By.ID, 'start-date').send_keys(Keys.BACKSPACE) "
   ]
  },
  {
   "cell_type": "code",
   "execution_count": 15,
   "id": "5c15806f",
   "metadata": {
    "ExecuteTime": {
     "end_time": "2023-01-30T12:05:25.046369Z",
     "start_time": "2023-01-30T12:05:24.955580Z"
    }
   },
   "outputs": [],
   "source": [
    "# Inserindo a Data Inicial\n",
    "browser.find_element(By.ID,'start-date').send_keys(data)"
   ]
  },
  {
   "cell_type": "code",
   "execution_count": 17,
   "id": "fcd0b1f0",
   "metadata": {
    "ExecuteTime": {
     "end_time": "2023-01-30T12:05:30.317275Z",
     "start_time": "2023-01-30T12:05:25.064289Z"
    }
   },
   "outputs": [],
   "source": [
    "# Clicando no botão Usar\n",
    "browser.find_element(By.ID, 'apply-button').click()\n",
    "time.sleep(5)"
   ]
  },
  {
   "cell_type": "code",
   "execution_count": 18,
   "id": "9b1e955f",
   "metadata": {
    "ExecuteTime": {
     "end_time": "2023-01-30T12:05:31.701583Z",
     "start_time": "2023-01-30T12:05:30.319270Z"
    }
   },
   "outputs": [],
   "source": [
    "# Clicando na opção \"Data\"\n",
    "data_dimension = WebDriverWait(browser,40).until(ec.presence_of_element_located((By.ID, 'DATE_DIMENSION')))\n",
    "data_dimension.click()\n",
    "time.sleep(1)"
   ]
  },
  {
   "cell_type": "code",
   "execution_count": 19,
   "id": "dc5937ea",
   "metadata": {
    "ExecuteTime": {
     "end_time": "2023-01-30T12:05:32.892729Z",
     "start_time": "2023-01-30T12:05:31.703577Z"
    }
   },
   "outputs": [],
   "source": [
    "# Clicando no \"+\" para adicionar mais métricas\n",
    "metric_add = WebDriverWait(browser,40).until(ec.presence_of_element_located((By.ID, 'add-metric-icon')))\n",
    "metric_add.click()\n",
    "time.sleep(1)"
   ]
  },
  {
   "cell_type": "code",
   "execution_count": 20,
   "id": "29645923",
   "metadata": {
    "ExecuteTime": {
     "end_time": "2023-01-30T12:05:34.055171Z",
     "start_time": "2023-01-30T12:05:32.894675Z"
    }
   },
   "outputs": [],
   "source": [
    "# Selecionando as métricas necessárias\n",
    "\n",
    "# Likes\n",
    "like_metric = WebDriverWait(browser,40).until(ec.presence_of_element_located((By.XPATH, '//*[@id=\"dialog-content\"]/div[1]/div[3]/div[4]/tp-yt-paper-item/span[2]')))\n",
    "like_metric.click()\n",
    "time.sleep(1)"
   ]
  },
  {
   "cell_type": "code",
   "execution_count": 21,
   "id": "cc6e9f8a",
   "metadata": {
    "ExecuteTime": {
     "end_time": "2023-01-30T12:05:35.213856Z",
     "start_time": "2023-01-30T12:05:34.057124Z"
    }
   },
   "outputs": [],
   "source": [
    "# Clicando no \"+\" para adicionar mais métricas\n",
    "metric_add = WebDriverWait(browser,40).until(ec.presence_of_element_located((By.ID, 'add-metric-icon')))\n",
    "metric_add.click()\n",
    "time.sleep(1)"
   ]
  },
  {
   "cell_type": "code",
   "execution_count": 22,
   "id": "0495f808",
   "metadata": {
    "ExecuteTime": {
     "end_time": "2023-01-30T12:05:36.375488Z",
     "start_time": "2023-01-30T12:05:35.215846Z"
    }
   },
   "outputs": [],
   "source": [
    "# Dislikes\n",
    "dislike_metric = WebDriverWait(browser,40).until(ec.presence_of_element_located((By.XPATH, '//*[@id=\"dialog-content\"]/div[1]/div[3]/div[5]/tp-yt-paper-item/span[2]')))\n",
    "dislike_metric. click()\n",
    "time.sleep(1)"
   ]
  },
  {
   "cell_type": "code",
   "execution_count": 23,
   "id": "d021ebe5",
   "metadata": {
    "ExecuteTime": {
     "end_time": "2023-01-30T12:05:37.544973Z",
     "start_time": "2023-01-30T12:05:36.377484Z"
    }
   },
   "outputs": [],
   "source": [
    "# Clicando no \"+\" para adicionar mais métricas\n",
    "metric_add = WebDriverWait(browser,40).until(ec.presence_of_element_located((By.ID, 'add-metric-icon')))\n",
    "metric_add.click()\n",
    "time.sleep(1)"
   ]
  },
  {
   "cell_type": "code",
   "execution_count": 24,
   "id": "03fb0db3",
   "metadata": {
    "ExecuteTime": {
     "end_time": "2023-01-30T12:05:38.727698Z",
     "start_time": "2023-01-30T12:05:37.546968Z"
    }
   },
   "outputs": [],
   "source": [
    "# Inscrições Obtidas\n",
    "obtained_metric = WebDriverWait(browser,40).until(ec.presence_of_element_located((By.XPATH, '//*[@id=\"dialog-content\"]/div[1]/div[3]/div[2]/tp-yt-paper-item/span[2]')))\n",
    "obtained_metric.click()\n",
    "time.sleep(1)"
   ]
  },
  {
   "cell_type": "code",
   "execution_count": 25,
   "id": "119cd52c",
   "metadata": {
    "ExecuteTime": {
     "end_time": "2023-01-30T12:05:39.878375Z",
     "start_time": "2023-01-30T12:05:38.729658Z"
    }
   },
   "outputs": [],
   "source": [
    "# Clicando no \"+\" para adicionar mais métricas\n",
    "metric_add = WebDriverWait(browser,40).until(ec.presence_of_element_located((By.ID, 'add-metric-icon')))\n",
    "metric_add.click()\n",
    "time.sleep(1)"
   ]
  },
  {
   "cell_type": "code",
   "execution_count": 26,
   "id": "b93c9a97",
   "metadata": {
    "ExecuteTime": {
     "end_time": "2023-01-30T12:05:40.966178Z",
     "start_time": "2023-01-30T12:05:39.880342Z"
    }
   },
   "outputs": [],
   "source": [
    "# Duração Média da Visualização\n",
    "meanview_metric = WebDriverWait(browser,40).until(ec.presence_of_element_located((By.XPATH, '//*[@id=\"dialog-content\"]/div[1]/div[1]/div[4]/tp-yt-paper-item/span[2]')))\n",
    "meanview_metric.click()\n",
    "time.sleep(1)"
   ]
  },
  {
   "cell_type": "code",
   "execution_count": 27,
   "id": "b5e4ac3a",
   "metadata": {
    "ExecuteTime": {
     "end_time": "2023-01-30T12:05:42.111126Z",
     "start_time": "2023-01-30T12:05:40.968173Z"
    }
   },
   "outputs": [],
   "source": [
    "# Clicando no \"+\" para adicionar mais métricas\n",
    "metric_add = WebDriverWait(browser,40).until(ec.presence_of_element_located((By.ID, 'add-metric-icon')))\n",
    "metric_add.click()\n",
    "time.sleep(1)"
   ]
  },
  {
   "cell_type": "code",
   "execution_count": 28,
   "id": "c3371db3",
   "metadata": {
    "ExecuteTime": {
     "end_time": "2023-01-30T12:05:43.286572Z",
     "start_time": "2023-01-30T12:05:42.120103Z"
    }
   },
   "outputs": [],
   "source": [
    "# Inscrições Perdidas\n",
    "loss = WebDriverWait(browser,40).until(ec.presence_of_element_located((By.XPATH, '//*[@id=\"dialog-content\"]/div[1]/div[3]/div[3]/tp-yt-paper-item/span[2]')))\n",
    "loss.click()\n",
    "time.sleep(1)"
   ]
  },
  {
   "cell_type": "code",
   "execution_count": 29,
   "id": "cd97ba2a",
   "metadata": {
    "ExecuteTime": {
     "end_time": "2023-01-30T12:05:44.429053Z",
     "start_time": "2023-01-30T12:05:43.288529Z"
    }
   },
   "outputs": [],
   "source": [
    "# Clicando no \"+\" para adicionar mais métricas\n",
    "metric_add = WebDriverWait(browser,40).until(ec.presence_of_element_located((By.ID, 'add-metric-icon')))\n",
    "metric_add.click()\n",
    "time.sleep(1)"
   ]
  },
  {
   "cell_type": "code",
   "execution_count": 30,
   "id": "c6a3bbfb",
   "metadata": {
    "ExecuteTime": {
     "end_time": "2023-01-30T12:05:45.626733Z",
     "start_time": "2023-01-30T12:05:44.431048Z"
    }
   },
   "outputs": [],
   "source": [
    "# Impressões\n",
    "impressions_metric = WebDriverWait(browser,40).until(ec.presence_of_element_located((By.XPATH, '//*[@id=\"dialog-content\"]/div[1]/div[2]/div[2]/tp-yt-paper-item/span[2]')))\n",
    "impressions_metric.click()\n",
    "time.sleep(1)"
   ]
  },
  {
   "cell_type": "code",
   "execution_count": 31,
   "id": "5cbe92fa",
   "metadata": {
    "ExecuteTime": {
     "end_time": "2023-01-30T12:05:46.962437Z",
     "start_time": "2023-01-30T12:05:45.628729Z"
    }
   },
   "outputs": [],
   "source": [
    "# Clicando no \"+\" para adicionar mais métricas\n",
    "metric_add = WebDriverWait(browser,40).until(ec.presence_of_element_located((By.ID, 'add-metric-icon')))\n",
    "metric_add.click()\n",
    "time.sleep(1)"
   ]
  },
  {
   "cell_type": "code",
   "execution_count": 32,
   "id": "da36ce75",
   "metadata": {
    "ExecuteTime": {
     "end_time": "2023-01-30T12:05:48.133359Z",
     "start_time": "2023-01-30T12:05:46.964433Z"
    }
   },
   "outputs": [],
   "source": [
    "# Inscritos\n",
    "subscribers_metric = WebDriverWait(browser,40).until(ec.presence_of_element_located((By.XPATH, '//*[@id=\"dialog-content\"]/div[1]/div[1]/div[6]/tp-yt-paper-item/span[2]')))\n",
    "subscribers_metric.click()\n",
    "time.sleep(1)"
   ]
  },
  {
   "cell_type": "code",
   "execution_count": 33,
   "id": "d7e1dfc3",
   "metadata": {
    "ExecuteTime": {
     "end_time": "2023-01-30T12:05:48.164267Z",
     "start_time": "2023-01-30T12:05:48.135318Z"
    }
   },
   "outputs": [],
   "source": [
    "# Refresh browser\n",
    "browser.refresh()"
   ]
  },
  {
   "cell_type": "code",
   "execution_count": 34,
   "id": "d2dcb316",
   "metadata": {
    "ExecuteTime": {
     "end_time": "2023-01-30T12:05:53.448203Z",
     "start_time": "2023-01-30T12:05:48.166237Z"
    }
   },
   "outputs": [],
   "source": [
    "# Clicando no Botão Exportar\n",
    "export_buttom = WebDriverWait(browser,40).until(ec.presence_of_element_located((By.ID, 'export-button')))\n",
    "export_buttom.click()\n",
    "time.sleep(1)"
   ]
  },
  {
   "cell_type": "code",
   "execution_count": 35,
   "id": "f7b66c5a",
   "metadata": {
    "ExecuteTime": {
     "end_time": "2023-01-30T12:05:58.549113Z",
     "start_time": "2023-01-30T12:05:53.451157Z"
    }
   },
   "outputs": [],
   "source": [
    "# Clicando no tipo de relatório CSV\n",
    "csv_report = WebDriverWait(browser,40).until(ec.presence_of_element_located((By.ID, 'text-item-1')))\n",
    "csv_report.click()\n",
    "time.sleep(5)"
   ]
  },
  {
   "cell_type": "code",
   "execution_count": 36,
   "id": "f98f39c4",
   "metadata": {
    "ExecuteTime": {
     "end_time": "2023-01-30T12:05:58.565043Z",
     "start_time": "2023-01-30T12:05:58.551078Z"
    }
   },
   "outputs": [],
   "source": [
    "# Renomeando relatório Youtube compactado\n",
    "file_name = os.listdir()[0]\n",
    "\n",
    "os.renames(file_name, 'Report.zip')"
   ]
  },
  {
   "cell_type": "code",
   "execution_count": 37,
   "id": "173aa021",
   "metadata": {
    "ExecuteTime": {
     "end_time": "2023-01-30T12:05:58.580001Z",
     "start_time": "2023-01-30T12:05:58.568033Z"
    }
   },
   "outputs": [],
   "source": [
    "# Descompactando o arquivo\n",
    "with ZipFile('Report.zip','r') as zip:\n",
    "    zip.extractall(set_folder())"
   ]
  },
  {
   "cell_type": "code",
   "execution_count": 38,
   "id": "bdeb3ea3",
   "metadata": {
    "ExecuteTime": {
     "end_time": "2023-01-30T12:05:58.594988Z",
     "start_time": "2023-01-30T12:05:58.581997Z"
    }
   },
   "outputs": [],
   "source": [
    "# Carregando o arquivo para um dataframe pandas\n",
    "df = pd.read_csv('Dados da tabela.csv')"
   ]
  },
  {
   "cell_type": "code",
   "execution_count": 39,
   "id": "539a92c2",
   "metadata": {
    "ExecuteTime": {
     "end_time": "2023-01-30T12:05:58.610950Z",
     "start_time": "2023-01-30T12:05:58.596957Z"
    }
   },
   "outputs": [],
   "source": [
    "# Removendo a linha 0 \n",
    "df = df.drop(index=0)"
   ]
  },
  {
   "cell_type": "code",
   "execution_count": 41,
   "id": "aa4591dc",
   "metadata": {
    "ExecuteTime": {
     "end_time": "2023-01-30T12:05:58.658522Z",
     "start_time": "2023-01-30T12:05:58.644551Z"
    }
   },
   "outputs": [],
   "source": [
    "# Ordenando as colunas conforme tabela no DW\n",
    "df = df[['Data','Inscrições obtidas','Marcações \"Não gostei\"','Marcações \"Gostei\"','Impressões','Inscritos',\n",
    "         'Visualizações','Duração média da visualização','Receita estimada (USD)','Inscrições perdidas']]"
   ]
  },
  {
   "cell_type": "code",
   "execution_count": 42,
   "id": "35325643",
   "metadata": {
    "ExecuteTime": {
     "end_time": "2023-01-30T12:05:58.737340Z",
     "start_time": "2023-01-30T12:05:58.661486Z"
    }
   },
   "outputs": [],
   "source": [
    "# Salvando o arquivo\n",
    "df.to_csv(r'PASTA ONDE O RELATÓRIO SERÁ SALVO\\tb_yt_main.csv', index=False, encoding='utf-8')"
   ]
  },
  {
   "cell_type": "code",
   "execution_count": 43,
   "id": "23444bbd",
   "metadata": {
    "ExecuteTime": {
     "end_time": "2023-01-30T12:05:58.752301Z",
     "start_time": "2023-01-30T12:05:58.739336Z"
    }
   },
   "outputs": [],
   "source": [
    "# Limpando a pasta download\n",
    "clean_folder(set_folder())"
   ]
  },
  {
   "cell_type": "markdown",
   "id": "9e1deb70",
   "metadata": {},
   "source": [
    "## 7 - RELATÓRIO QUE INSERE REGISTROS NAS TABELAS: tb_yt_playlists e tb_yt_playlists_geral_dia"
   ]
  },
  {
   "cell_type": "code",
   "execution_count": 44,
   "id": "7fa6434e",
   "metadata": {
    "ExecuteTime": {
     "end_time": "2023-01-30T12:06:03.746109Z",
     "start_time": "2023-01-30T12:05:58.755294Z"
    }
   },
   "outputs": [],
   "source": [
    "browser.get('https://studio.youtube.com/channel/CÓDIGO DO CANAL/analytics/tab-overview/period-default/explore?entity_type=CHANNEL&entity_id=ID DO CANAL&r_dimensions=IN_CURATED_CONTENT&r_values=%27IN_CURATED_CONTENT%27&r_inclusive_starts=&r_exclusive_ends=&time_period=1663052400000%2C1665471600000&explore_type=TABLE_AND_CHART&metric=PLAYLIST_STARTS&granularity=DAY&t_metrics=PLAYLIST_STARTS&t_metrics=PLAYLIST_VIEWS&t_metrics=PLAYLIST_WATCH_TIME_HOURS&t_metrics=PLAYLIST_AVERAGE_WATCH_TIME&dimension=PLAYLIST&o_column=PLAYLIST_STARTS&o_direction=ANALYTICS_ORDER_DIRECTION_DESC')"
   ]
  },
  {
   "cell_type": "code",
   "execution_count": 45,
   "id": "c3b3090c",
   "metadata": {
    "ExecuteTime": {
     "end_time": "2023-01-30T12:06:05.041436Z",
     "start_time": "2023-01-30T12:06:03.750098Z"
    }
   },
   "outputs": [],
   "source": [
    "# Clicando no menu DropDown do Modo Avançado\n",
    "dropdown_menu = WebDriverWait(browser,40).until(ec.presence_of_element_located((By.XPATH, '//*[@id=\"filter-date-rows\"]/yta-time-picker')))\n",
    "dropdown_menu.click()\n",
    "time.sleep(1)"
   ]
  },
  {
   "cell_type": "code",
   "execution_count": 46,
   "id": "a7a6278a",
   "metadata": {
    "ExecuteTime": {
     "end_time": "2023-01-30T12:06:06.261789Z",
     "start_time": "2023-01-30T12:06:05.044428Z"
    }
   },
   "outputs": [],
   "source": [
    "# Clicando na opção Personalizado\n",
    "custom = WebDriverWait(browser,40).until(ec.presence_of_element_located((By.XPATH, '//*[@id=\"text-item-13\"]/ytcp-ve/div/div/yt-formatted-string')))\n",
    "custom.click()\n",
    "time.sleep(1)"
   ]
  },
  {
   "cell_type": "code",
   "execution_count": 47,
   "id": "722c8981",
   "metadata": {
    "ExecuteTime": {
     "end_time": "2023-01-30T12:06:06.292707Z",
     "start_time": "2023-01-30T12:06:06.263785Z"
    }
   },
   "outputs": [
    {
     "name": "stdout",
     "output_type": "stream",
     "text": [
      "13/09/2022\n"
     ]
    }
   ],
   "source": [
    "# Coletando o tipo/formato da informação do campo Data Inicial\n",
    "value = browser.find_element(By.ID, 'start-date').get_attribute('value')\n",
    "print(value)"
   ]
  },
  {
   "cell_type": "code",
   "execution_count": 48,
   "id": "1bc40df5",
   "metadata": {
    "ExecuteTime": {
     "end_time": "2023-01-30T12:06:06.307669Z",
     "start_time": "2023-01-30T12:06:06.294704Z"
    }
   },
   "outputs": [],
   "source": [
    "# Definindo a data do dia anterior\n",
    "data = date.today() - timedelta(days=1)\n",
    "data = str(data.strftime('%d/%m/%Y'))"
   ]
  },
  {
   "cell_type": "code",
   "execution_count": 49,
   "id": "396f9d96",
   "metadata": {
    "ExecuteTime": {
     "end_time": "2023-01-30T12:06:06.924027Z",
     "start_time": "2023-01-30T12:06:06.310660Z"
    }
   },
   "outputs": [],
   "source": [
    "# Apagando os caracteres do campo da Data Inicial\n",
    "for i in range(len(value)):\n",
    "    browser.find_element(By.ID, 'start-date').send_keys(Keys.BACKSPACE)"
   ]
  },
  {
   "cell_type": "code",
   "execution_count": 50,
   "id": "4153302a",
   "metadata": {
    "ExecuteTime": {
     "end_time": "2023-01-30T12:06:07.065648Z",
     "start_time": "2023-01-30T12:06:06.927019Z"
    }
   },
   "outputs": [],
   "source": [
    "# Inserindo a Data Inicial\n",
    "browser.find_element(By.ID,'start-date').send_keys(data)"
   ]
  },
  {
   "cell_type": "code",
   "execution_count": 51,
   "id": "974d73f7",
   "metadata": {
    "ExecuteTime": {
     "end_time": "2023-01-30T12:06:08.864029Z",
     "start_time": "2023-01-30T12:06:07.068642Z"
    }
   },
   "outputs": [],
   "source": [
    "# Apagando os caracteres do campo da Data Final\n",
    "for i in range(len(value)):\n",
    "    browser.find_element(By.ID, 'end-date').send_keys(Keys.BACKSPACE)"
   ]
  },
  {
   "cell_type": "code",
   "execution_count": 52,
   "id": "4d59e573",
   "metadata": {
    "ExecuteTime": {
     "end_time": "2023-01-30T12:06:10.008976Z",
     "start_time": "2023-01-30T12:06:08.867021Z"
    }
   },
   "outputs": [],
   "source": [
    "# Inserindo a Data Final\n",
    "time.sleep(1)\n",
    "browser.find_element(By.ID,'end-date').send_keys(data)"
   ]
  },
  {
   "cell_type": "code",
   "execution_count": 53,
   "id": "3d69c0c3",
   "metadata": {
    "ExecuteTime": {
     "end_time": "2023-01-30T12:06:10.568502Z",
     "start_time": "2023-01-30T12:06:10.010972Z"
    }
   },
   "outputs": [],
   "source": [
    "# Apagando os caracteres do campo da Data Inicial\n",
    "for i in range(len(value)):\n",
    "    browser.find_element(By.ID, 'start-date').send_keys(Keys.BACKSPACE)"
   ]
  },
  {
   "cell_type": "code",
   "execution_count": 54,
   "id": "e64e5f74",
   "metadata": {
    "ExecuteTime": {
     "end_time": "2023-01-30T12:06:10.676199Z",
     "start_time": "2023-01-30T12:06:10.571479Z"
    }
   },
   "outputs": [],
   "source": [
    "# Inserindo a Data Inicial\n",
    "browser.find_element(By.ID,'start-date').send_keys(data)"
   ]
  },
  {
   "cell_type": "code",
   "execution_count": 55,
   "id": "bd7ebefa",
   "metadata": {
    "ExecuteTime": {
     "end_time": "2023-01-30T12:06:15.910945Z",
     "start_time": "2023-01-30T12:06:10.678193Z"
    }
   },
   "outputs": [],
   "source": [
    "# Clicando no botão Usar\n",
    "browser.find_element(By.ID, 'apply-button').click()\n",
    "time.sleep(5)"
   ]
  },
  {
   "cell_type": "code",
   "execution_count": 56,
   "id": "a4b8ab6e",
   "metadata": {
    "ExecuteTime": {
     "end_time": "2023-01-30T12:06:15.988738Z",
     "start_time": "2023-01-30T12:06:15.913939Z"
    }
   },
   "outputs": [],
   "source": [
    "# Refresh browser\n",
    "browser.refresh()"
   ]
  },
  {
   "cell_type": "code",
   "execution_count": 57,
   "id": "b6e9bf39",
   "metadata": {
    "ExecuteTime": {
     "end_time": "2023-01-30T12:06:20.394337Z",
     "start_time": "2023-01-30T12:06:15.990734Z"
    }
   },
   "outputs": [],
   "source": [
    "# Clicando no Botão Exportar\n",
    "export_buttom = WebDriverWait(browser,40).until(ec.presence_of_element_located((By.ID, 'export-button')))\n",
    "export_buttom.click()\n",
    "time.sleep(1)"
   ]
  },
  {
   "cell_type": "code",
   "execution_count": 58,
   "id": "89ed2f8a",
   "metadata": {
    "ExecuteTime": {
     "end_time": "2023-01-30T12:06:25.488804Z",
     "start_time": "2023-01-30T12:06:20.396332Z"
    }
   },
   "outputs": [],
   "source": [
    "# Clicando no tipo de relatório CSV\n",
    "csv_report = WebDriverWait(browser,40).until(ec.presence_of_element_located((By.ID, 'text-item-1')))\n",
    "csv_report.click()\n",
    "time.sleep(5)"
   ]
  },
  {
   "cell_type": "code",
   "execution_count": 59,
   "id": "46b47845",
   "metadata": {
    "ExecuteTime": {
     "end_time": "2023-01-30T12:06:25.504762Z",
     "start_time": "2023-01-30T12:06:25.491797Z"
    }
   },
   "outputs": [],
   "source": [
    "# Renomeando relatório Youtube compactado\n",
    "file_name = os.listdir()[0]\n",
    "\n",
    "os.renames(file_name, 'Report.zip')"
   ]
  },
  {
   "cell_type": "code",
   "execution_count": 60,
   "id": "a45b864b",
   "metadata": {
    "ExecuteTime": {
     "end_time": "2023-01-30T12:06:25.520719Z",
     "start_time": "2023-01-30T12:06:25.508752Z"
    }
   },
   "outputs": [],
   "source": [
    "# Descompactando o arquivo\n",
    "with ZipFile('Report.zip','r') as zip:\n",
    "    zip.extractall(set_folder()) "
   ]
  },
  {
   "cell_type": "code",
   "execution_count": 61,
   "id": "03b6af80",
   "metadata": {
    "ExecuteTime": {
     "end_time": "2023-01-30T12:06:25.550641Z",
     "start_time": "2023-01-30T12:06:25.525707Z"
    }
   },
   "outputs": [],
   "source": [
    "# Carregando o arquivo para um dataframe pandas\n",
    "df = pd.read_csv('Dados da tabela.csv')"
   ]
  },
  {
   "cell_type": "code",
   "execution_count": 62,
   "id": "a29c7093",
   "metadata": {
    "ExecuteTime": {
     "end_time": "2023-01-30T12:06:25.566597Z",
     "start_time": "2023-01-30T12:06:25.554630Z"
    }
   },
   "outputs": [],
   "source": [
    "df_total_dia = df.head(1)"
   ]
  },
  {
   "cell_type": "code",
   "execution_count": 63,
   "id": "1cff2eea",
   "metadata": {
    "ExecuteTime": {
     "end_time": "2023-01-30T12:06:25.581557Z",
     "start_time": "2023-01-30T12:06:25.570586Z"
    }
   },
   "outputs": [],
   "source": [
    "# Removendo a linha 0 \n",
    "df = df.drop(index=0)"
   ]
  },
  {
   "cell_type": "code",
   "execution_count": 64,
   "id": "4745ba9a",
   "metadata": {
    "ExecuteTime": {
     "end_time": "2023-01-30T12:06:25.597515Z",
     "start_time": "2023-01-30T12:06:25.585547Z"
    }
   },
   "outputs": [],
   "source": [
    "# Inserindo a data de coleta dentro do dataframe\n",
    "df['Data'] = data\n",
    "df_total_dia['Data'] = data"
   ]
  },
  {
   "cell_type": "code",
   "execution_count": 65,
   "id": "34c37a78",
   "metadata": {
    "ExecuteTime": {
     "end_time": "2023-01-30T12:06:25.612475Z",
     "start_time": "2023-01-30T12:06:25.601505Z"
    }
   },
   "outputs": [],
   "source": [
    "# Reindexando o dataframe\n",
    "df.reset_index(inplace=True)\n",
    "df.drop(columns='index', inplace=True)\n",
    "\n",
    "df_total_dia.reset_index(inplace=True)\n",
    "df_total_dia.drop(columns='index', inplace=True)"
   ]
  },
  {
   "cell_type": "code",
   "execution_count": 67,
   "id": "82fa4b42",
   "metadata": {
    "ExecuteTime": {
     "end_time": "2023-01-30T12:06:25.644389Z",
     "start_time": "2023-01-30T12:06:25.633420Z"
    }
   },
   "outputs": [],
   "source": [
    "# Ordenando as colunas conforme tabela no DW\n",
    "df = df[['Data','Playlist','Título da playlist','Visualizações da playlist',\n",
    "         'Duração média de visualização da playlist']] \n",
    "\n",
    "df_total_dia = df_total_dia[['Data','Playlist','Título da playlist','Visualizações da playlist',\n",
    "                             'Duração média de visualização da playlist']] "
   ]
  },
  {
   "cell_type": "code",
   "execution_count": 68,
   "id": "93b771e3",
   "metadata": {
    "ExecuteTime": {
     "end_time": "2023-01-30T12:06:25.660347Z",
     "start_time": "2023-01-30T12:06:25.648380Z"
    }
   },
   "outputs": [],
   "source": [
    "# Preenchendo valores NA\n",
    "df = df.fillna(0.0)\n",
    "df_total_dia = df_total_dia.fillna(0.0)"
   ]
  },
  {
   "cell_type": "code",
   "execution_count": 69,
   "id": "b4dd79fc",
   "metadata": {
    "ExecuteTime": {
     "end_time": "2023-01-30T12:06:25.722185Z",
     "start_time": "2023-01-30T12:06:25.663340Z"
    }
   },
   "outputs": [],
   "source": [
    "# Salvando o arquivo\n",
    "df.to_csv(r'PASTA ONDE O RELATÓRIO SERÁ SALVO\\tb_yt_playlists.csv', index=False, encoding='utf-8')\n",
    "df_total_dia.to_csv(r'PASTA ONDE O RELATÓRIO SERÁ SALVO\\tb_yt_playlists_geral_dia.csv', index=False, encoding='utf-8')"
   ]
  },
  {
   "cell_type": "code",
   "execution_count": 70,
   "id": "0fdd960c",
   "metadata": {
    "ExecuteTime": {
     "end_time": "2023-01-30T12:06:25.738140Z",
     "start_time": "2023-01-30T12:06:25.725174Z"
    }
   },
   "outputs": [],
   "source": [
    "# Limpando a pasta para o próximo relatório\n",
    "clean_folder(set_folder())"
   ]
  },
  {
   "cell_type": "markdown",
   "id": "8240fceb",
   "metadata": {},
   "source": [
    "## 8 - RELATÓRIO QUE INSERE REGISTROS NAS TABELAS: tb_yt_videos e tb_yt_videos_geral_dia"
   ]
  },
  {
   "cell_type": "code",
   "execution_count": 71,
   "id": "37c8fdc1",
   "metadata": {
    "ExecuteTime": {
     "end_time": "2023-01-30T12:06:30.971894Z",
     "start_time": "2023-01-30T12:06:25.742134Z"
    }
   },
   "outputs": [],
   "source": [
    "# Clicando na opção \"Conteúdo\"\n",
    "browser.find_element(By.XPATH, '//*[@id=\"VIDEO\"]/div/ytcp-ve/span').click()\n",
    "time.sleep(5)"
   ]
  },
  {
   "cell_type": "code",
   "execution_count": 72,
   "id": "7c288298",
   "metadata": {
    "ExecuteTime": {
     "end_time": "2023-01-30T12:06:32.331908Z",
     "start_time": "2023-01-30T12:06:30.974887Z"
    }
   },
   "outputs": [],
   "source": [
    "# Clicando no \"+\" para adicionar mais métricas\n",
    "metric_add = WebDriverWait(browser,40).until(ec.presence_of_element_located((By.ID, 'add-metric-icon')))\n",
    "metric_add.click()\n",
    "time.sleep(1)"
   ]
  },
  {
   "cell_type": "code",
   "execution_count": 73,
   "id": "ee26fa99",
   "metadata": {
    "ExecuteTime": {
     "end_time": "2023-01-30T12:06:33.563285Z",
     "start_time": "2023-01-30T12:06:32.336906Z"
    }
   },
   "outputs": [],
   "source": [
    "# Adicionando Métricas\n",
    "\n",
    "# Likes\n",
    "likes = WebDriverWait(browser,30).until(ec.presence_of_element_located((By.XPATH, '//*[@id=\"dialog-content\"]/div[1]/div[3]/div[4]/tp-yt-paper-item/span[2]')))\n",
    "likes.click()\n",
    "time.sleep(1)"
   ]
  },
  {
   "cell_type": "code",
   "execution_count": 74,
   "id": "88ea601a",
   "metadata": {
    "ExecuteTime": {
     "end_time": "2023-01-30T12:06:35.393295Z",
     "start_time": "2023-01-30T12:06:33.567275Z"
    }
   },
   "outputs": [],
   "source": [
    "# Clicando no \"+\" para adicionar mais métricas\n",
    "metric_add = WebDriverWait(browser,40).until(ec.presence_of_element_located((By.ID, 'add-metric-icon')))\n",
    "metric_add.click()\n",
    "time.sleep(1)"
   ]
  },
  {
   "cell_type": "code",
   "execution_count": 75,
   "id": "9daaa8d9",
   "metadata": {
    "ExecuteTime": {
     "end_time": "2023-01-30T12:06:36.630875Z",
     "start_time": "2023-01-30T12:06:35.395292Z"
    }
   },
   "outputs": [],
   "source": [
    "# Dislikes\n",
    "dislikes = WebDriverWait(browser,30).until(ec.presence_of_element_located((By.XPATH, '//*[@id=\"dialog-content\"]/div[1]/div[3]/div[5]/tp-yt-paper-item/span[2]')))\n",
    "dislikes. click()\n",
    "time.sleep(1)"
   ]
  },
  {
   "cell_type": "code",
   "execution_count": 76,
   "id": "76bbe6ef",
   "metadata": {
    "ExecuteTime": {
     "end_time": "2023-01-30T12:06:38.119914Z",
     "start_time": "2023-01-30T12:06:36.634871Z"
    }
   },
   "outputs": [],
   "source": [
    "# Clicando no \"+\" para adicionar mais métricas\n",
    "metric_add = WebDriverWait(browser,40).until(ec.presence_of_element_located((By.ID, 'add-metric-icon')))\n",
    "metric_add.click()\n",
    "time.sleep(1)"
   ]
  },
  {
   "cell_type": "code",
   "execution_count": 77,
   "id": "d5b89ff5",
   "metadata": {
    "ExecuteTime": {
     "end_time": "2023-01-30T12:06:39.378704Z",
     "start_time": "2023-01-30T12:06:38.124901Z"
    }
   },
   "outputs": [],
   "source": [
    "# Inscrições Obtidas\n",
    "new_subscribers = WebDriverWait(browser,30).until(ec.presence_of_element_located((By.XPATH, '//*[@id=\"dialog-content\"]/div[1]/div[3]/div[2]/tp-yt-paper-item/span[2]')))\n",
    "new_subscribers.click()\n",
    "time.sleep(1)"
   ]
  },
  {
   "cell_type": "code",
   "execution_count": 78,
   "id": "550cc536",
   "metadata": {
    "ExecuteTime": {
     "end_time": "2023-01-30T12:06:41.150820Z",
     "start_time": "2023-01-30T12:06:39.380700Z"
    }
   },
   "outputs": [],
   "source": [
    "# Clicando no \"+\" para adicionar mais métricas\n",
    "metric_add = WebDriverWait(browser,40).until(ec.presence_of_element_located((By.ID, 'add-metric-icon')))\n",
    "metric_add.click()\n",
    "time.sleep(1)"
   ]
  },
  {
   "cell_type": "code",
   "execution_count": 79,
   "id": "f15291bb",
   "metadata": {
    "ExecuteTime": {
     "end_time": "2023-01-30T12:06:42.453918Z",
     "start_time": "2023-01-30T12:06:41.152815Z"
    }
   },
   "outputs": [],
   "source": [
    "# Inscrições Perdidas\n",
    "lost_subscribers = WebDriverWait(browser,30).until(ec.presence_of_element_located((By.XPATH, '//*[@id=\"dialog-content\"]/div[1]/div[3]/div[3]/tp-yt-paper-item/span[2]')))\n",
    "lost_subscribers.click()\n",
    "time.sleep(1)"
   ]
  },
  {
   "cell_type": "code",
   "execution_count": 80,
   "id": "aeb03ef6",
   "metadata": {
    "ExecuteTime": {
     "end_time": "2023-01-30T12:06:44.110698Z",
     "start_time": "2023-01-30T12:06:42.457909Z"
    }
   },
   "outputs": [],
   "source": [
    "# Clicando no \"+\" para adicionar mais métricas\n",
    "metric_add = WebDriverWait(browser,40).until(ec.presence_of_element_located((By.ID, 'add-metric-icon')))\n",
    "metric_add.click()\n",
    "time.sleep(1)"
   ]
  },
  {
   "cell_type": "code",
   "execution_count": 81,
   "id": "c1d37281",
   "metadata": {
    "ExecuteTime": {
     "end_time": "2023-01-30T12:06:45.374678Z",
     "start_time": "2023-01-30T12:06:44.113691Z"
    }
   },
   "outputs": [],
   "source": [
    "# Inscritos\n",
    "subscribers = WebDriverWait(browser,30).until(ec.presence_of_element_located((By.XPATH, '//*[@id=\"dialog-content\"]/div[1]/div[1]/div[6]/tp-yt-paper-item/span[2]')))\n",
    "subscribers.click()\n",
    "time.sleep(1)"
   ]
  },
  {
   "cell_type": "code",
   "execution_count": 82,
   "id": "93d3afee",
   "metadata": {
    "ExecuteTime": {
     "end_time": "2023-01-30T12:06:47.158940Z",
     "start_time": "2023-01-30T12:06:45.401580Z"
    }
   },
   "outputs": [],
   "source": [
    "# Clicando no \"+\" para adicionar mais métricas\n",
    "metric_add = WebDriverWait(browser,40).until(ec.presence_of_element_located((By.ID, 'add-metric-icon')))\n",
    "metric_add.click()\n",
    "time.sleep(1)"
   ]
  },
  {
   "cell_type": "code",
   "execution_count": 83,
   "id": "968c9d72",
   "metadata": {
    "ExecuteTime": {
     "end_time": "2023-01-30T12:06:48.439874Z",
     "start_time": "2023-01-30T12:06:47.160937Z"
    }
   },
   "outputs": [],
   "source": [
    "# Receita\n",
    "revenue = WebDriverWait(browser,30).until(ec.presence_of_element_located((By.XPATH, '//*[@id=\"dialog-content\"]/div[2]/div[1]/div[2]/tp-yt-paper-item/span[2]')))\n",
    "revenue.click()\n",
    "time.sleep(1)"
   ]
  },
  {
   "cell_type": "code",
   "execution_count": 84,
   "id": "3a0bffde",
   "metadata": {
    "ExecuteTime": {
     "end_time": "2023-01-30T12:06:49.601366Z",
     "start_time": "2023-01-30T12:06:48.441871Z"
    }
   },
   "outputs": [],
   "source": [
    "# Clicando no \"+\" para adicionar mais métricas\n",
    "metric_add = WebDriverWait(browser,40).until(ec.presence_of_element_located((By.ID, 'add-metric-icon')))\n",
    "metric_add.click()\n",
    "time.sleep(1)"
   ]
  },
  {
   "cell_type": "code",
   "execution_count": 85,
   "id": "71f73edf",
   "metadata": {
    "ExecuteTime": {
     "end_time": "2023-01-30T12:06:50.796338Z",
     "start_time": "2023-01-30T12:06:49.603330Z"
    }
   },
   "outputs": [],
   "source": [
    "# Compartilhamentos\n",
    "sharing = WebDriverWait(browser,30).until(ec.presence_of_element_located((By.XPATH, '//*[@id=\"dialog-content\"]/div[1]/div[3]/div[7]/tp-yt-paper-item/span[2]')))\n",
    "sharing.click()\n",
    "time.sleep(1)"
   ]
  },
  {
   "cell_type": "code",
   "execution_count": 86,
   "id": "11ace75f",
   "metadata": {
    "ExecuteTime": {
     "end_time": "2023-01-30T12:06:52.760935Z",
     "start_time": "2023-01-30T12:06:50.799333Z"
    }
   },
   "outputs": [],
   "source": [
    "# Clicando no \"+\" para adicionar mais métricas\n",
    "metric_add = WebDriverWait(browser,40).until(ec.presence_of_element_located((By.ID, 'add-metric-icon')))\n",
    "metric_add.click()\n",
    "time.sleep(1)"
   ]
  },
  {
   "cell_type": "code",
   "execution_count": 87,
   "id": "4ec8ba7e",
   "metadata": {
    "ExecuteTime": {
     "end_time": "2023-01-30T12:06:54.015422Z",
     "start_time": "2023-01-30T12:06:52.762893Z"
    }
   },
   "outputs": [],
   "source": [
    "# Comentários \n",
    "comments = WebDriverWait(browser,30).until(ec.presence_of_element_located((By.XPATH, '//*[@id=\"dialog-content\"]/div[1]/div[3]/div[8]/tp-yt-paper-item/span[2]')))\n",
    "comments.click()\n",
    "time.sleep(1)"
   ]
  },
  {
   "cell_type": "code",
   "execution_count": 88,
   "id": "9220f615",
   "metadata": {
    "ExecuteTime": {
     "end_time": "2023-01-30T12:06:55.108509Z",
     "start_time": "2023-01-30T12:06:54.020409Z"
    }
   },
   "outputs": [],
   "source": [
    "# Refresh browser\n",
    "browser.refresh()"
   ]
  },
  {
   "cell_type": "code",
   "execution_count": 89,
   "id": "3dd41208",
   "metadata": {
    "ExecuteTime": {
     "end_time": "2023-01-30T12:07:01.260281Z",
     "start_time": "2023-01-30T12:06:55.112499Z"
    }
   },
   "outputs": [],
   "source": [
    "# Clicando no Botão Exportar\n",
    "export = WebDriverWait(browser,30).until(ec.presence_of_element_located((By.ID, 'export-button')))\n",
    "export.click()\n",
    "time.sleep(1)"
   ]
  },
  {
   "cell_type": "code",
   "execution_count": 90,
   "id": "24eab3fc",
   "metadata": {
    "ExecuteTime": {
     "end_time": "2023-01-30T12:07:06.368409Z",
     "start_time": "2023-01-30T12:07:01.262275Z"
    }
   },
   "outputs": [],
   "source": [
    "# Clicando no tipo de relatório CSV\n",
    "report = WebDriverWait(browser,30).until(ec.presence_of_element_located((By.ID, 'text-item-1')))\n",
    "report.click()\n",
    "time.sleep(5)"
   ]
  },
  {
   "cell_type": "code",
   "execution_count": 91,
   "id": "0b86a52f",
   "metadata": {
    "ExecuteTime": {
     "end_time": "2023-01-30T12:07:06.384367Z",
     "start_time": "2023-01-30T12:07:06.371401Z"
    }
   },
   "outputs": [],
   "source": [
    "# Renomeando relatório Youtube compactado\n",
    "file_name = os.listdir()[0]\n",
    "os.renames(file_name, 'Report.zip')"
   ]
  },
  {
   "cell_type": "code",
   "execution_count": 92,
   "id": "9072bd66",
   "metadata": {
    "ExecuteTime": {
     "end_time": "2023-01-30T12:07:06.400357Z",
     "start_time": "2023-01-30T12:07:06.387358Z"
    }
   },
   "outputs": [],
   "source": [
    "# Descompactando o arquivo\n",
    "with ZipFile('Report.zip','r') as zip:\n",
    "    zip.extractall(set_folder()) "
   ]
  },
  {
   "cell_type": "code",
   "execution_count": 93,
   "id": "f0fffd57",
   "metadata": {
    "ExecuteTime": {
     "end_time": "2023-01-30T12:07:06.416281Z",
     "start_time": "2023-01-30T12:07:06.403316Z"
    }
   },
   "outputs": [],
   "source": [
    "# Carregando o arquivo para um dataframe pandas\n",
    "df_videos = pd.read_csv('Dados da tabela.csv')"
   ]
  },
  {
   "cell_type": "code",
   "execution_count": 94,
   "id": "648aaec9",
   "metadata": {
    "ExecuteTime": {
     "end_time": "2023-01-30T12:07:06.431272Z",
     "start_time": "2023-01-30T12:07:06.419273Z"
    }
   },
   "outputs": [],
   "source": [
    "df_total_dia = df_videos.head(1)"
   ]
  },
  {
   "cell_type": "code",
   "execution_count": 95,
   "id": "491dd372",
   "metadata": {
    "ExecuteTime": {
     "end_time": "2023-01-30T12:07:06.446224Z",
     "start_time": "2023-01-30T12:07:06.434233Z"
    }
   },
   "outputs": [],
   "source": [
    "# Removendo a linha 0 \n",
    "df_videos = df_videos.drop(index=0)"
   ]
  },
  {
   "cell_type": "code",
   "execution_count": 96,
   "id": "633ced9f",
   "metadata": {
    "ExecuteTime": {
     "end_time": "2023-01-30T12:07:06.461160Z",
     "start_time": "2023-01-30T12:07:06.448195Z"
    }
   },
   "outputs": [],
   "source": [
    "# Inserindo a data de coleta dentro do dataframe\n",
    "df_videos['Data'] = data\n",
    "df_total_dia['Data'] = data"
   ]
  },
  {
   "cell_type": "code",
   "execution_count": 97,
   "id": "2325d694",
   "metadata": {
    "ExecuteTime": {
     "end_time": "2023-01-30T12:07:06.476120Z",
     "start_time": "2023-01-30T12:07:06.465151Z"
    }
   },
   "outputs": [],
   "source": [
    "# Reindexando o dataframe\n",
    "df_videos.reset_index(inplace=True)\n",
    "df_videos.drop(columns='index', inplace=True)\n",
    "\n",
    "df_total_dia.reset_index(inplace=True)\n",
    "df_total_dia.drop(columns='index', inplace=True)"
   ]
  },
  {
   "cell_type": "code",
   "execution_count": 98,
   "id": "95f6c0a2",
   "metadata": {
    "ExecuteTime": {
     "end_time": "2023-01-30T12:07:06.492078Z",
     "start_time": "2023-01-30T12:07:06.480111Z"
    }
   },
   "outputs": [],
   "source": [
    "# Ordenando as colunas conforme tabela no DW\n",
    "df_videos = df_videos[['Data','Conteúdo','Título do vídeo','Horário de publicação do vídeo',\n",
    "                    'Marcações \"Gostei\"','Marcações \"Não gostei\"','Visualizações',\n",
    "                    'Comentários adicionados','Compartilhamentos','Impressões','Receita estimada (USD)',\n",
    "                    'Duração média da visualização','Tempo de exibição (horas)','Inscrições obtidas',\n",
    "                    'Inscrições perdidas','Taxa de cliques de impressões (%)','Inscritos']] \n",
    "\n",
    "df_total_dia = df_total_dia[['Data','Conteúdo','Título do vídeo','Horário de publicação do vídeo',\n",
    "                             'Marcações \"Gostei\"','Marcações \"Não gostei\"','Visualizações',\n",
    "                             'Comentários adicionados','Compartilhamentos','Impressões','Receita estimada (USD)',\n",
    "                             'Duração média da visualização','Tempo de exibição (horas)','Inscrições obtidas',\n",
    "                             'Inscrições perdidas','Taxa de cliques de impressões (%)','Inscritos']] "
   ]
  },
  {
   "cell_type": "code",
   "execution_count": 99,
   "id": "575b4d42",
   "metadata": {
    "ExecuteTime": {
     "end_time": "2023-01-30T12:07:06.507038Z",
     "start_time": "2023-01-30T12:07:06.495071Z"
    }
   },
   "outputs": [],
   "source": [
    "# Preenchendo valores NA\n",
    "df_videos.fillna(0.0, inplace=True)\n",
    "df_total_dia.fillna(0.0, inplace=True)"
   ]
  },
  {
   "cell_type": "code",
   "execution_count": 100,
   "id": "4bd6de82",
   "metadata": {
    "ExecuteTime": {
     "end_time": "2023-01-30T12:07:06.568874Z",
     "start_time": "2023-01-30T12:07:06.511030Z"
    }
   },
   "outputs": [],
   "source": [
    "# Salvando o arquivo\n",
    "df_videos.to_csv(r'PASTA ONDE O RELATÓRIO SERÁ SALVO\\tb_yt_videos.csv', index=False, encoding='utf-8')\n",
    "df_total_dia.to_csv(r'PASTA ONDE O RELATÓRIO SERÁ SALVO\\tb_yt_videos_geral_dia.csv', index=False, encoding='utf-8')"
   ]
  },
  {
   "cell_type": "code",
   "execution_count": 101,
   "id": "f66daf3f",
   "metadata": {
    "ExecuteTime": {
     "end_time": "2023-01-30T12:07:06.583835Z",
     "start_time": "2023-01-30T12:07:06.571866Z"
    }
   },
   "outputs": [],
   "source": [
    "# Limpando a pasta para o próximo relatório\n",
    "clean_folder(set_folder())"
   ]
  },
  {
   "cell_type": "markdown",
   "id": "0e2f8e96",
   "metadata": {},
   "source": [
    "## 9 - ALTERANDO RELATÓRIO PARA A COLETA DE DADOS MENSAL"
   ]
  },
  {
   "cell_type": "code",
   "execution_count": 102,
   "id": "96c9b2aa",
   "metadata": {
    "ExecuteTime": {
     "end_time": "2023-01-30T12:07:14.099079Z",
     "start_time": "2023-01-30T12:07:06.586827Z"
    }
   },
   "outputs": [],
   "source": [
    "time.sleep(5)\n",
    "\n",
    "# Clicando no menu DropDown do Modo Avançado\n",
    "dropdown = WebDriverWait(browser,40).until(ec.presence_of_element_located((By.XPATH, '//*[@id=\"filter-date-rows\"]/yta-time-picker')))\n",
    "dropdown.click()\n",
    "time.sleep(1)\n",
    "\n",
    "# Clicando no mês corrente\n",
    "current_month = WebDriverWait(browser,40).until(ec.presence_of_element_located((By.ID, 'text-item-9')))\n",
    "current_month.click()\n",
    "time.sleep(1)"
   ]
  },
  {
   "cell_type": "markdown",
   "id": "561acb35",
   "metadata": {},
   "source": [
    "## 10 - RELATÓRIO QUE INSERE REGISTROS NA TABELA: tb_yt_videos_geral_mes"
   ]
  },
  {
   "cell_type": "code",
   "execution_count": 103,
   "id": "d21797dd",
   "metadata": {
    "ExecuteTime": {
     "end_time": "2023-01-30T12:07:15.221078Z",
     "start_time": "2023-01-30T12:07:14.102061Z"
    }
   },
   "outputs": [],
   "source": [
    "# Refresh browser\n",
    "browser.refresh()"
   ]
  },
  {
   "cell_type": "code",
   "execution_count": 104,
   "id": "6619e3aa",
   "metadata": {
    "ExecuteTime": {
     "end_time": "2023-01-30T12:07:22.949713Z",
     "start_time": "2023-01-30T12:07:15.224070Z"
    }
   },
   "outputs": [],
   "source": [
    "# Clicando no Botão Exportar\n",
    "export = WebDriverWait(browser,30).until(ec.presence_of_element_located((By.ID, 'export-button')))\n",
    "export.click()\n",
    "time.sleep(1)"
   ]
  },
  {
   "cell_type": "code",
   "execution_count": 105,
   "id": "c1ef9503",
   "metadata": {
    "ExecuteTime": {
     "end_time": "2023-01-30T12:07:30.442852Z",
     "start_time": "2023-01-30T12:07:22.953704Z"
    }
   },
   "outputs": [],
   "source": [
    "# Clicando no tipo de relatório CSV\n",
    "report = WebDriverWait(browser,30).until(ec.presence_of_element_located((By.ID, 'text-item-1')))\n",
    "report.click()\n",
    "time.sleep(5)"
   ]
  },
  {
   "cell_type": "code",
   "execution_count": 106,
   "id": "5f675d49",
   "metadata": {
    "ExecuteTime": {
     "end_time": "2023-01-30T12:07:30.458811Z",
     "start_time": "2023-01-30T12:07:30.447840Z"
    }
   },
   "outputs": [],
   "source": [
    "# Renomeando relatório Youtube compactado\n",
    "file_name = os.listdir()[0]\n",
    "os.renames(file_name, 'Dados.zip')"
   ]
  },
  {
   "cell_type": "code",
   "execution_count": 107,
   "id": "acfb23c6",
   "metadata": {
    "ExecuteTime": {
     "end_time": "2023-01-30T12:07:30.473804Z",
     "start_time": "2023-01-30T12:07:30.461803Z"
    }
   },
   "outputs": [],
   "source": [
    "# Descompactando o arquivo\n",
    "with ZipFile('Dados.zip','r') as zip:\n",
    "    zip.extractall(set_folder()) "
   ]
  },
  {
   "cell_type": "code",
   "execution_count": 108,
   "id": "49be0a3d",
   "metadata": {
    "ExecuteTime": {
     "end_time": "2023-01-30T12:07:30.489762Z",
     "start_time": "2023-01-30T12:07:30.475766Z"
    }
   },
   "outputs": [],
   "source": [
    "# Carregando o arquivo para um dataframe pandas\n",
    "df = pd.read_csv('Dados da tabela.csv')"
   ]
  },
  {
   "cell_type": "code",
   "execution_count": 109,
   "id": "4ac19fe3",
   "metadata": {
    "ExecuteTime": {
     "end_time": "2023-01-30T12:07:30.504719Z",
     "start_time": "2023-01-30T12:07:30.491724Z"
    }
   },
   "outputs": [],
   "source": [
    "df_total_mes = df.head(1)"
   ]
  },
  {
   "cell_type": "code",
   "execution_count": null,
   "id": "7cd63637",
   "metadata": {
    "ExecuteTime": {
     "end_time": "2023-01-30T12:07:30.520677Z",
     "start_time": "2023-01-30T12:07:30.506683Z"
    }
   },
   "outputs": [],
   "source": [
    "# Inserindo a data de coleta dentro do dataframe\n",
    "df_total_mes['Data'] = data"
   ]
  },
  {
   "cell_type": "code",
   "execution_count": 111,
   "id": "f40eeb92",
   "metadata": {
    "ExecuteTime": {
     "end_time": "2023-01-30T12:07:30.536604Z",
     "start_time": "2023-01-30T12:07:30.522641Z"
    }
   },
   "outputs": [],
   "source": [
    "# Reindexando o dataframe\n",
    "df_total_mes = df_total_mes.reset_index()\n",
    "df_total_mes = df_total_mes.drop(columns='index')"
   ]
  },
  {
   "cell_type": "code",
   "execution_count": 112,
   "id": "e5ca765e",
   "metadata": {
    "ExecuteTime": {
     "end_time": "2023-01-30T12:07:30.551564Z",
     "start_time": "2023-01-30T12:07:30.538604Z"
    }
   },
   "outputs": [],
   "source": [
    "# Ordenando as colunas conforme tabela no DW\n",
    "df_total_mes = df_total_mes[['Data','Conteúdo','Título do vídeo','Horário de publicação do vídeo',\n",
    "                             'Marcações \"Gostei\"','Marcações \"Não gostei\"','Visualizações',\n",
    "                             'Comentários adicionados','Compartilhamentos','Impressões','Receita estimada (USD)',\n",
    "                             'Duração média da visualização','Tempo de exibição (horas)','Inscrições obtidas',\n",
    "                             'Inscrições perdidas','Taxa de cliques de impressões (%)','Inscritos']] "
   ]
  },
  {
   "cell_type": "code",
   "execution_count": 113,
   "id": "713f38fc",
   "metadata": {
    "ExecuteTime": {
     "end_time": "2023-01-30T12:07:30.566524Z",
     "start_time": "2023-01-30T12:07:30.554557Z"
    }
   },
   "outputs": [],
   "source": [
    "# Preenchendo valores NA\n",
    "df_total_mes.fillna(0.0, inplace=True)"
   ]
  },
  {
   "cell_type": "code",
   "execution_count": 114,
   "id": "22913d67",
   "metadata": {
    "ExecuteTime": {
     "end_time": "2023-01-30T12:07:30.612061Z",
     "start_time": "2023-01-30T12:07:30.568518Z"
    }
   },
   "outputs": [],
   "source": [
    "# Salvando o arquivo\n",
    "df_total_mes.to_csv(r'\\PASTA ONDE O RELATÓRIO SERÁ SALVO\\tb_yt_videos_geral_mes.csv', index=False, encoding='utf-8')"
   ]
  },
  {
   "cell_type": "code",
   "execution_count": 115,
   "id": "886334c3",
   "metadata": {
    "ExecuteTime": {
     "end_time": "2023-01-30T12:07:30.628019Z",
     "start_time": "2023-01-30T12:07:30.614056Z"
    }
   },
   "outputs": [],
   "source": [
    "# Limpando a pasta para o próximo relatório\n",
    "clean_folder(set_folder())"
   ]
  },
  {
   "cell_type": "markdown",
   "id": "9c3dbedd",
   "metadata": {},
   "source": [
    "# 11 - RELATÓRIO QUE INSERE REGISTROS NA TABELA: tb_yt_playlists_geral_mes"
   ]
  },
  {
   "cell_type": "code",
   "execution_count": 116,
   "id": "a6411940",
   "metadata": {
    "ExecuteTime": {
     "end_time": "2023-01-30T12:07:32.782794Z",
     "start_time": "2023-01-30T12:07:30.631013Z"
    }
   },
   "outputs": [],
   "source": [
    "browser.get('https://studio.youtube.com/channel/CÓDIGO DO CANAL/analytics/tab-overview/period-default/explore?entity_type=CHANNEL&entity_id=ID DO CANAL&r_dimensions=IN_CURATED_CONTENT&r_values=%27IN_CURATED_CONTENT%27&r_inclusive_starts=&r_exclusive_ends=&time_period=1663052400000%2C1665471600000&explore_type=TABLE_AND_CHART&metric=PLAYLIST_STARTS&granularity=DAY&t_metrics=PLAYLIST_STARTS&t_metrics=PLAYLIST_VIEWS&t_metrics=PLAYLIST_WATCH_TIME_HOURS&t_metrics=PLAYLIST_AVERAGE_WATCH_TIME&dimension=PLAYLIST&o_column=PLAYLIST_STARTS&o_direction=ANALYTICS_ORDER_DIRECTION_DESC')"
   ]
  },
  {
   "cell_type": "code",
   "execution_count": 117,
   "id": "e39d45d9",
   "metadata": {
    "ExecuteTime": {
     "end_time": "2023-01-30T12:07:35.378063Z",
     "start_time": "2023-01-30T12:07:32.787768Z"
    }
   },
   "outputs": [],
   "source": [
    "# Clicando no menu DropDown do Modo Avançado\n",
    "dropdown = WebDriverWait(browser,40).until(ec.presence_of_element_located((By.XPATH, '//*[@id=\"filter-date-rows\"]/yta-time-picker')))\n",
    "dropdown.click()\n",
    "time.sleep(1)\n",
    "\n",
    "# Clicando no mês corrente\n",
    "current_month = WebDriverWait(browser,40).until(ec.presence_of_element_located((By.ID, 'text-item-9')))\n",
    "current_month.click()\n",
    "time.sleep(1)"
   ]
  },
  {
   "cell_type": "code",
   "execution_count": 118,
   "id": "022d06a6",
   "metadata": {
    "ExecuteTime": {
     "end_time": "2023-01-30T12:07:35.407985Z",
     "start_time": "2023-01-30T12:07:35.381056Z"
    }
   },
   "outputs": [],
   "source": [
    "# Refresh browser\n",
    "browser.refresh()"
   ]
  },
  {
   "cell_type": "code",
   "execution_count": 119,
   "id": "26873395",
   "metadata": {
    "ExecuteTime": {
     "end_time": "2023-01-30T12:07:39.569913Z",
     "start_time": "2023-01-30T12:07:35.409979Z"
    }
   },
   "outputs": [],
   "source": [
    "# Clicando no botão \"Exportar\"\n",
    "export = WebDriverWait(browser,40).until(ec.presence_of_element_located((By.ID, 'export-button')))\n",
    "export.click()\n",
    "time.sleep(1)"
   ]
  },
  {
   "cell_type": "code",
   "execution_count": 120,
   "id": "571990f3",
   "metadata": {
    "ExecuteTime": {
     "end_time": "2023-01-30T12:07:44.651149Z",
     "start_time": "2023-01-30T12:07:39.571909Z"
    }
   },
   "outputs": [],
   "source": [
    "# Clicando no tipo de relatório CSV\n",
    "report = WebDriverWait(browser,30).until(ec.presence_of_element_located((By.ID, 'text-item-1')))\n",
    "report.click()\n",
    "time.sleep(5)"
   ]
  },
  {
   "cell_type": "code",
   "execution_count": 121,
   "id": "42d02f6e",
   "metadata": {
    "ExecuteTime": {
     "end_time": "2023-01-30T12:07:44.666112Z",
     "start_time": "2023-01-30T12:07:44.653145Z"
    }
   },
   "outputs": [],
   "source": [
    "# Renomeando relatório Youtube compactado\n",
    "file_name = os.listdir()[0]\n",
    "os.renames(file_name, 'Dados.zip')"
   ]
  },
  {
   "cell_type": "code",
   "execution_count": 122,
   "id": "56349d4a",
   "metadata": {
    "ExecuteTime": {
     "end_time": "2023-01-30T12:07:44.682068Z",
     "start_time": "2023-01-30T12:07:44.668106Z"
    }
   },
   "outputs": [],
   "source": [
    "# Descompactando o arquivo\n",
    "with ZipFile('Dados.zip','r') as zip:\n",
    "    zip.extractall(set_folder()) "
   ]
  },
  {
   "cell_type": "code",
   "execution_count": 123,
   "id": "7658c07b",
   "metadata": {
    "ExecuteTime": {
     "end_time": "2023-01-30T12:07:44.697140Z",
     "start_time": "2023-01-30T12:07:44.684064Z"
    }
   },
   "outputs": [],
   "source": [
    "# Carregando o arquivo para um dataframe pandas\n",
    "df = pd.read_csv('Dados da tabela.csv')"
   ]
  },
  {
   "cell_type": "code",
   "execution_count": 124,
   "id": "c0208da2",
   "metadata": {
    "ExecuteTime": {
     "end_time": "2023-01-30T12:07:44.712100Z",
     "start_time": "2023-01-30T12:07:44.700133Z"
    }
   },
   "outputs": [],
   "source": [
    "# Inserindo a data de coleta dentro do dataframe\n",
    "df['Data'] = data"
   ]
  },
  {
   "cell_type": "code",
   "execution_count": 125,
   "id": "66019bf7",
   "metadata": {
    "ExecuteTime": {
     "end_time": "2023-01-30T12:07:44.727091Z",
     "start_time": "2023-01-30T12:07:44.715094Z"
    }
   },
   "outputs": [],
   "source": [
    "df = df.drop(columns='Inícios da playlist')"
   ]
  },
  {
   "cell_type": "code",
   "execution_count": 127,
   "id": "24266e7a",
   "metadata": {
    "ExecuteTime": {
     "end_time": "2023-01-30T12:07:44.757980Z",
     "start_time": "2023-01-30T12:07:44.744050Z"
    }
   },
   "outputs": [],
   "source": [
    "df = df[['Data','Playlist','Título da playlist','Visualizações da playlist',\n",
    "                             'Duração média de visualização da playlist']] "
   ]
  },
  {
   "cell_type": "code",
   "execution_count": 128,
   "id": "1f5b204e",
   "metadata": {
    "ExecuteTime": {
     "end_time": "2023-01-30T12:07:44.772941Z",
     "start_time": "2023-01-30T12:07:44.760972Z"
    }
   },
   "outputs": [],
   "source": [
    "# Reindexando o dataframe\n",
    "df.reset_index(inplace=True)\n",
    "df.drop(columns='index', inplace=True)"
   ]
  },
  {
   "cell_type": "code",
   "execution_count": 129,
   "id": "b8ff1e34",
   "metadata": {
    "ExecuteTime": {
     "end_time": "2023-01-30T12:07:44.787898Z",
     "start_time": "2023-01-30T12:07:44.775930Z"
    }
   },
   "outputs": [],
   "source": [
    "# Ordenando as colunas conforme tabela no DW\n",
    "df = df[['Data','Playlist','Título da playlist','Visualizações da playlist',\n",
    "                             'Duração média de visualização da playlist']] "
   ]
  },
  {
   "cell_type": "code",
   "execution_count": 130,
   "id": "497b84c2",
   "metadata": {
    "ExecuteTime": {
     "end_time": "2023-01-30T12:07:44.802859Z",
     "start_time": "2023-01-30T12:07:44.793883Z"
    }
   },
   "outputs": [],
   "source": [
    "# Preenchendo valores NA\n",
    "df.fillna(0.0, inplace=True)"
   ]
  },
  {
   "cell_type": "code",
   "execution_count": 131,
   "id": "bf9fe8e4",
   "metadata": {
    "ExecuteTime": {
     "end_time": "2023-01-30T12:07:44.849735Z",
     "start_time": "2023-01-30T12:07:44.805852Z"
    }
   },
   "outputs": [],
   "source": [
    "# Salvando o arquivo\n",
    "df.to_csv(r'PASTA ONDE O RELATÓRIO SERÁ SALVO\\tb_yt_playlists_geral_mes.csv', index=False, encoding='utf-8')"
   ]
  },
  {
   "cell_type": "code",
   "execution_count": 132,
   "id": "b936c15c",
   "metadata": {
    "ExecuteTime": {
     "end_time": "2023-01-30T12:07:44.864695Z",
     "start_time": "2023-01-30T12:07:44.852726Z"
    }
   },
   "outputs": [],
   "source": [
    "# Limpando a pasta para o próximo relatório\n",
    "clean_folder(set_folder())"
   ]
  },
  {
   "cell_type": "markdown",
   "id": "2d1d7e03",
   "metadata": {
    "ExecuteTime": {
     "end_time": "2022-09-12T12:42:02.137950Z",
     "start_time": "2022-09-12T12:42:02.132612Z"
    }
   },
   "source": [
    "## 12 - RELATÓRIO QUE INSERE REGISTROS NA TABELA: tb_yt_origem_mes"
   ]
  },
  {
   "cell_type": "code",
   "execution_count": 133,
   "id": "1a6d55fb",
   "metadata": {
    "ExecuteTime": {
     "end_time": "2023-01-30T12:07:46.186457Z",
     "start_time": "2023-01-30T12:07:44.868686Z"
    }
   },
   "outputs": [],
   "source": [
    "# Clicando na opção \"Origem do Tráfego\"\n",
    "traffic = WebDriverWait(browser,40).until(ec.presence_of_element_located((By.XPATH, '//*[@id=\"TRAFFIC_SOURCE_TYPE\"]/div/ytcp-ve/span')))\n",
    "traffic.click()\n",
    "time.sleep(1)"
   ]
  },
  {
   "cell_type": "code",
   "execution_count": 134,
   "id": "cd6c1998",
   "metadata": {
    "ExecuteTime": {
     "end_time": "2023-01-30T12:07:46.217368Z",
     "start_time": "2023-01-30T12:07:46.189412Z"
    }
   },
   "outputs": [],
   "source": [
    "# Refresh browser\n",
    "browser.refresh()"
   ]
  },
  {
   "cell_type": "code",
   "execution_count": 135,
   "id": "499b0c68",
   "metadata": {
    "ExecuteTime": {
     "end_time": "2023-01-30T12:07:50.083359Z",
     "start_time": "2023-01-30T12:07:46.219331Z"
    }
   },
   "outputs": [],
   "source": [
    "# Clicando no Botão Exportar\n",
    "export = WebDriverWait(browser,40).until(ec.presence_of_element_located((By.ID, 'export-button')))\n",
    "export.click()\n",
    "time.sleep(1)"
   ]
  },
  {
   "cell_type": "code",
   "execution_count": 136,
   "id": "3bc6e7a2",
   "metadata": {
    "ExecuteTime": {
     "end_time": "2023-01-30T12:07:55.172138Z",
     "start_time": "2023-01-30T12:07:50.085318Z"
    }
   },
   "outputs": [],
   "source": [
    "# Clicando no tipo de relatório CSV\n",
    "report = WebDriverWait(browser,40).until(ec.presence_of_element_located((By.ID, 'text-item-1')))\n",
    "report.click()\n",
    "time.sleep(5)"
   ]
  },
  {
   "cell_type": "code",
   "execution_count": 137,
   "id": "1f9c98d2",
   "metadata": {
    "ExecuteTime": {
     "end_time": "2023-01-30T12:07:55.187068Z",
     "start_time": "2023-01-30T12:07:55.173103Z"
    }
   },
   "outputs": [],
   "source": [
    "# Renomeando relatório Youtube compactado\n",
    "file_name = os.listdir()[0]\n",
    "os.renames(file_name, 'Dados.zip')"
   ]
  },
  {
   "cell_type": "code",
   "execution_count": 138,
   "id": "511c5d20",
   "metadata": {
    "ExecuteTime": {
     "end_time": "2023-01-30T12:07:55.202025Z",
     "start_time": "2023-01-30T12:07:55.190058Z"
    }
   },
   "outputs": [],
   "source": [
    "# Descompactando o arquivo\n",
    "with ZipFile('Dados.zip','r') as zip:\n",
    "    zip.extractall(set_folder()) "
   ]
  },
  {
   "cell_type": "code",
   "execution_count": 139,
   "id": "9483cc17",
   "metadata": {
    "ExecuteTime": {
     "end_time": "2023-01-30T12:07:55.217024Z",
     "start_time": "2023-01-30T12:07:55.204020Z"
    }
   },
   "outputs": [],
   "source": [
    "# Carregando o arquivo para um dataframe pandas\n",
    "df = pd.read_csv('Dados da tabela.csv')"
   ]
  },
  {
   "cell_type": "code",
   "execution_count": 140,
   "id": "bfa723f4",
   "metadata": {
    "ExecuteTime": {
     "end_time": "2023-01-30T12:07:55.232944Z",
     "start_time": "2023-01-30T12:07:55.218983Z"
    }
   },
   "outputs": [],
   "source": [
    "# Inserindo a data de coleta dentro do dataframe\n",
    "df['Data'] = data"
   ]
  },
  {
   "cell_type": "code",
   "execution_count": 141,
   "id": "5ac42ef9",
   "metadata": {
    "ExecuteTime": {
     "end_time": "2023-01-30T12:07:55.247906Z",
     "start_time": "2023-01-30T12:07:55.234940Z"
    }
   },
   "outputs": [],
   "source": [
    "# Reindexando o dataframe\n",
    "df.reset_index(inplace=True)\n",
    "df.drop(columns='index', inplace=True)"
   ]
  },
  {
   "cell_type": "code",
   "execution_count": 142,
   "id": "f3580515",
   "metadata": {
    "ExecuteTime": {
     "end_time": "2023-01-30T12:07:55.262871Z",
     "start_time": "2023-01-30T12:07:55.249900Z"
    }
   },
   "outputs": [],
   "source": [
    "# Ordenando as colunas conforme tabela no DW\n",
    "df = df[['Data','Origem do tráfego','Visualizações','Tempo de exibição (horas)',\n",
    "                             'Duração média da visualização', 'Impressões','Taxa de cliques de impressões (%)']] "
   ]
  },
  {
   "cell_type": "code",
   "execution_count": 143,
   "id": "8b058975",
   "metadata": {
    "ExecuteTime": {
     "end_time": "2023-01-30T12:07:55.277823Z",
     "start_time": "2023-01-30T12:07:55.265856Z"
    }
   },
   "outputs": [],
   "source": [
    "# Preenchendo valores NA\n",
    "df.fillna(0.0, inplace=True)"
   ]
  },
  {
   "cell_type": "code",
   "execution_count": 144,
   "id": "06a0cb1d",
   "metadata": {
    "ExecuteTime": {
     "end_time": "2023-01-30T12:07:55.293783Z",
     "start_time": "2023-01-30T12:07:55.279820Z"
    }
   },
   "outputs": [],
   "source": [
    "# Removendo a linha 0 \n",
    "df = df.drop(index=0)"
   ]
  },
  {
   "cell_type": "code",
   "execution_count": 145,
   "id": "a56e413b",
   "metadata": {
    "ExecuteTime": {
     "end_time": "2023-01-30T12:07:55.325696Z",
     "start_time": "2023-01-30T12:07:55.296778Z"
    }
   },
   "outputs": [],
   "source": [
    "# Salvando o arquivo\n",
    "df.to_csv(r'PASTA ONDE O RELATÓRIO SERÁ SALVO\\tb_yt_origem_mes.csv', index=False, encoding='utf-8')"
   ]
  },
  {
   "cell_type": "code",
   "execution_count": 146,
   "id": "b0b1ebd9",
   "metadata": {
    "ExecuteTime": {
     "end_time": "2023-01-30T12:07:55.340660Z",
     "start_time": "2023-01-30T12:07:55.328689Z"
    }
   },
   "outputs": [],
   "source": [
    "# Limpando a pasta para o próximo relatório\n",
    "clean_folder(set_folder())"
   ]
  },
  {
   "cell_type": "code",
   "execution_count": 147,
   "id": "3788f076",
   "metadata": {
    "ExecuteTime": {
     "end_time": "2023-01-30T12:07:56.512285Z",
     "start_time": "2023-01-30T12:07:55.344647Z"
    }
   },
   "outputs": [],
   "source": [
    "# Fechando a tela de relatórios avançados\n",
    "close_buttom = WebDriverWait(browser,40).until(ec.presence_of_element_located((By.ID, 'close-button')))\n",
    "close_buttom.click()\n",
    "time.sleep(1)"
   ]
  },
  {
   "cell_type": "markdown",
   "id": "c6a6dd81",
   "metadata": {},
   "source": [
    "## 13 - RELATÓRIO QUE INSERE REGISTROS NA TABELA: tb_yt_publico"
   ]
  },
  {
   "cell_type": "code",
   "execution_count": 148,
   "id": "c59b54a7",
   "metadata": {
    "ExecuteTime": {
     "end_time": "2023-01-30T12:07:58.028970Z",
     "start_time": "2023-01-30T12:07:56.515276Z"
    }
   },
   "outputs": [],
   "source": [
    "# Clicando a opção \"Publico\"\n",
    "audience = WebDriverWait(browser,40).until(ec.presence_of_element_located((By.XPATH, '//*[@id=\"build_audience\"]/div/ytcp-ve')))\n",
    "audience.click()\n",
    "time.sleep(1)"
   ]
  },
  {
   "cell_type": "code",
   "execution_count": 149,
   "id": "22ff7770",
   "metadata": {
    "ExecuteTime": {
     "end_time": "2023-01-30T12:07:59.230641Z",
     "start_time": "2023-01-30T12:07:58.030968Z"
    }
   },
   "outputs": [],
   "source": [
    "# Clicando no botão \"Ver mais\"\n",
    "more = WebDriverWait(browser,40).until(ec.presence_of_element_located((By.XPATH, '/html/body/ytcp-app/ytcp-entity-page/div/div/main/div/ytcp-animatable[8]/yta-app/yta-overview-app/div/yta-screen/div/ytcp-ve/div/div/div[2]/yta-section[1]/yta-demographics-card/yta-card-container/tp-yt-paper-card/div[3]/span[1]/ytcp-ve/a/ytcp-button/div')))\n",
    "more.click()\n",
    "time.sleep(1)"
   ]
  },
  {
   "cell_type": "code",
   "execution_count": 150,
   "id": "34f122b9",
   "metadata": {
    "ExecuteTime": {
     "end_time": "2023-01-30T12:08:00.363939Z",
     "start_time": "2023-01-30T12:07:59.232637Z"
    }
   },
   "outputs": [],
   "source": [
    "# Definindo o mês do relatório\n",
    "\n",
    "# Clicando no menu DropDown do Modo Avançado\n",
    "dropdown = WebDriverWait(browser,40).until(ec.presence_of_element_located((By.XPATH, '//*[@id=\"filter-date-rows\"]/yta-time-picker')))\n",
    "dropdown.click()\n",
    "time.sleep(1)"
   ]
  },
  {
   "cell_type": "code",
   "execution_count": 151,
   "id": "36e81639",
   "metadata": {
    "ExecuteTime": {
     "end_time": "2023-01-30T12:08:01.505901Z",
     "start_time": "2023-01-30T12:08:00.365903Z"
    }
   },
   "outputs": [],
   "source": [
    "# Clicando no mês corrente\n",
    "current_month = WebDriverWait(browser,40).until(ec.presence_of_element_located((By.ID, 'text-item-9')))\n",
    "current_month.click()\n",
    "time.sleep(1)"
   ]
  },
  {
   "cell_type": "code",
   "execution_count": 152,
   "id": "38725d6b",
   "metadata": {
    "ExecuteTime": {
     "end_time": "2023-01-30T12:08:01.552777Z",
     "start_time": "2023-01-30T12:08:01.508860Z"
    }
   },
   "outputs": [],
   "source": [
    "# Refresh browser\n",
    "browser.refresh()"
   ]
  },
  {
   "cell_type": "code",
   "execution_count": 153,
   "id": "2db7af3d",
   "metadata": {
    "ExecuteTime": {
     "end_time": "2023-01-30T12:08:05.298076Z",
     "start_time": "2023-01-30T12:08:01.555733Z"
    }
   },
   "outputs": [],
   "source": [
    "# Clicando no Botão Exportar\n",
    "export = WebDriverWait(browser,30).until(ec.presence_of_element_located((By.ID, 'export-button')))\n",
    "export.click()\n",
    "time.sleep(1)"
   ]
  },
  {
   "cell_type": "code",
   "execution_count": 154,
   "id": "fb6ef2c6",
   "metadata": {
    "ExecuteTime": {
     "end_time": "2023-01-30T12:08:10.373745Z",
     "start_time": "2023-01-30T12:08:05.300054Z"
    }
   },
   "outputs": [],
   "source": [
    "# Clicando no tipo de relatório CSV\n",
    "report = WebDriverWait(browser,30).until(ec.presence_of_element_located((By.ID, 'text-item-1')))\n",
    "report.click()\n",
    "time.sleep(5)"
   ]
  },
  {
   "cell_type": "code",
   "execution_count": 155,
   "id": "c5436f27",
   "metadata": {
    "ExecuteTime": {
     "end_time": "2023-01-30T12:08:10.389705Z",
     "start_time": "2023-01-30T12:08:10.375740Z"
    }
   },
   "outputs": [],
   "source": [
    "# Renomeando relatório Youtube compactado\n",
    "file_name = os.listdir()[0]\n",
    "os.renames(file_name, 'Report.zip')"
   ]
  },
  {
   "cell_type": "code",
   "execution_count": 156,
   "id": "9e46f32d",
   "metadata": {
    "ExecuteTime": {
     "end_time": "2023-01-30T12:08:10.404693Z",
     "start_time": "2023-01-30T12:08:10.392696Z"
    }
   },
   "outputs": [],
   "source": [
    "# Descompactando o arquivo\n",
    "with ZipFile('Report.zip','r') as zip:\n",
    "    zip.extractall(set_folder()) "
   ]
  },
  {
   "cell_type": "code",
   "execution_count": 157,
   "id": "dccd5ddb",
   "metadata": {
    "ExecuteTime": {
     "end_time": "2023-01-30T12:08:10.419624Z",
     "start_time": "2023-01-30T12:08:10.405661Z"
    }
   },
   "outputs": [],
   "source": [
    "# Carregando o arquivo para um dataframe pandas\n",
    "df = pd.read_csv('Dados da tabela.csv')"
   ]
  },
  {
   "cell_type": "code",
   "execution_count": 158,
   "id": "e5379d3a",
   "metadata": {
    "ExecuteTime": {
     "end_time": "2023-01-30T12:08:10.435592Z",
     "start_time": "2023-01-30T12:08:10.421618Z"
    }
   },
   "outputs": [],
   "source": [
    "# Criando a coluna Data no DataFrame\n",
    "df['Data'] = data"
   ]
  },
  {
   "cell_type": "code",
   "execution_count": 159,
   "id": "92885192",
   "metadata": {
    "ExecuteTime": {
     "end_time": "2023-01-30T12:08:10.450540Z",
     "start_time": "2023-01-30T12:08:10.437609Z"
    }
   },
   "outputs": [],
   "source": [
    "# Ordenando as colunas conforme tabela no DW\n",
    "df = df[['Data','Idade do espectador', 'Gênero do espectador', 'Visualizações (%)','Tempo de exibição (horas) (%)']] "
   ]
  },
  {
   "cell_type": "code",
   "execution_count": 160,
   "id": "8feddc09",
   "metadata": {
    "ExecuteTime": {
     "end_time": "2023-01-30T12:08:10.496427Z",
     "start_time": "2023-01-30T12:08:10.453535Z"
    }
   },
   "outputs": [],
   "source": [
    "# Salvando o arquivo\n",
    "df.to_csv(r'PASTA ONDE O RELATÓRIO SERÁ SALVO\\tb_yt_publico.csv', index=False, encoding='utf-8')"
   ]
  },
  {
   "cell_type": "code",
   "execution_count": 161,
   "id": "6dba060f",
   "metadata": {
    "ExecuteTime": {
     "end_time": "2023-01-30T12:08:10.512377Z",
     "start_time": "2023-01-30T12:08:10.499410Z"
    }
   },
   "outputs": [],
   "source": [
    "# Limpando a pasta para o próximo relatório\n",
    "clean_folder(set_folder())"
   ]
  },
  {
   "cell_type": "code",
   "execution_count": 162,
   "id": "0ff0cfb0",
   "metadata": {
    "ExecuteTime": {
     "end_time": "2023-01-30T12:08:10.649011Z",
     "start_time": "2023-01-30T12:08:10.514371Z"
    }
   },
   "outputs": [],
   "source": [
    "browser.quit()"
   ]
  },
  {
   "cell_type": "markdown",
   "id": "b7cf4b2e",
   "metadata": {},
   "source": [
    "## 15 - NOTIFICANDO O RESPONSÁVEL"
   ]
  },
  {
   "cell_type": "markdown",
   "id": "abedf881",
   "metadata": {},
   "source": [
    "### INFORMAÇÕES GERAIS PARA ENVIO DE E-MAIL\n",
    "\n",
    "    1 - Acesse a conta do Gmail que será utilizada para o envio do e-mail\n",
    "    2 - Clique em \"Gerenciar conta do Google\" no menu do perfil\n",
    "    3 - Clique em \"Segurança\"\n",
    "    4 - Na opção \"Como fazer login no Google\" clique em \"Senhas de App\"\n",
    "    5 - Clique em \"Selecionar App\" e escolha a opção \"Outro - Nome Personalizado\"\n",
    "    6 - Defina um nome para o App e clique no botão GERAR\n",
    "    7 - A senha que será utilizada para autenticação será exibida. Utilize esta senha na variável senha"
   ]
  },
  {
   "cell_type": "code",
   "execution_count": 165,
   "id": "f4b86027",
   "metadata": {
    "ExecuteTime": {
     "end_time": "2023-01-30T12:08:13.775832Z",
     "start_time": "2023-01-30T12:08:10.681925Z"
    }
   },
   "outputs": [
    {
     "name": "stdout",
     "output_type": "stream",
     "text": [
      "Email enviado\n"
     ]
    }
   ],
   "source": [
    "corpo_email = f\"\"\"\n",
    "<p><b>***** Informativo *****</b></p>\n",
    "<p>Rotina de carga de dados do Youtube realizada com sucesso no dia {data}.</p>\n",
    "\"\"\"\n",
    "\n",
    "msg = email.message.Message()\n",
    "msg['Subject'] = \"Carga de dados Youtube\"\n",
    "msg['From'] = remetente\n",
    "msg['To'] = 'E-MAIL DO REMETENTE'\n",
    "password = senha \n",
    "msg.add_header('Content-Type', 'text/html')\n",
    "msg.set_payload(corpo_email )\n",
    "\n",
    "s = smtplib.SMTP('smtp.gmail.com: 587')\n",
    "s.starttls()\n",
    "\n",
    "s.login(msg['From'], password)\n",
    "s.sendmail(msg['From'], [msg['To']], msg.as_string().encode('utf-8'))\n",
    "\n",
    "print('Email enviado')"
   ]
  },
  {
   "cell_type": "markdown",
   "id": "325cd60d",
   "metadata": {},
   "source": [
    "## 16 - REQUIREMENTS.TXT"
   ]
  },
  {
   "cell_type": "code",
   "execution_count": 4,
   "id": "6aedb823",
   "metadata": {},
   "outputs": [],
   "source": [
    "!pip3 freeze > requirements.txt"
   ]
  }
 ],
 "metadata": {
  "kernelspec": {
   "display_name": "Python 3 (ipykernel)",
   "language": "python",
   "name": "python3"
  },
  "language_info": {
   "codemirror_mode": {
    "name": "ipython",
    "version": 3
   },
   "file_extension": ".py",
   "mimetype": "text/x-python",
   "name": "python",
   "nbconvert_exporter": "python",
   "pygments_lexer": "ipython3",
   "version": "3.9.13"
  }
 },
 "nbformat": 4,
 "nbformat_minor": 5
}
