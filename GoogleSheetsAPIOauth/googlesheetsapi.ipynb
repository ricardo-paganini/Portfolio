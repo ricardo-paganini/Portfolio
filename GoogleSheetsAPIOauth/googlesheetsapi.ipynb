{
 "cells": [
  {
   "cell_type": "markdown",
   "id": "e133f688",
   "metadata": {},
   "source": [
    "# PROJETO - AUTENTICAÇÃO AO GOOGLE SHEETS API"
   ]
  },
  {
   "cell_type": "markdown",
   "id": "6446f182",
   "metadata": {},
   "source": [
    "CONFIGURAÇÕES INICIAIS:\n",
    "\n",
    "    1 - Ter uma conta no google\n",
    "    2 - Acessar o Google Developer Console\n",
    "    3 - Criar um Projeto na plataforma GDC\n",
    "    4 - Ativar as APIs: Google Drive API / Google Sheets API\n",
    "    5 - Gerar um Token de Autenticação\n",
    "        - Configurar a Tela de Autenticação do Oauth\n",
    "        - Definir os escopos (sem escopos indica que o app terá acesso total a sua conta)\n",
    "        - Definir app como teste adiconando e-mail de usuário para teste do app\n",
    "    6 - Criar a credencial: IDs do cliente OAuth 2.0\n",
    "        - Definir um nome para o aplicativo\n",
    "        - Fazer download do token\n",
    "    7 - Acessar a documentação da API do Google Sheets: https://developers.google.com/sheets/api/quickstart/python\n",
    "    8 - Instalar as bibliotecas para a utilização da API\n",
    "            pip install --upgrade google-api-python-client google-auth-httplib2 google-auth-oauthlib\n",
    "\n",
    "INFORMAÇÕES:\n",
    "\n",
    "    - Nome do Projeto: GoogleSheetsAPI\n",
    "    - Nome da tela de autenticação: integrationapp\n",
    "    - Nome do Aplicativo: LocalApp"
   ]
  },
  {
   "cell_type": "markdown",
   "id": "c2964de3",
   "metadata": {},
   "source": [
    "### PACOTES"
   ]
  },
  {
   "cell_type": "code",
   "execution_count": 2,
   "id": "26aed0af",
   "metadata": {},
   "outputs": [],
   "source": [
    "from __future__ import print_function\n",
    "\n",
    "import os.path\n",
    "\n",
    "from google.auth.transport.requests import Request\n",
    "from google.oauth2.credentials import Credentials\n",
    "from google_auth_oauthlib.flow import InstalledAppFlow\n",
    "from googleapiclient.discovery import build\n",
    "from googleapiclient.errors import HttpError"
   ]
  },
  {
   "cell_type": "markdown",
   "id": "a1ad5510",
   "metadata": {},
   "source": [
    "### PARÂMETROS"
   ]
  },
  {
   "cell_type": "code",
   "execution_count": 12,
   "id": "d4fe1804",
   "metadata": {},
   "outputs": [],
   "source": [
    "SCOPES = ['https://www.googleapis.com/auth/spreadsheets']"
   ]
  },
  {
   "cell_type": "markdown",
   "id": "a74983ac",
   "metadata": {},
   "source": [
    "### FUNÇÕES"
   ]
  },
  {
   "cell_type": "code",
   "execution_count": 14,
   "id": "8493abe9",
   "metadata": {},
   "outputs": [],
   "source": [
    "def authentication():\n",
    "    # Iniciando a variável que armazenará o token de acesso\n",
    "    creds = None\n",
    "    \n",
    "    # Verificando a existência do arquivo token.json\n",
    "    if os.path.exists('token.json'):\n",
    "        creds = Credentials.from_authorized_user_file('token.json', SCOPES)\n",
    "        \n",
    "    # Verificando a validade token.json \n",
    "    if not creds or not creds.valid:\n",
    "        if creds and creds.expired and creds.refresh_token:\n",
    "            creds.refresh(Request())\n",
    "        else:\n",
    "            flow = InstalledAppFlow.from_client_secrets_file(\n",
    "                'credentials.json', SCOPES)\n",
    "            creds = flow.run_local_server(port=0)\n",
    "    # Salvando a nova credencial caso a antiga tenha expirado\n",
    "    with open('token.json', 'w') as token:\n",
    "            token.write(creds.to_json())"
   ]
  },
  {
   "cell_type": "markdown",
   "id": "42608f61",
   "metadata": {},
   "source": [
    "### AUTENTICAÇÃO"
   ]
  },
  {
   "cell_type": "code",
   "execution_count": 15,
   "id": "33630055",
   "metadata": {},
   "outputs": [],
   "source": [
    "authentication()"
   ]
  },
  {
   "cell_type": "markdown",
   "id": "6ab2a99e",
   "metadata": {},
   "source": [
    "### GERANDO O REQUIREMENTS DO PROJETO"
   ]
  },
  {
   "cell_type": "code",
   "execution_count": 1,
   "id": "31e94117",
   "metadata": {},
   "outputs": [],
   "source": [
    "!pip3 freeze > requirements.txt"
   ]
  }
 ],
 "metadata": {
  "kernelspec": {
   "display_name": "Python 3 (ipykernel)",
   "language": "python",
   "name": "python3"
  },
  "language_info": {
   "codemirror_mode": {
    "name": "ipython",
    "version": 3
   },
   "file_extension": ".py",
   "mimetype": "text/x-python",
   "name": "python",
   "nbconvert_exporter": "python",
   "pygments_lexer": "ipython3",
   "version": "3.11.0"
  }
 },
 "nbformat": 4,
 "nbformat_minor": 5
}
