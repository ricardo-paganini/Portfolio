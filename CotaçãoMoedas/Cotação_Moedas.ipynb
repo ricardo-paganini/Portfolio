{
 "cells": [
  {
   "cell_type": "markdown",
   "id": "4be72a2e",
   "metadata": {},
   "source": [
    "# PROJETO: COTAÇÃO DE MOEDAS "
   ]
  },
  {
   "cell_type": "markdown",
   "id": "67b1dbb2",
   "metadata": {},
   "source": [
    "### MOTIVAÇÃO:\n",
    "\n",
    "    - IMPLEMENTAR UMA FORMA DE EXECUTAR CÓDIGOS DE AUTOMATICAMENTE COM AGENDAMENTO.\n",
    "    \n",
    "### DESCRIÇÃO:   \n",
    "    - SERÁ CONSTRUÍDO UM CÓDIGO EM PYTHON QUE CONSUMIRÁ A API DO SITE https://docs.awesomeapi.com.br/api-de-moedas E ENVIARÁ A COTAÇÃO DO DÓLAR DIARIAMENTE ÀS 18:00HS, EURO E BITCOIN VIA SMS UTILIZANDO O TWILIO.\n",
    "\n",
    "OBS.: UTILIZE SEMPRE O AMBIENTE VIRTUAL PARA A CRIAÇÃO DE CADA PROJETO.\n",
    "\n",
    "OBS1: GERE SEMPRE UM ARQUIVO REQUIREMENTS.TXT COM O COMANDO: pip freeze > requirements.txt"
   ]
  },
  {
   "cell_type": "markdown",
   "id": "1def9927",
   "metadata": {},
   "source": [
    "## 1 - IMPORTANDO PACOTES"
   ]
  },
  {
   "cell_type": "code",
   "execution_count": 4,
   "id": "b25c78d9",
   "metadata": {},
   "outputs": [],
   "source": [
    "import requests\n",
    "import json\n",
    "from twilio.rest import Client\n",
    "import twilio\n",
    "from datetime import datetime"
   ]
  },
  {
   "cell_type": "markdown",
   "id": "80e635cf",
   "metadata": {},
   "source": [
    "## 2 - DEFININDO PARÂMETROS"
   ]
  },
  {
   "cell_type": "code",
   "execution_count": 90,
   "id": "c442d03a",
   "metadata": {},
   "outputs": [],
   "source": [
    "# Parâmetros do Twilio\n",
    "account_sid = 'Insira o seu account_sid do Twilio aqui!'\n",
    "auth_token = 'Insira o token do Twilio aqui!'\n",
    "sender = 'Insira o número gerado pelo Twilio aqui!'\n",
    "recipient = 'Insira o número de telefone de destino aqui!'\n",
    "client = Client(account_sid,auth_token)"
   ]
  },
  {
   "cell_type": "code",
   "execution_count": 91,
   "id": "17b1c759",
   "metadata": {},
   "outputs": [],
   "source": [
    "# Definindo a data da mensagem \n",
    "data = datetime.now()\n",
    "data = str(data.strftime('%d/%m/%Y %H:%M'))"
   ]
  },
  {
   "cell_type": "markdown",
   "id": "0f0b6c2e",
   "metadata": {},
   "source": [
    "## 3 - COTAÇÃO DO DÓLAR, EURO E BITCOIN"
   ]
  },
  {
   "cell_type": "code",
   "execution_count": 92,
   "id": "ca03e7f1",
   "metadata": {},
   "outputs": [],
   "source": [
    "response = requests.get('https://economia.awesomeapi.com.br/last/USD-BRL,EUR-BRL,BTC-BRL')\n",
    "response_dict = response.json()"
   ]
  },
  {
   "cell_type": "code",
   "execution_count": 93,
   "id": "7742de12",
   "metadata": {},
   "outputs": [],
   "source": [
    "usd = float(response_dict['USDBRL']['bid'])\n",
    "eur = float(response_dict['EURBRL']['bid'])\n",
    "btc = float(response_dict['BTCBRL']['bid'])"
   ]
  },
  {
   "cell_type": "markdown",
   "id": "d2be497e",
   "metadata": {},
   "source": [
    "## 4 - DEFININDO A MENSAGEM"
   ]
  },
  {
   "cell_type": "code",
   "execution_count": 96,
   "id": "e645134a",
   "metadata": {},
   "outputs": [],
   "source": [
    "message = client.messages.create(to=recipient,from_=sender, body=f'Cotação em: {data} - USD: {usd:,.2f} / EUR: {eur:,.2f} / BTC: {btc:,.2f}')"
   ]
  },
  {
   "cell_type": "markdown",
   "id": "bc46efb1",
   "metadata": {},
   "source": [
    "## 5 - ENVIANDO A MENSAGEM"
   ]
  },
  {
   "cell_type": "code",
   "execution_count": 97,
   "id": "9cab3463",
   "metadata": {},
   "outputs": [
    {
     "data": {
      "text/plain": [
       "'SM6ffe5e1c215fcc4498fc6161874909bb'"
      ]
     },
     "execution_count": 97,
     "metadata": {},
     "output_type": "execute_result"
    }
   ],
   "source": [
    "message.sid"
   ]
  },
  {
   "cell_type": "markdown",
   "id": "4129c63e",
   "metadata": {},
   "source": [
    "## 6 - GERANDO ARQUIVO REQUIREMENTS.TXT"
   ]
  },
  {
   "cell_type": "code",
   "execution_count": 5,
   "id": "7a845eef",
   "metadata": {},
   "outputs": [],
   "source": [
    "!pip3 freeze > requirements.txt"
   ]
  }
 ],
 "metadata": {
  "kernelspec": {
   "display_name": "Python 3 (ipykernel)",
   "language": "python",
   "name": "python3"
  },
  "language_info": {
   "codemirror_mode": {
    "name": "ipython",
    "version": 3
   },
   "file_extension": ".py",
   "mimetype": "text/x-python",
   "name": "python",
   "nbconvert_exporter": "python",
   "pygments_lexer": "ipython3",
   "version": "3.9.13"
  }
 },
 "nbformat": 4,
 "nbformat_minor": 5
}
