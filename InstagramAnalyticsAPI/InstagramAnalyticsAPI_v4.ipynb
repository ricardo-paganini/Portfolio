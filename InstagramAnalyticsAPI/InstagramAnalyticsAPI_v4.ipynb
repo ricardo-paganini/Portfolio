{
 "cells": [
  {
   "cell_type": "markdown",
   "id": "9d743c9e",
   "metadata": {},
   "source": [
    "# INSTAGRAM ANALYTICS - ABENDI"
   ]
  },
  {
   "cell_type": "markdown",
   "id": "f3e155ae",
   "metadata": {
    "heading_collapsed": true
   },
   "source": [
    "### OBJETIVO\n",
    "\n",
    "Coletar de forma automática dados através de APIs da plataforma para a geração de dashboards no Power BI para facilitar a tomada de decisão do Marketing e Diretoria.\n",
    "\n",
    "\n",
    "### INFORMAÇÕES GERAIS\n",
    "\n",
    "1. Acessar o site https://developers.facebook.com/\n",
    "2. Id do Aplicativo: 547482393462303\n",
    "3. Chave secreta do Aplicativo: e0651da1344fff14fefcb9d981ebeb4b\n",
    "4. Permissões do Token de Acesso: \n",
    "    - public_profile\n",
    "    - pages_show_list\n",
    "    - instagram_basic\n",
    "    - instagram_manage_comments\n",
    "    - instagram_manage_insights\n",
    "    - pages_manage_ads\n",
    "    - pages_manage_metadata\n",
    "    - pages_read_engagement\n",
    "    - pages_read_user_content\n",
    "    \n",
    "### Métricas para cada tipo de produto\n",
    "- feed = ''\n",
    "- ad = ''\n",
    "- story = 'exits,impressions,reach,replies,taps_forward,taps_back'\n",
    "- reels = 'comments,likes,plays,reach,saved,shares,total_interactions'\n",
    "\n",
    "### Métrica para cada tipo de publicação\n",
    "- carousel = 'carousel_album_engagement,carousel_album_impressions,carousel_album_reach,carousel_album_saved,carousel_album_video_views'\n",
    "- image = 'engagement,impressions,reach,saved'\n",
    "- video = 'video_views,engagement,impressions,reach,saved'\n",
    "\n",
    "**OBS.: O INSTAGRAM INSIGHTS FOI DISPONIBILIZADO PARA AS PUBLICAÇÕES A PARTIR DE 2016. PORTANTO, PUBLICAÇÕES ANTERIORES NÃO POSSUEM INSIGHTS CONTABILIZADOS**\n",
    "\n",
    "**OBS.: A VARIÁVEL SHORT_TOKEN É COLETADA APENAS COM A FERRAMENTA \"EXPLORADORA DA GRAPH API\"**"
   ]
  },
  {
   "cell_type": "markdown",
   "id": "656dcdd7",
   "metadata": {},
   "source": [
    "## 1 - IMPORTAÇÕES DE PACOTES"
   ]
  },
  {
   "cell_type": "code",
   "execution_count": 1,
   "id": "00ebc7e2",
   "metadata": {
    "ExecuteTime": {
     "end_time": "2022-12-16T13:18:30.635685Z",
     "start_time": "2022-12-16T13:18:30.626717Z"
    }
   },
   "outputs": [],
   "source": [
    "import requests\n",
    "import json\n",
    "import datetime\n",
    "from datetime import date, timedelta\n",
    "import pandas as pd\n",
    "import pyodbc\n",
    "import smtplib\n",
    "import email.message"
   ]
  },
  {
   "cell_type": "markdown",
   "id": "a63599c3",
   "metadata": {},
   "source": [
    "## 2 - FUNÇÕES"
   ]
  },
  {
   "cell_type": "code",
   "execution_count": 2,
   "id": "b694b94f",
   "metadata": {
    "ExecuteTime": {
     "end_time": "2022-12-16T13:08:58.624532Z",
     "start_time": "2022-12-16T13:08:58.604587Z"
    }
   },
   "outputs": [],
   "source": [
    "def getAllPosts():\n",
    "    fields = 'id,permalink,caption,media_type,timestamp'\n",
    "    \n",
    "    link = f'{end_point_base}{ig_id}/media?fields={fields}&access_token={access_token}'\n",
    "    response = requests.get(link).json()\n",
    "\n",
    "    link_post = []\n",
    "    descricao = []\n",
    "    tipo_post = []\n",
    "    data_post = []\n",
    "    id_post = []\n",
    "\n",
    "    pagingUrl = []\n",
    "\n",
    "    #Primeira Página\n",
    "    for post in response['data']:\n",
    "        id_post.append(post['id'])\n",
    "        link_post.append(post['permalink'])\n",
    "        descricao.append(post['caption'])\n",
    "        tipo_post.append(post['media_type'])\n",
    "        data_post.append(post['timestamp'])\n",
    "    \n",
    "    pagingUrl.append(response['paging']['next'])\n",
    "    \n",
    "    # Demais Páginas\n",
    "    while True:\n",
    "        try:\n",
    "            response = requests.get(pagingUrl[-1])\n",
    "            data = response.json()\n",
    "            for post in data['data']:\n",
    "                id_post.append(post['id'])\n",
    "                link_post.append(post['permalink'])\n",
    "                try:\n",
    "                    descricao.append(post['caption'])\n",
    "                except:\n",
    "                    descricao.append('Sem descrição')\n",
    "                tipo_post.append(post['media_type'])\n",
    "                data_post.append(post['timestamp'])\n",
    "            pagingUrl.append(data['paging']['next'])\n",
    "        except:\n",
    "            break\n",
    "    \n",
    "    # Criando o Dataframe\n",
    "    df = pd.DataFrame({'Data':day,'Id':id_post,'Link do Post':link_post,'Tipo':tipo_post,'Data da Postagem':data_post})\n",
    "    \n",
    "    print('Posts coletados com sucesso !')\n",
    "        \n",
    "    return df\n",
    "\n",
    "def getPostAddInfo():\n",
    "    fields = 'id,like_count,media_product_type'\n",
    "    id_post = []\n",
    "    like_count_post = []\n",
    "    tipo_produto_post = [] \n",
    "\n",
    "    for id in df1['Id']:\n",
    "        link = f'https://graph.facebook.com/v15.0/{id}?fields={fields}&access_token={access_token}'\n",
    "        response = requests.get(link).json() \n",
    "        id_post.append(response['id'])\n",
    "        like_count_post.append(response['like_count'])\n",
    "        tipo_produto_post.append(response['media_product_type'])\n",
    "    \n",
    "    df = pd.DataFrame({'Id':id_post,'Likes':like_count_post,'Produto':tipo_produto_post})\n",
    "    \n",
    "    print('Informações adicionais dos Posts coletados com sucesso !')\n",
    "    \n",
    "    return df\n",
    "\n",
    "def getDataExpireAccessToken():\n",
    "    # Coletando informações do Token de Acesso de tempo curto\n",
    "\n",
    "    # Requests API:\n",
    "    # https://graph.facebook.com/debug_token?input_token={input-token}&access_token={valid_access-token}\n",
    "\n",
    "    link = f'{graph_domain}debug_token?input_token={access_token}&access_token={access_token}'\n",
    "    response = requests.get(link).json()\n",
    "    \n",
    "    expire_at = datetime.datetime.fromtimestamp(response['data']['data_access_expires_at'])\n",
    "    \n",
    "    return expire_at\n",
    "\n",
    "def getLongAccessToken():\n",
    "    \n",
    "    # Gerando Token de Acesso de Longa Duração (Normalmente a duração desse tipo de token é de 3 meses)\n",
    "    \n",
    "    # Requests API:\n",
    "    # https://graph.facebook.com/{graph-api-version}/oauth/access_token?grant_type=fb_exchange_token&client_id={app-id}&client_secret={app-secret}&fb_exchange_token={your-access-token}\n",
    "\n",
    "    link = f'{end_point_base}oauth/access_token?grant_type=fb_exchange_token&client_id={app_id}&client_secret={app_secret}&fb_exchange_token={short_token}'\n",
    "    response = requests.get(link).json()\n",
    "    \n",
    "    return response['access_token']"
   ]
  },
  {
   "cell_type": "markdown",
   "id": "9850c100",
   "metadata": {},
   "source": [
    "## 3 - VARIÁVEIS"
   ]
  },
  {
   "cell_type": "code",
   "execution_count": 3,
   "id": "6694f212",
   "metadata": {
    "ExecuteTime": {
     "end_time": "2022-12-16T13:09:09.224785Z",
     "start_time": "2022-12-16T13:09:09.216817Z"
    }
   },
   "outputs": [],
   "source": [
    "short_token = 'DIGITE SEU TOKEN DE ACESSO TEMPORÁRIO.'\n",
    "access_token = 'DIGITE SEU TOKEN.'\n",
    "\n",
    "app_id = 'DIGITE SEU ID DO APP.'\n",
    "app_secret = 'DIGITE SEU CÓDIGO DE ACESSO AO APP.'\n",
    "\n",
    "graph_domain = 'https://graph.facebook.com/'\n",
    "graph_version = 'v15.0/'\n",
    "end_point_base = graph_domain + graph_version\n",
    "\n",
    "ig_id = 'DIGITE SEU ID DA PÁGINA DO INSTAGRAM'\n",
    "ig_username = 'DIGITE O USER NAME DA PÁGINA DO INSTAGRAM'\n",
    "\n",
    "day = date.today() - timedelta(days=1)\n",
    "day = str(day.strftime('%d/%m/%Y')) \n",
    "\n",
    "data = date.today()\n",
    "data = str(data.strftime('%d/%m/%Y')) \n",
    "\n",
    "remetente = 'DIGITE O REMETENTE.' \n",
    "senha = 'DIGITE A SENHA DE PERMISSÃO DE USO DO APP DEFINIDA NAS CONFIGURAÇÕES DE SEGURANÇA DA SUA CONTA GOOGLE.'"
   ]
  },
  {
   "cell_type": "markdown",
   "id": "247f8d0f",
   "metadata": {},
   "source": [
    "## 4 - RENOVAÇÃO DO TOKEN"
   ]
  },
  {
   "cell_type": "markdown",
   "id": "79930180",
   "metadata": {
    "ExecuteTime": {
     "end_time": "2022-12-15T10:44:23.412738Z",
     "start_time": "2022-12-15T10:44:23.402771Z"
    }
   },
   "source": [
    "**Requests API:**\n",
    "\n",
    "https://graph.facebook.com/{graph-api-version}/oauth/access_token?grant_type=fb_exchange_token&client_id={app-id}&client_secret={app-secret}&fb_exchange_token={your-access-token}"
   ]
  },
  {
   "cell_type": "code",
   "execution_count": 4,
   "id": "d177f05e",
   "metadata": {
    "ExecuteTime": {
     "end_time": "2022-12-16T11:54:43.896510Z",
     "start_time": "2022-12-16T11:54:43.481148Z"
    }
   },
   "outputs": [
    {
     "name": "stdout",
     "output_type": "stream",
     "text": [
      "Não é necessário renovação. Token ainda está no prazo de validade.\n"
     ]
    }
   ],
   "source": [
    "# Verificando a data de expiração do token de acesso\n",
    "expire_at = getDataExpireAccessToken()\n",
    "\n",
    "# Definindo a data de renovação do token de acesso\n",
    "token_renew_at = expire_at - timedelta(days=3)\n",
    "\n",
    "# Verificando se a data de expiração é a mesma data de renovação do token de acesso. Caso seja a mesma data, o token de acesso é renovado.\n",
    "if expire_at == token_renew_at:\n",
    "    link = f'{end_point_base}oauth/access_token?grant_type=fb_exchange_token&client_id={app_id}&client_secret={app_secret}&fb_exchange_token={access_token}'\n",
    "    response = requests.get(link, ).json()\n",
    "    access_token = response['access_token']\n",
    "    print('Token Renovado !')\n",
    "else:\n",
    "    print('Não é necessário renovação. Token ainda está no prazo de validade.')"
   ]
  },
  {
   "cell_type": "markdown",
   "id": "2f448acc",
   "metadata": {},
   "source": [
    "## 5 - STORIES"
   ]
  },
  {
   "cell_type": "markdown",
   "id": "9a76c42e",
   "metadata": {},
   "source": [
    "**Requests API:**\n",
    "\n",
    "https://graph.facebook.com/{api-version}/{ig-media-id}/stories?access_token={access-token}\n",
    "\n",
    "**OS STORIES FICAM DISPONÍVEIS POR APENAS 24 HORAS APENAS**"
   ]
  },
  {
   "cell_type": "code",
   "execution_count": 5,
   "id": "414c667d",
   "metadata": {
    "ExecuteTime": {
     "end_time": "2022-12-16T10:30:58.192563Z",
     "start_time": "2022-12-16T10:30:58.192563Z"
    }
   },
   "outputs": [],
   "source": [
    "# Coletando os stories do dia anterior\n",
    "link = f'https://graph.facebook.com/v15.0/17841400454077387/stories?access_token={access_token}'\n",
    "response = requests.get(link).json()"
   ]
  },
  {
   "cell_type": "code",
   "execution_count": 6,
   "id": "71f98614",
   "metadata": {
    "ExecuteTime": {
     "end_time": "2022-12-16T10:30:58.195556Z",
     "start_time": "2022-12-16T10:30:58.195556Z"
    }
   },
   "outputs": [],
   "source": [
    "# Armazenando os stories em uma lista\n",
    "id_stories = []\n",
    "\n",
    "for i in range(len(response['data'])):\n",
    "    id_stories.append(response['data'][i]['id'])\n",
    "    \n",
    "if len(id_stories) == 0:\n",
    "    id_stories.append(0)"
   ]
  },
  {
   "cell_type": "code",
   "execution_count": 7,
   "id": "260667d2",
   "metadata": {
    "ExecuteTime": {
     "end_time": "2022-12-16T10:30:58.199546Z",
     "start_time": "2022-12-16T10:30:58.199546Z"
    }
   },
   "outputs": [],
   "source": [
    "# Criando coluna Stories no Dataframe para Stories\n",
    "\n",
    "df_stories = pd.DataFrame({'Data':day,'Id Stories':id_stories})"
   ]
  },
  {
   "cell_type": "code",
   "execution_count": 8,
   "id": "3d346f86",
   "metadata": {},
   "outputs": [],
   "source": [
    "# Salvando os dados\n",
    "\n",
    "df_stories.to_csv(r'C:\\Users\\Ricardo\\Desktop\\tb_insta_stories.csv', encoding='utf-8',index=False)"
   ]
  },
  {
   "cell_type": "code",
   "execution_count": null,
   "id": "3de14b8d",
   "metadata": {},
   "outputs": [],
   "source": [
    "print('Stories coletados com sucesso !')"
   ]
  },
  {
   "cell_type": "markdown",
   "id": "510a3516",
   "metadata": {},
   "source": [
    "## 6 - PUBLICAÇÕES"
   ]
  },
  {
   "cell_type": "code",
   "execution_count": 9,
   "id": "8c809af5",
   "metadata": {
    "ExecuteTime": {
     "end_time": "2022-12-16T13:19:35.756377Z",
     "start_time": "2022-12-16T13:19:35.502788Z"
    }
   },
   "outputs": [
    {
     "name": "stdout",
     "output_type": "stream",
     "text": [
      "Posts coletados com sucesso !\n"
     ]
    }
   ],
   "source": [
    "df1 = getAllPosts()"
   ]
  },
  {
   "cell_type": "markdown",
   "id": "3dbe7359",
   "metadata": {},
   "source": [
    "### 6.1 - PUBLICAÇÕES : INFORMAÇÕES ADICIONAIS"
   ]
  },
  {
   "cell_type": "code",
   "execution_count": 10,
   "id": "b8f48b93",
   "metadata": {
    "ExecuteTime": {
     "end_time": "2022-12-16T10:30:58.180595Z",
     "start_time": "2022-12-16T10:30:58.180595Z"
    }
   },
   "outputs": [
    {
     "name": "stdout",
     "output_type": "stream",
     "text": [
      "Informações adicionais dos Posts coletados com sucesso !\n"
     ]
    }
   ],
   "source": [
    "df2 = getPostAddInfo()\n",
    "\n",
    "# Merge\n",
    "df3 = pd.merge(df1, df2, on='Id', left_index=False)"
   ]
  },
  {
   "cell_type": "markdown",
   "id": "c61ba074",
   "metadata": {},
   "source": [
    "### 6.2- PUBLICAÇÕES: INSIGHTS"
   ]
  },
  {
   "cell_type": "markdown",
   "id": "c5e9e222",
   "metadata": {
    "ExecuteTime": {
     "end_time": "2022-12-09T10:58:10.448490Z",
     "start_time": "2022-12-09T10:58:10.420400Z"
    }
   },
   "source": [
    "**Requests API:**\n",
    "\n",
    "https://graph.facebook.com/{api-version}/{ig-media-id}/insights?metric={metric}&access_token={access-token}\n",
    "\n",
    "\n",
    "\n",
    "**Insights disponíveis pela API:**\n",
    "\n",
    "métricas: 'engagement,impressions,reach,saved'"
   ]
  },
  {
   "cell_type": "code",
   "execution_count": 11,
   "id": "f4782724",
   "metadata": {
    "ExecuteTime": {
     "end_time": "2022-12-16T10:30:58.182590Z",
     "start_time": "2022-12-16T10:30:58.182590Z"
    }
   },
   "outputs": [
    {
     "name": "stdout",
     "output_type": "stream",
     "text": [
      "Engajamento dos Posts coletados com sucesso !\n"
     ]
    }
   ],
   "source": [
    "# Engajamento\n",
    "id_engagement = []\n",
    "engagement = []\n",
    "\n",
    "for id in df3['Id']:\n",
    "    link = f'{graph_domain}{id}/insights?metric=engagement&access_token={access_token}'\n",
    "    response = requests.get(link).json()\n",
    "    id_engagement.append(id)\n",
    "    try:\n",
    "        engagement.append(response['data'][0]['values'][0].get('value'))\n",
    "    except:\n",
    "        engagement.append(0)\n",
    "            \n",
    "df_engagement = pd.DataFrame({'Id':id_engagement,'Engajamento':engagement})\n",
    "\n",
    "df4 = pd.merge(df3, df_engagement, on='Id', left_index=False)\n",
    "\n",
    "print('Engajamento dos Posts coletados com sucesso !')"
   ]
  },
  {
   "cell_type": "code",
   "execution_count": 12,
   "id": "11c6a8da",
   "metadata": {
    "ExecuteTime": {
     "end_time": "2022-12-16T10:30:58.183587Z",
     "start_time": "2022-12-16T10:30:58.183587Z"
    }
   },
   "outputs": [
    {
     "name": "stdout",
     "output_type": "stream",
     "text": [
      "Impressões dos Posts coletados com sucesso !\n"
     ]
    }
   ],
   "source": [
    "# Impressões\n",
    "id_impressions = []\n",
    "impressions = []\n",
    "\n",
    "for id in df4['Id']:\n",
    "    link = f'{graph_domain}{id}/insights?metric=impressions&access_token={access_token}'\n",
    "    response = requests.get(link).json()\n",
    "    id_impressions.append(id)\n",
    "    try:\n",
    "        impressions.append(response['data'][0]['values'][0].get('value'))\n",
    "    except:\n",
    "        impressions.append(0)\n",
    "            \n",
    "df_impressions = pd.DataFrame({'Id':id_impressions,'Impressões':impressions})\n",
    "\n",
    "df5 = pd.merge(df4,df_impressions, on='Id',left_index=False)\n",
    "\n",
    "print('Impressões dos Posts coletados com sucesso !')"
   ]
  },
  {
   "cell_type": "code",
   "execution_count": 13,
   "id": "7b91f695",
   "metadata": {
    "ExecuteTime": {
     "end_time": "2022-12-16T10:30:58.185582Z",
     "start_time": "2022-12-16T10:30:58.185582Z"
    }
   },
   "outputs": [
    {
     "name": "stdout",
     "output_type": "stream",
     "text": [
      "Alcance dos Posts coletados com sucesso !\n"
     ]
    }
   ],
   "source": [
    "# Alcance\n",
    "id_reach = []\n",
    "reach = []\n",
    "\n",
    "for id in df5['Id']:\n",
    "    link = f'{graph_domain}{id}/insights?metric=reach&access_token={access_token}'\n",
    "    response = requests.get(link).json()\n",
    "    id_reach.append(id)\n",
    "    try:\n",
    "        reach.append(response['data'][0]['values'][0].get('value'))\n",
    "    except:\n",
    "        reach.append(0)\n",
    "            \n",
    "df_reach = pd.DataFrame({'Id':id_reach,'Alcance':reach})\n",
    "\n",
    "df6 = pd.merge(df5,df_reach, on='Id', left_index=False)\n",
    "\n",
    "print('Alcance dos Posts coletados com sucesso !')"
   ]
  },
  {
   "cell_type": "code",
   "execution_count": 14,
   "id": "cdbd9136",
   "metadata": {
    "ExecuteTime": {
     "end_time": "2022-12-16T10:30:58.186582Z",
     "start_time": "2022-12-16T10:30:58.186582Z"
    }
   },
   "outputs": [
    {
     "name": "stdout",
     "output_type": "stream",
     "text": [
      "Salvos dos Posts coletados com sucesso !\n"
     ]
    }
   ],
   "source": [
    "# Salvos\n",
    "id_saved = []\n",
    "saved = []\n",
    "\n",
    "for id in df6['Id']:\n",
    "    link = f'{graph_domain}{id}/insights?metric=saved&access_token={access_token}'\n",
    "    response = requests.get(link).json()\n",
    "    id_saved.append(id)\n",
    "    try:\n",
    "        saved.append(response['data'][0]['values'][0].get('value'))\n",
    "    except:\n",
    "        saved.append(0)\n",
    "            \n",
    "df_saved = pd.DataFrame({'Id':id_saved,'Salvos':saved})\n",
    "\n",
    "df7 = pd.merge(df6,df_saved, on='Id', left_index=False)\n",
    "\n",
    "print('Salvos dos Posts coletados com sucesso !')"
   ]
  },
  {
   "cell_type": "markdown",
   "id": "761458a3",
   "metadata": {},
   "source": [
    "### 6.3 - PUBLICAÇÕES: INSIGHTS - REELS"
   ]
  },
  {
   "cell_type": "markdown",
   "id": "8f9d82a6",
   "metadata": {},
   "source": [
    "**Requests API:**\n",
    "\n",
    "https://graph.facebook.com/{api-version}/{ig-media-id}/insights?metric={metric}&access_token={access-token}\n",
    "    \n",
    "    \n",
    "**Insights disponíveis para REELS:**\n",
    "\n",
    "métricas:'comments,likes,plays,reach,saved,shares,total_interactions'"
   ]
  },
  {
   "cell_type": "code",
   "execution_count": 15,
   "id": "12422859",
   "metadata": {
    "ExecuteTime": {
     "end_time": "2022-12-16T10:30:58.188573Z",
     "start_time": "2022-12-16T10:30:58.188573Z"
    }
   },
   "outputs": [
    {
     "name": "stdout",
     "output_type": "stream",
     "text": [
      "Comentários, Exibição do Vídeo, Compartilhamentos e Total de Interações dos Reels coletados com sucesso !\n"
     ]
    }
   ],
   "source": [
    "# Comentários, Exibição do Vídeo, Compartilhamentos e Total de Interações\n",
    "\n",
    "id_reels = []\n",
    "comments = []\n",
    "plays = []\n",
    "shares = []\n",
    "total_interactions = []\n",
    "\n",
    "metrics = 'comments,plays,shares,total_interactions'\n",
    "\n",
    "for i in df7.index:\n",
    "    id = df7['Id'][i]\n",
    "    link = f'{graph_domain}{graph_version}{id}/insights?metric={metrics}&access_token={access_token}'\n",
    "    response = requests.get(link).json()\n",
    "    id_reels.append(id)\n",
    "    if df7['Produto'][i] == 'REELS':\n",
    "        comments.append(response['data'][0]['values'][0].get('value'))\n",
    "        plays.append(response['data'][1]['values'][0].get('value'))\n",
    "        shares.append(response['data'][2]['values'][0].get('value'))\n",
    "        total_interactions.append(response['data'][3]['values'][0].get('value'))\n",
    "    else:\n",
    "        comments.append(0)\n",
    "        plays.append(0)\n",
    "        shares.append(0)\n",
    "        total_interactions.append(0)\n",
    "            \n",
    "df_reels = pd.DataFrame({'Id':id_reels,'Comentários':comments,'Exibição dos Vídeos':plays,'Compartilhamentos':shares,\n",
    "                         'Total de Interações':total_interactions})\n",
    "\n",
    "df8 = pd.merge(df7,df_reels, on='Id', left_index=False)\n",
    "\n",
    "print('Comentários, Exibição do Vídeo, Compartilhamentos e Total de Interações dos Reels coletados com sucesso !')"
   ]
  },
  {
   "cell_type": "markdown",
   "id": "570282d3",
   "metadata": {},
   "source": [
    "### 6.4 - PUBLICAÇÕES: INSIGHTS - CAROUSEL"
   ]
  },
  {
   "cell_type": "markdown",
   "id": "5175366b",
   "metadata": {},
   "source": [
    "**Requests API:**\n",
    "\n",
    "https://graph.facebook.com/{api-version}/{ig-media-id}/insights?metric={metric}&access_token={access-token}\n",
    "\n",
    "**Insights disponíveis na API:**\n",
    "\n",
    "métricas: 'carousel_album_engagement,carousel_album_impressions,carousel_album_reach,carousel_album_saved,carousel_album_video_views'"
   ]
  },
  {
   "cell_type": "code",
   "execution_count": 16,
   "id": "1260f86b",
   "metadata": {
    "ExecuteTime": {
     "end_time": "2022-12-16T10:30:58.189571Z",
     "start_time": "2022-12-16T10:30:58.189571Z"
    }
   },
   "outputs": [
    {
     "name": "stdout",
     "output_type": "stream",
     "text": [
      "Engajamento, Impressões, Alcance, Salvos, Visualizações de Vídeo do Carrossel coletados com sucesso !\n"
     ]
    }
   ],
   "source": [
    "# Engajamento do Carrossel, Impressões do Carrossel, Alcance do Carrossel, Salvos do Carrossel, Visualizações de Vídeo do Carrossel\n",
    "id_carousel = []\n",
    "carousel_album_engagement = []\n",
    "carousel_album_impressions = []\n",
    "carousel_album_reach = []\n",
    "carousel_album_saved = []\n",
    "carousel_album_video_views = []\n",
    "\n",
    "metrics = 'carousel_album_engagement,carousel_album_impressions,carousel_album_reach,carousel_album_saved,carousel_album_video_views'\n",
    "\n",
    "for i in df8.index:\n",
    "    id = df8['Id'][i]\n",
    "    link = f'{graph_domain}{graph_version}{id}/insights?metric={metrics}&access_token={access_token}'\n",
    "    response = requests.get(link).json()\n",
    "    id_carousel.append(id)\n",
    "    if df8['Tipo'][i] == 'CAROUSEL_ALBUM':\n",
    "        carousel_album_engagement.append(response['data'][0]['values'][0].get('value'))\n",
    "        carousel_album_impressions.append(response['data'][1]['values'][0].get('value'))\n",
    "        carousel_album_reach.append(response['data'][2]['values'][0].get('value'))\n",
    "        carousel_album_saved.append(response['data'][3]['values'][0].get('value'))\n",
    "        carousel_album_video_views.append(response['data'][4]['values'][0].get('value'))\n",
    "    else:\n",
    "        carousel_album_engagement.append(0)\n",
    "        carousel_album_impressions.append(0)\n",
    "        carousel_album_reach.append(0)\n",
    "        carousel_album_saved.append(0)\n",
    "        carousel_album_video_views.append(0)\n",
    "            \n",
    "df_carousel = pd.DataFrame({'Id':id_carousel,'Engajamento do Carrossel':carousel_album_engagement,\n",
    "                            'Impressões do Carrossel':carousel_album_impressions,\n",
    "                            'Alcance do Carrossel':carousel_album_reach,'Salvos do Carrossel':carousel_album_saved,\n",
    "                            'Visualizações de Vídeo do Carrossel':carousel_album_video_views})\n",
    "df9 = pd.merge(df8,df_carousel, on='Id', left_index=False)\n",
    "\n",
    "print('Engajamento, Impressões, Alcance, Salvos, Visualizações de Vídeo do Carrossel coletados com sucesso !')"
   ]
  },
  {
   "cell_type": "markdown",
   "id": "60f2c93b",
   "metadata": {},
   "source": [
    "### 6.5 - PUBLICAÇÕES: INSIGHTS - IMAGE"
   ]
  },
  {
   "cell_type": "markdown",
   "id": "a5543881",
   "metadata": {},
   "source": [
    "**Requests API:**\n",
    "\n",
    "https://graph.facebook.com/{api-version}/{ig-media-id}/insights?metric={metric}&access_token={access-token}\n",
    "\n",
    "**Insights disponíveis para IMAGE:**\n",
    "\n",
    "métricas:'engagement,impressions,reach,saved'"
   ]
  },
  {
   "cell_type": "markdown",
   "id": "5faee06f",
   "metadata": {},
   "source": [
    "### 6.6 - PUBLICAÇÕES: INSIGHTS - VÍDEOS"
   ]
  },
  {
   "cell_type": "markdown",
   "id": "722f8765",
   "metadata": {},
   "source": [
    "**Requests API:**\n",
    "\n",
    "https://graph.facebook.com/{api-version}/{ig-media-id}/insights?metric={metric}&access_token={access-token}\n",
    "\n",
    "**Insights disponíveis para VIDEO:**\n",
    "\n",
    "métricas:'video_views,engagement,impressions,reach,saved'\n",
    "\n",
    "\n",
    "**OBS.: AS METRICAS PARA VÍDEOS NÃO SÃO COMPATÍVEIS COM OS REELS**"
   ]
  },
  {
   "cell_type": "code",
   "execution_count": 17,
   "id": "6be7a2b3",
   "metadata": {
    "ExecuteTime": {
     "end_time": "2022-12-16T10:30:58.190568Z",
     "start_time": "2022-12-16T10:30:58.190568Z"
    }
   },
   "outputs": [
    {
     "name": "stdout",
     "output_type": "stream",
     "text": [
      "Visualizações dos Vídeos coletados com sucesso !\n"
     ]
    }
   ],
   "source": [
    "# Visualizações dos Vídeos\n",
    "id_videos = []\n",
    "video_views = []\n",
    "\n",
    "metric = 'video_views'\n",
    "\n",
    "for i in df9.index:\n",
    "    id = df9['Id'][i]\n",
    "    link = f'{graph_domain}{graph_version}{id}/insights?metric={metric}&access_token={access_token}'\n",
    "    response = requests.get(link).json()\n",
    "    id_videos.append(id)\n",
    "    if (df9['Tipo'][i] == 'VIDEO') and (df9['Produto'][i] != 'REELS'):\n",
    "        video_views.append(response['data'][0]['values'][0].get('value'))\n",
    "    else:\n",
    "        video_views.append(0)\n",
    "            \n",
    "df_videos = pd.DataFrame({'Id':id_videos,'Visualizações dos Vídeos':video_views})\n",
    "df10 = pd.merge(df9,df_videos, on='Id', left_index=False)\n",
    "\n",
    "print('Visualizações dos Vídeos coletados com sucesso !')"
   ]
  },
  {
   "cell_type": "code",
   "execution_count": 18,
   "id": "65c47f42",
   "metadata": {
    "ExecuteTime": {
     "end_time": "2022-12-16T10:30:58.202536Z",
     "start_time": "2022-12-16T10:30:58.202536Z"
    }
   },
   "outputs": [],
   "source": [
    "# Salvando a planilha principal após todas as coletas acima\n",
    "df_main = df10.copy()\n",
    "\n",
    "# Inserindo a coluna data da coleta dos dados no Dataframe principal\n",
    "df_main['Data'] = day\n",
    "\n",
    "df_main.to_csv(r'C:\\Users\\Ricardo\\Desktop\\tb_insta_main.csv', encoding='utf-8',index=False)\n",
    "# df_main.to_csv(r'\\\\192.168.0.15\\d$\\Projects-Abendi\\Marketing\\Instagram\\tb_insta_main.csv', encoding='utf-8',index=False)"
   ]
  },
  {
   "cell_type": "markdown",
   "id": "8e0c2ace",
   "metadata": {},
   "source": [
    "## 7 - INSIGHTS DA CONTA (DIA)"
   ]
  },
  {
   "cell_type": "markdown",
   "id": "1d44b2b4",
   "metadata": {},
   "source": [
    "**Requests API:**\n",
    "\n",
    "https://graph.facebook.com/{api-version}/{ig-user-id}/insights?metric={metric}&period={period}&since={since}&until={until}&access_token={access-token}\n"
   ]
  },
  {
   "cell_type": "code",
   "execution_count": 19,
   "id": "ed9b7453",
   "metadata": {
    "ExecuteTime": {
     "end_time": "2022-12-16T10:30:58.203533Z",
     "start_time": "2022-12-16T10:30:58.203533Z"
    }
   },
   "outputs": [
    {
     "name": "stdout",
     "output_type": "stream",
     "text": [
      "Insights diários coletados com sucesso !\n"
     ]
    }
   ],
   "source": [
    "metrics = 'follower_count,impressions,profile_views,reach'\n",
    "link = f'{graph_domain}{graph_version}{ig_id}/insights?metric={metrics}&period=day&access_token={access_token}'\n",
    "\n",
    "response = requests.get(link).json()\n",
    " \n",
    "follower_count = response['data'][0]['values'][1].get('value')\n",
    "impressions = response['data'][1]['values'][1].get('value')\n",
    "profile_views = response['data'][2]['values'][1].get('value')\n",
    "reach = response['data'][3]['values'][1].get('value')\n",
    "\n",
    "'''\n",
    "API Requests\n",
    "https://graph.facebook.com/{api-version}/{ig-user-id}?fields={fields}&access_token={access-token}\n",
    "\n",
    "'''\n",
    "fields = 'followers_count,media_count'\n",
    "link = f'{graph_domain}{graph_version}{ig_id}/?fields={fields}&access_token={access_token}'\n",
    "\n",
    "response = requests.get(link).json()\n",
    "\n",
    "followers_count = response['followers_count']\n",
    "media_count = response['media_count']\n",
    "\n",
    "df_geral_dia = pd.DataFrame({'Data': [day],'Novos Seguidores':[follower_count],'Impressões':[impressions],'Visualizações':[profile_views],\n",
    "                            'Alcance':[reach],'Total Seguidores':followers_count,'Total Publicações':media_count}) \n",
    "\n",
    "print('Insights diários coletados com sucesso !')"
   ]
  },
  {
   "cell_type": "code",
   "execution_count": 20,
   "id": "8a70fe1d",
   "metadata": {
    "ExecuteTime": {
     "end_time": "2022-12-16T10:30:58.204531Z",
     "start_time": "2022-12-16T10:30:58.204531Z"
    }
   },
   "outputs": [],
   "source": [
    "# Salvando dados coletados \n",
    "df_geral_dia.to_csv(r'C:\\Users\\Ricardo\\Desktop\\tb_insta_info_days.csv', encoding='utf-8', index=False)\n",
    "# df_geral_dia.to_csv(r'\\\\192.168.0.15\\d$\\Projects-Abendi\\Marketing\\Instagram\\tb_insta_info_days.csv', encoding='utf-8', index=False)"
   ]
  },
  {
   "cell_type": "markdown",
   "id": "b4145e4d",
   "metadata": {},
   "source": [
    "## 8 - DADOS DEMOGRÁFICOS"
   ]
  },
  {
   "cell_type": "markdown",
   "id": "b4d1054b",
   "metadata": {},
   "source": [
    "### 8.1 - IDADE E GENERO - TOTAL"
   ]
  },
  {
   "cell_type": "code",
   "execution_count": 21,
   "id": "77ff018a",
   "metadata": {
    "ExecuteTime": {
     "end_time": "2022-12-16T10:30:58.205528Z",
     "start_time": "2022-12-16T10:30:58.205528Z"
    }
   },
   "outputs": [
    {
     "name": "stdout",
     "output_type": "stream",
     "text": [
      "Dados de Gênero e Idade coletados com sucesso\n"
     ]
    }
   ],
   "source": [
    "metrics = 'audience_gender_age'\n",
    "link = f'{graph_domain}{graph_version}{ig_id}/insights?metric={metrics}&period=lifetime&access_token={access_token}'\n",
    "\n",
    "response = requests.get(link).json()\n",
    "\n",
    "genero_idade = response['data'][0]['values'][0]['value']\n",
    "\n",
    "indefinido = []\n",
    "masculino = []\n",
    "feminino = []\n",
    "\n",
    "faixa_etaria = ['13-17','18-24','25-34','35-44','45-54','55-64','65+']\n",
    "\n",
    "for key,value in genero_idade.items():\n",
    "    if key.find('F.') and key.find('M.'):\n",
    "        indefinido.append(value)\n",
    "    elif key.find('F.') and key.find('U.'):\n",
    "        masculino.append(value)\n",
    "    else:\n",
    "        feminino.append(value)\n",
    "        \n",
    "df_genero_idade = pd.DataFrame({'Data':day,'Faixa Etária':faixa_etaria,'Feminino':feminino,'Masculino':masculino,'Indefinido':indefinido})\n",
    "\n",
    "df_genero_idade.to_csv(r'C:\\Users\\Ricardo\\Desktop\\tb_insta_age_gender.csv', encoding='utf-8',index=False)\n",
    "# df_genero_idade.to_csv(r'\\\\192.168.0.15\\d$\\Projects-Abendi\\Marketing\\Instagram\\tb_insta_age_gender.csv', encoding='utf-8',index=False)\n",
    "\n",
    "print('Dados de Gênero e Idade coletados com sucesso')"
   ]
  },
  {
   "cell_type": "markdown",
   "id": "abfa2add",
   "metadata": {},
   "source": [
    "### 8.2 - CIDADES BRASILEIRAS / PAÍSES - TOTAL"
   ]
  },
  {
   "cell_type": "code",
   "execution_count": 7,
   "id": "10de7874",
   "metadata": {
    "ExecuteTime": {
     "end_time": "2022-12-16T10:30:58.209519Z",
     "start_time": "2022-12-16T10:30:58.209519Z"
    }
   },
   "outputs": [
    {
     "name": "stdout",
     "output_type": "stream",
     "text": [
      "Dados das cidades brasileiras coletados com sucesso !\n"
     ]
    }
   ],
   "source": [
    "metrics = 'audience_city,audience_country'\n",
    "link = f'{graph_domain}{graph_version}{ig_id}/insights?metric={metrics}&period=lifetime&access_token={access_token}'\n",
    "\n",
    "response = requests.get(link).json()\n",
    "\n",
    "cidades_brasileiras = response['data'][0]['values'][0]['value']\n",
    "\n",
    "cidade = []\n",
    "estado = []\n",
    "quantidade = []\n",
    "cidade_estado = []\n",
    "\n",
    "# Criando uma lista auxiliar \n",
    "for key,value in cidades_brasileiras.items():\n",
    "    cidade_estado.append(key.split(','))\n",
    "\n",
    "# Separando o estado da cidade\n",
    "for i in range(len(cidade_estado)):\n",
    "    cidade.append(cidade_estado[i][0])\n",
    "    estado.append(cidade_estado[i][1])\n",
    "\n",
    "# Removendo os caracteres (state)\n",
    "for i in range(len(estado)):\n",
    "    estado[i] = estado[i].replace('(state)','')\n",
    "    \n",
    "# Populando a lista de quantidade\n",
    "for value in cidades_brasileiras.values():\n",
    "    quantidade.append(value)\n",
    "    \n",
    "# Montando o Dataframe\n",
    "df_cidades = pd.DataFrame({'Data':day,'Cidade':cidade,'Estado':estado,'Quantidade':quantidade})\n",
    "\n",
    "df_cidades.to_csv(r'C:\\Users\\Ricardo\\Desktop\\tb_insta_cities.csv', encoding='utf-8', index=False)\n",
    "# df_cidades.to_csv(r'\\\\192.168.0.15\\d$\\Projects-Abendi\\Marketing\\Instagram\\tb_insta_cities.csv', encoding='utf-8', index=False)\n",
    "\n",
    "print('Dados das cidades brasileiras coletados com sucesso !')"
   ]
  },
  {
   "cell_type": "code",
   "execution_count": 8,
   "id": "ca205eba",
   "metadata": {
    "ExecuteTime": {
     "end_time": "2022-12-16T10:30:58.211514Z",
     "start_time": "2022-12-16T10:30:58.211514Z"
    }
   },
   "outputs": [
    {
     "name": "stdout",
     "output_type": "stream",
     "text": [
      "Dados dos países coletados com sucesso !\n"
     ]
    }
   ],
   "source": [
    "# Abrindo lista de códigos de países\n",
    "codigos = pd.read_csv('codigo.txt', sep=',', encoding='latin-1', header=None)\n",
    "codigos = codigos.rename(columns={0:'Código do País',1:'País'})\n",
    "\n",
    "# Coletando dados dos países\n",
    "paises = response['data'][1]['values'][0]['value']\n",
    "\n",
    "# Separando código do país e a quantidade\n",
    "codigo_pais = []\n",
    "quantidade = []\n",
    "\n",
    "for key,value in paises.items():\n",
    "    codigo_pais.append(key)\n",
    "    quantidade.append(value)\n",
    "\n",
    "# Montando o dataframe\n",
    "df_country = pd.DataFrame({'Data':day,'Código do País':codigo_pais,'Quantidade':quantidade})\n",
    "\n",
    "# Juntando o df_country e o codigo através da coluna Id\n",
    "df_country = pd.merge(df_country, codigos, on='Código do País', left_index=False)\n",
    "\n",
    "df_country.to_csv(r'C:\\Users\\Ricardo\\Desktop\\tb_insta_countries.csv', encoding='utf-8', index=False)\n",
    "# df_country.to_csv(r'\\\\192.168.0.15\\d$\\Projects-Abendi\\Marketing\\Instagram\\tb_insta_countries.csv', encoding='utf-8', index=False)\n",
    "\n",
    "print('Dados dos países coletados com sucesso !')"
   ]
  },
  {
   "cell_type": "markdown",
   "id": "bf963e36",
   "metadata": {},
   "source": [
    "## 9 - BANCO DE DADOS"
   ]
  },
  {
   "cell_type": "markdown",
   "id": "bbaad5ab",
   "metadata": {},
   "source": [
    "### 9.1 - Informações Gerais\n",
    "\n",
    "Informações do Banco\n",
    "- Banco de dados: PostgreSQL 14.3\n",
    "- Usuário: postgres\n",
    "- Senha: senha do usuário postgres\n",
    "\n",
    "Tabelas Criadas:\n",
    "- tb_insta_main\n",
    "    - Data Coleta = data\n",
    "    - Id = id\n",
    "    - Link do Post = link_post\n",
    "    - Descrição = descricao\n",
    "    - Tipo = tipo\n",
    "    - Data da Postagem = data_postagem\n",
    "    - Likes = likes\n",
    "    - Produto = produto\n",
    "    - Engajamento = engajamento\n",
    "    - Impressões = impressoes\n",
    "    - Alcance = alcance\n",
    "    - Salvos = salvos\n",
    "    - Comentários = comentarios\n",
    "    - Exibição dos Vídeos = exibicao_videos\n",
    "    - Compartilhamentos = compartilhamentos\n",
    "    - Total de Interações = total_interacoes\n",
    "    - Engajamento do Carrossel = engajamento_carrossel\n",
    "    - Impressões do Carrossel = impressoes_carrossel\n",
    "    - Alcance do Carrossel = alcance_carrossel\n",
    "    - Salvos do Carrossel = salvos_carrossel\n",
    "    - Visualizações de Vídeo do Carrossel - videos_carrossel\n",
    "    - Visualizações dos Vídeos = videos\n",
    "- tb_insta_info_days\n",
    "    - Data = data\n",
    "    - Novos Seguidores = novos_seguidores\n",
    "    - Impressões = impressoes\n",
    "    - Visualizações = visualizoes\n",
    "    - Alcance = alcance\n",
    "    - Total Seguidores = total_seguidores\n",
    "    - Total Publicações = total_publicacoes\n",
    "- tb_insta_age_gender\n",
    "    - Data = data\n",
    "    - Faixa Etária = faixa\n",
    "    - Feminino = feminino\n",
    "    - Masculino = masculino\n",
    "    - Indefinido = indefinido\n",
    "- tb_insta_cities\n",
    "    - Data = data\n",
    "    - Cidade = cidade\n",
    "    - Estado = estado\n",
    "    - Quantidade = quantidade\n",
    "- tb_insta_countries\n",
    "    - Data = data\n",
    "    - Código do País = codigo\n",
    "    - Quantidade = quantidade\n",
    "    - País = pais\n",
    "- tb_stories\n",
    "    - Data = data\n",
    "    - Id = id do Story"
   ]
  },
  {
   "cell_type": "markdown",
   "id": "a8ea754e",
   "metadata": {},
   "source": [
    "### 9.2 - Populando as tabelas"
   ]
  },
  {
   "cell_type": "code",
   "execution_count": null,
   "id": "b51fe54a",
   "metadata": {
    "ExecuteTime": {
     "end_time": "2022-12-16T10:30:58.212511Z",
     "start_time": "2022-12-16T10:30:58.212511Z"
    }
   },
   "outputs": [],
   "source": [
    "# Criando os dados para a conexão com o banco de dados PostgreSQL no servidor ABEDS01 (192.168.0.15)\n",
    "dados_conexao = ('Driver=PostgreSQL Unicode(x64);Server=IP do servidor;Database=nome do banco;UID=postgres;PWD=senha do usuário')\n",
    "\n",
    "# Criando a conexão com o banco de dados\n",
    "conexao = pyodbc.connect(dados_conexao)\n",
    "\n",
    "# Criando o cursor\n",
    "cursor = conexao.cursor()"
   ]
  },
  {
   "cell_type": "code",
   "execution_count": null,
   "id": "89cd460d",
   "metadata": {
    "ExecuteTime": {
     "end_time": "2022-12-16T10:30:58.214505Z",
     "start_time": "2022-12-16T10:30:58.214505Z"
    }
   },
   "outputs": [],
   "source": [
    "# tb_insta_main\n",
    "for i in df_main.index:\n",
    "    data = df_main['Data'][i]\n",
    "    id_ = df_main['Id'][i]\n",
    "    link_post = df_main['Link do Post'][i]\n",
    "    tipo = df_main['Tipo'][i]\n",
    "    data_postagem = df_main['Data da Postagem'][i]\n",
    "    likes = df_main['Likes'][i]\n",
    "    produto = df_main['Produto'][i]\n",
    "    engajamento = df_main['Engajamento'][i]\n",
    "    impressoes = df_main['Impressões'][i]\n",
    "    alcance = df_main['Alcance'][i]\n",
    "    salvos = df_main['Salvos'][i]\n",
    "    comentario = df_main['Comentários'][i]\n",
    "    exibicao_videos = df_main['Exibição dos Vídeos'][i]\n",
    "    compartilhamentos = df_main['Compartilhamentos'][i]\n",
    "    total_interacoes = df_main['Total de Interações'][i]\n",
    "    engajamento_carrossel = df_main['Engajamento do Carrossel'][i]\n",
    "    impressoes_carrossel = df_main['Impressões do Carrossel'][i]\n",
    "    alcance_carrossel = df_main['Alcance do Carrossel'][i]\n",
    "    salvos_carrossel = df_main['Salvos do Carrossel'][i]\n",
    "    videos_carrossel = df_main['Visualizações de Vídeo do Carrossel'][i]\n",
    "    videos = df_main['Visualizações dos Vídeos'][i]\n",
    "\n",
    "    # Inserção dos registros coletados na tabela tb_insta_main\n",
    "    cursor.execute(f\"INSERT INTO public.tb_insta_main(data, id_, link_post, tipo, data_postagem, likes, produto, engajamento, impressoes, alcance, salvos, comentario, exibicao_videos, compartilhamentos, total_interacoes, engajamento_carrossel, impressoes_carrossel, alcance_carrossel, salvos_carrossel, videos_carrossel, videos) VALUES ('{data}', '{id_}', '{link_post}', '{tipo}', '{data_postagem}', '{likes}', '{produto}', '{engajamento}', '{impressoes}', '{alcance}', '{salvos}', '{comentario}', '{exibicao_videos}', '{compartilhamentos}', '{total_interacoes}', '{engajamento_carrossel}', '{impressoes_carrossel}', '{alcance_carrossel}', '{salvos_carrossel}', '{videos_carrossel}', '{videos}');\")"
   ]
  },
  {
   "cell_type": "code",
   "execution_count": null,
   "id": "c9e9af80",
   "metadata": {
    "ExecuteTime": {
     "end_time": "2022-12-16T10:30:58.216501Z",
     "start_time": "2022-12-16T10:30:58.215503Z"
    }
   },
   "outputs": [],
   "source": [
    "# tb_insta_info_days\n",
    "\n",
    "for i in df_geral_dia.index:\n",
    "    data = df_geral_dia['Data'][i]\n",
    "    novos_seguidores = df_geral_dia['Novos Seguidores'][i]\n",
    "    impressoes = df_geral_dia['Impressões'][i]\n",
    "    visualizacoes = df_geral_dia['Visualizações'][i]\n",
    "    alcance = df_geral_dia['Alcance'][i]\n",
    "    total_seguidores = df_geral_dia['Total Seguidores'][i]\n",
    "    total_publicacoes = df_geral_dia['Total Publicações'][i]\n",
    "\n",
    "    # Inserção dos registros coletados na tabela tb_insta_info_days\n",
    "    cursor.execute(f\"\"\"\n",
    "    INSERT INTO public.tb_insta_info_days(data,novos_seguidores,impressoes,visualizoes,alcance,total_seguidores,total_publicacoes)\n",
    "    VALUES('{data}','{novos_seguidores}','{impressoes}','{visualizacoes}','{alcance}','{total_seguidores}','{total_publicacoes}');\n",
    "    \"\"\")"
   ]
  },
  {
   "cell_type": "code",
   "execution_count": null,
   "id": "6026f468",
   "metadata": {
    "ExecuteTime": {
     "end_time": "2022-12-16T10:30:58.217498Z",
     "start_time": "2022-12-16T10:30:58.217498Z"
    }
   },
   "outputs": [],
   "source": [
    "# tb_insta_age_gender\n",
    "for i in df_genero_idade.index:\n",
    "    data = df_genero_idade['Data'][i]\n",
    "    faixa = df_genero_idade['Faixa Etária'][i]\n",
    "    feminino = df_genero_idade['Feminino'][i]\n",
    "    masculino = df_genero_idade['Masculino'][i]\n",
    "    indefinido = df_genero_idade['Indefinido'][i]\n",
    "    \n",
    "    # Inserção dos registros coletados na tabela tb_insta_age_gender\n",
    "    cursor.execute(f\"\"\"\n",
    "    INSERT INTO public.tb_insta_age_gender(data,faixa,feminino,masculino,indefinido)\n",
    "    VALUES('{data}','{faixa}','{feminino}','{masculino}','{indefinido}');\n",
    "    \"\"\")"
   ]
  },
  {
   "cell_type": "code",
   "execution_count": null,
   "id": "21e7e233",
   "metadata": {
    "ExecuteTime": {
     "end_time": "2022-12-16T10:30:58.218495Z",
     "start_time": "2022-12-16T10:30:58.218495Z"
    }
   },
   "outputs": [],
   "source": [
    "# tb_insta_age_gender\n",
    "for i in df_genero_idade.index:\n",
    "    data = df_genero_idade['Data'][i]\n",
    "    faixa = df_genero_idade['Faixa Etária'][i]\n",
    "    feminino = df_genero_idade['Feminino'][i]\n",
    "    masculino = df_genero_idade['Masculino'][i]\n",
    "    indefinido = df_genero_idade['Indefinido'][i]\n",
    "    \n",
    "    # Inserção dos registros coletados na tabela tb_insta_age_gender\n",
    "    cursor.execute(f\"\"\"\n",
    "    INSERT INTO public.tb_insta_age_gender(data,faixa,feminino,masculino,indefinido)\n",
    "    VALUES('{data}','{faixa}','{feminino}','{masculino}','{indefinido}');\n",
    "    \"\"\")"
   ]
  },
  {
   "cell_type": "code",
   "execution_count": null,
   "id": "240eb568",
   "metadata": {
    "ExecuteTime": {
     "end_time": "2022-12-16T10:30:58.219492Z",
     "start_time": "2022-12-16T10:30:58.219492Z"
    }
   },
   "outputs": [],
   "source": [
    "# tb_insta_countries\n",
    "for i in df_country.index:\n",
    "    data = df_country['Data'][i]\n",
    "    codigo = df_country['Código do País'][i]\n",
    "    quantidade = df_country['Quantidade'][i]\n",
    "    pais = df_country['País'][i]\n",
    "\n",
    "    # Inserção dos registros coletados na tabela tb_insta_countries\n",
    "    cursor.execute(f\"\"\"\n",
    "    INSERT INTO public.tb_insta_countries(data,codigo,quantidade,pais)\n",
    "    VALUES('{data}','{codigo}','{quantidade}','{pais}');\n",
    "    \"\"\")"
   ]
  },
  {
   "cell_type": "code",
   "execution_count": null,
   "id": "611ad2a5",
   "metadata": {},
   "outputs": [],
   "source": [
    "# tb_insta_stories\n",
    "for i in df_stories.index:\n",
    "    data = df_stories['Data'][i]\n",
    "    id_ = df_stories['Id Stories'][i]\n",
    "\n",
    "     # Inserção dos registros coletados na tabela tb_insta_countries \n",
    "    cursor.execute(f\"\"\"\n",
    "    INSERT INTO public.tb_insta_stories(data,id_stories)\n",
    "    VALUES('{data}','{id_}');\n",
    "    \"\"\")   "
   ]
  },
  {
   "cell_type": "code",
   "execution_count": null,
   "id": "5b299e78",
   "metadata": {
    "ExecuteTime": {
     "end_time": "2022-12-16T10:30:58.221488Z",
     "start_time": "2022-12-16T10:30:58.221488Z"
    }
   },
   "outputs": [],
   "source": [
    "# Efetivando a inserção dos registros\n",
    "cursor.commit()"
   ]
  },
  {
   "cell_type": "code",
   "execution_count": null,
   "id": "ee268270",
   "metadata": {
    "ExecuteTime": {
     "end_time": "2022-12-16T10:30:58.222485Z",
     "start_time": "2022-12-16T10:30:58.222485Z"
    }
   },
   "outputs": [],
   "source": [
    "# Fechando a conexão com o Banco de Dados após a inserção dos registros\n",
    "cursor.close()\n",
    "conexao.close()"
   ]
  },
  {
   "cell_type": "markdown",
   "id": "ea0280bc",
   "metadata": {},
   "source": [
    "## 10 - NOTIFICANDO O RESPONSÁVEL"
   ]
  },
  {
   "cell_type": "markdown",
   "id": "a314292e",
   "metadata": {},
   "source": [
    "### INFORMAÇÕES GERAIS PARA ENVIO DE E-MAIL\n",
    "\n",
    "    1 - Acesse a conta do Gmail que será utilizada para o envio do e-mail\n",
    "    2 - Clique em \"Gerenciar conta do Google\" no menu do perfil\n",
    "    3 - Clique em \"Segurança\"\n",
    "    4 - Na opção \"Como fazer login no Google\" clique em \"Senhas de App\"\n",
    "    5 - Clique em \"Selecionar App\" e escolha a opção \"Outro - Nome Personalizado\"\n",
    "    6 - Defina um nome para o App e clique no botão GERAR\n",
    "    7 - A senha que será utilizada para autenticação será exibida. Utilize esta senha na variável senha"
   ]
  },
  {
   "cell_type": "code",
   "execution_count": null,
   "id": "6d95c831",
   "metadata": {},
   "outputs": [],
   "source": [
    "corpo_email = f\"\"\"\n",
    "<p><b>***** Informativo *****</b></p>\n",
    "<p>Rotina de carga de dados do Instagram realizada com sucesso no dia {day}.</p>\n",
    "\"\"\"\n",
    "\n",
    "msg = email.message.Message()\n",
    "msg['Subject'] = \"Carga de dados Instagram\"\n",
    "msg['From'] = remetente\n",
    "msg['To'] = 'DIGITE O E-MAIL DO DESTINATÁRIO.'\n",
    "password = senha \n",
    "msg.add_header('Content-Type', 'text/html')\n",
    "msg.set_payload(corpo_email )\n",
    "\n",
    "s = smtplib.SMTP('smtp.gmail.com: 587')\n",
    "s.starttls()\n",
    "\n",
    "s.login(msg['From'], password)\n",
    "s.sendmail(msg['From'], [msg['To']], msg.as_string().encode('utf-8'))\n",
    "\n",
    "print('Email enviado')"
   ]
  },
  {
   "cell_type": "markdown",
   "id": "afeafa0d",
   "metadata": {},
   "source": [
    "## 11 - REQUIREMENTS.TXT"
   ]
  },
  {
   "cell_type": "code",
   "execution_count": 2,
   "id": "d5a21f6f",
   "metadata": {},
   "outputs": [],
   "source": [
    "!pip3 freeze > requirements.txt"
   ]
  },
  {
   "cell_type": "code",
   "execution_count": null,
   "id": "52a2e401",
   "metadata": {},
   "outputs": [],
   "source": []
  }
 ],
 "metadata": {
  "kernelspec": {
   "display_name": "Python 3 (ipykernel)",
   "language": "python",
   "name": "python3"
  },
  "language_info": {
   "codemirror_mode": {
    "name": "ipython",
    "version": 3
   },
   "file_extension": ".py",
   "mimetype": "text/x-python",
   "name": "python",
   "nbconvert_exporter": "python",
   "pygments_lexer": "ipython3",
   "version": "3.9.13"
  }
 },
 "nbformat": 4,
 "nbformat_minor": 5
}
