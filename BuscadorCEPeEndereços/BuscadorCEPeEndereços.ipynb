{
 "cells": [
  {
   "cell_type": "markdown",
   "id": "13563132",
   "metadata": {},
   "source": [
    "# PROJETO - CONSULTA CEP"
   ]
  },
  {
   "cell_type": "markdown",
   "id": "1222c3b4",
   "metadata": {},
   "source": [
    "### OBJETIVO:\n",
    "\n",
    "- Conectar à API do ViaCEP (https://www.viacep.com.br) e criar um programa que busque CEP pelo endereço e busque o endereço pelo CEP.\n",
    "- O programa deverá ser executado na plataforma Windows (por isso deve ser convertido em .exe) e permitirá que o usuário opte em buscar pelo endereço para obter o CEP ou optar pelo CEP para buscar um endereço.\n",
    "\n",
    "\n",
    "### MOTIVAÇÃO:\n",
    "\n",
    "- Facilitar a busca de CEP ou endereços no dia a dia do usuário sem que o mesmo tenha que acessar sites ou realizar buscas no Google. Basta apenas executar o programa e escolher se quer fazer uma busca pelo endereço ou pelo CEP.\n",
    "\n",
    "\n",
    "### INFORMAÇÕES:\n",
    "\n",
    "- Nome do programa: LOCALIZE.exe\n",
    "- Site onde as requisições API são realizadas: https://viacep.com.br/\n",
    "- Formato de resposta da API: JSON \n",
    "- Máximo de 50 buscas por consulta"
   ]
  },
  {
   "cell_type": "markdown",
   "id": "bb7da317",
   "metadata": {},
   "source": [
    "## 1 - BIBLIOTECAS "
   ]
  },
  {
   "cell_type": "code",
   "execution_count": 142,
   "id": "147e0d02",
   "metadata": {},
   "outputs": [],
   "source": [
    "import requests\n",
    "import pandas as pd\n",
    "from pprint import pprint\n",
    "\n",
    "# Definindo opções do Pandas\n",
    "pd.set_option('display.max_rows', None)\n",
    "pd.set_option('display.max_columns', None)\n",
    "pd.set_option('display.width', None)\n",
    "pd.set_option('display.max_colwidth', None)"
   ]
  },
  {
   "cell_type": "markdown",
   "id": "a94c5201",
   "metadata": {},
   "source": [
    "## 2 - PARÂMETROS"
   ]
  },
  {
   "cell_type": "code",
   "execution_count": 60,
   "id": "bd8ad434",
   "metadata": {},
   "outputs": [],
   "source": [
    "# Variáveis\n",
    "opcao = int()\n",
    "cep = str()\n",
    "uf = str()\n",
    "cidade = str()\n",
    "endereco = str()"
   ]
  },
  {
   "cell_type": "markdown",
   "id": "c6978cca",
   "metadata": {},
   "source": [
    "## 3 - BUSCANDO ENDEREÇOS PELO CEP ou CEP PELO ENDEREÇO"
   ]
  },
  {
   "cell_type": "code",
   "execution_count": 163,
   "id": "e1e61e47",
   "metadata": {},
   "outputs": [
    {
     "name": "stdout",
     "output_type": "stream",
     "text": [
      "****** SEJA BEM VINDO(A) AO SISTEMA LOCALIZE ******\n",
      "\n",
      "\n",
      "Você gostaria de localizar um Endereço ou um CEP? (Digite 1 para Endereço, 2 para CEP ou 3 para SAIR)\n",
      "\n",
      "\n",
      "Digite a Opção Desejada: 1\n",
      "Digite o CEP: 04355100\n",
      "Buscando... Aguarde !\n",
      "Endereço encontrado\n"
     ]
    },
    {
     "data": {
      "text/html": [
       "<div>\n",
       "<style scoped>\n",
       "    .dataframe tbody tr th:only-of-type {\n",
       "        vertical-align: middle;\n",
       "    }\n",
       "\n",
       "    .dataframe tbody tr th {\n",
       "        vertical-align: top;\n",
       "    }\n",
       "\n",
       "    .dataframe thead th {\n",
       "        text-align: right;\n",
       "    }\n",
       "</style>\n",
       "<table border=\"1\" class=\"dataframe\">\n",
       "  <thead>\n",
       "    <tr style=\"text-align: right;\">\n",
       "      <th></th>\n",
       "      <th>CEP</th>\n",
       "      <th>Endereço</th>\n",
       "      <th>Complemento</th>\n",
       "      <th>Bairro</th>\n",
       "      <th>Cidade</th>\n",
       "      <th>UF</th>\n",
       "      <th>DDD</th>\n",
       "    </tr>\n",
       "  </thead>\n",
       "  <tbody>\n",
       "    <tr>\n",
       "      <th>0</th>\n",
       "      <td>04355-100</td>\n",
       "      <td>Rua Hideo Suguiyama</td>\n",
       "      <td></td>\n",
       "      <td>Parque Jabaquara</td>\n",
       "      <td>São Paulo</td>\n",
       "      <td>SP</td>\n",
       "      <td>11</td>\n",
       "    </tr>\n",
       "  </tbody>\n",
       "</table>\n",
       "</div>"
      ],
      "text/plain": [
       "         CEP             Endereço Complemento            Bairro     Cidade  \\\n",
       "0  04355-100  Rua Hideo Suguiyama              Parque Jabaquara  São Paulo   \n",
       "\n",
       "   UF DDD  \n",
       "0  SP  11  "
      ]
     },
     "metadata": {},
     "output_type": "display_data"
    },
    {
     "name": "stdout",
     "output_type": "stream",
     "text": [
      "\n",
      "\n",
      "FIM...\n"
     ]
    }
   ],
   "source": [
    "print('****** SEJA BEM VINDO(A) AO SISTEMA LOCALIZE ******')\n",
    "print('\\n')\n",
    "print('Você gostaria de localizar um Endereço ou um CEP? (Digite 1 para Endereço, 2 para CEP ou 3 para SAIR)')\n",
    "print('\\n')\n",
    "\n",
    "opcao = int(input('Digite a Opção Desejada: '))\n",
    "\n",
    "while (opcao != 1) and (opcao != 2) and (opcao !=3):\n",
    "    print('Por favor digite apenas uma das opções (Digite 1 para Endereço, 2 para CEP ou 3 para SAIR): ')\n",
    "    opcao = int(input('Digite a Opção Desejada: '))\n",
    "    \n",
    "if opcao == 1:\n",
    "     # Buscando Endereço pelo CEP\n",
    "    cep = input('Digite o CEP: ')\n",
    "    print('Buscando... Aguarde !')\n",
    "    response = requests.get(f'https://viacep.com.br/ws/{cep}/json/')\n",
    "    if response.ok == True:\n",
    "        print('Endereço encontrado')\n",
    "        r = response.json()\n",
    "        # Montando o Dataframe\n",
    "        col1 = r['cep']\n",
    "        col2 = r['logradouro']\n",
    "        col3 = r['complemento']\n",
    "        col4 = r['bairro']\n",
    "        col5 = r['localidade']\n",
    "        col6 = r['uf']\n",
    "        col7 = r['ddd']\n",
    "        tabela = pd.DataFrame({'CEP':[col1],'Endereço':[col2],'Complemento':[col3],'Bairro':[col4],'Cidade':[col5],'UF':[col6],'DDD':[col7]})\n",
    "        display(tabela)\n",
    "    else:\n",
    "        print('Endereço não encontrado. Verifique se você digitou o CEP corretamente. Obrigado.')\n",
    "    \n",
    "elif opcao == 2:\n",
    "    # Buscando CEP pelo endereço ou parte do endereço\n",
    "    uf = input('Digite a UF do endereço desejado: ')\n",
    "    cidade = input('Digite agora a CIDADE do endereço desejado: ')\n",
    "    endereco = input('Agora, digite o endereço completo (sem o número) ou parte do endereço: ')\n",
    "    print('Buscando... Aguarde ! ')\n",
    "    response = requests.get(f'https://viacep.com.br/ws/{uf}/{cidade}/{endereco}/json/')\n",
    "    if response.ok == True:\n",
    "        print('CEP encontrado')\n",
    "        r = response.json()\n",
    "        # Montando o Dataframe\n",
    "        col1 = []\n",
    "        col2 = []\n",
    "        col3 = []\n",
    "        col4 = []\n",
    "        col5 = []\n",
    "        col6 = []\n",
    "        col7 = []\n",
    "        for i in range(len(r)):\n",
    "            col1.append(r[i]['cep'])\n",
    "            col2.append(r[i]['logradouro'])\n",
    "            col3.append(r[i]['complemento'])\n",
    "            col4.append(r[i]['bairro'])\n",
    "            col5.append(r[i]['localidade'])\n",
    "            col6.append(r[i]['uf'])\n",
    "            col7.append(r[i]['ddd'])\n",
    "        tabela = pd.DataFrame({'CEP':col1,'Endereço':col2,'Complemento':col3,'Bairro':col4,'Cidade':col5,'UF':col6,'DDD':col7})\n",
    "        display(tabela)\n",
    "    else:\n",
    "        print('CEP não encontrado. Por favor verifique se você digitou o endereço correto. Obrigado.')\n",
    "    \n",
    "elif opcao == 3:\n",
    "    print('\\n')\n",
    "    print('Obrigado por usar o LOCALIZE...')\n",
    "print('\\n')\n",
    "print('FIM...')"
   ]
  },
  {
   "cell_type": "code",
   "execution_count": null,
   "id": "97bf9001",
   "metadata": {},
   "outputs": [],
   "source": []
  }
 ],
 "metadata": {
  "kernelspec": {
   "display_name": "Python 3 (ipykernel)",
   "language": "python",
   "name": "python3"
  },
  "language_info": {
   "codemirror_mode": {
    "name": "ipython",
    "version": 3
   },
   "file_extension": ".py",
   "mimetype": "text/x-python",
   "name": "python",
   "nbconvert_exporter": "python",
   "pygments_lexer": "ipython3",
   "version": "3.10.8"
  }
 },
 "nbformat": 4,
 "nbformat_minor": 5
}
