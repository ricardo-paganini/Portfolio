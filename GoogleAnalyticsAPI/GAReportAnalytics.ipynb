{
 "cells": [
  {
   "cell_type": "markdown",
   "id": "0aa2fab2",
   "metadata": {},
   "source": [
    "# PROJETO - EXTRAÇÃO DE DADOS DO GOOGLE ANALYTICS 4 \n",
    "\n",
    "\n",
    "### OBJETIVO:\n",
    "\n",
    "COLETAR DADOS DO GOOGLE ANALYTICS ATRAVÉS DA API DO GOOGLE E DISPONIBILIZAR OS DADOS PARA SEREM CARREGADOS PARA UM BANCO DE DADOS E POSTERIORMENTE GERAR UM DASHBOARD PARA O SETOR DE MARKETING.\n",
    "\n",
    "\n",
    "### DESCRIÇÃO DO PROCESSO:\n",
    "\n",
    "- CRIAR UMA API DENTRO DO SITE https://developers.google.com/\n",
    "- CRIAR CÓDIGO DE AUTENTICAÇÃO E RENOVAÇÃO DE TOKEN OAUTH2.0\n",
    "- CRIAR CÓDIGO PARA A COLETA DE INFORMAÇÕES DE MÉTRICAS E DIMENSÕES SOLICITADAS PELO SETOR DE MARKETING\n",
    "- INSERIR OS DADOS COLETADOS EM UM BANCO DE DADOS\n",
    "- GERAR DASHBOARD DE INDICADORES PARA O SETOR DE MARKETING UTILIZANDO POWER BI.\n",
    "\n",
    "\n",
    "### OBSERVAÇÕES IMPORTANTES:\n",
    "\n",
    "POR SE TRATAR DE UM PROJETO REAL, AS ETAPAS DE INSERÇÃO DOS DADOS COLETADOS PELA API NUM BANCO DE DADOS E A GERAÇÃO DO DASHBOARD FORAM REMOVIDAS.\n",
    "\n",
    "DADOS DE AUTENTICAÇÃO DO CLIENTE TAMBÉM FORAM SUPRIMIDOS DESTE PROJETO."
   ]
  },
  {
   "cell_type": "markdown",
   "id": "c3b147e3",
   "metadata": {},
   "source": [
    "## 1 - IMPORTAÇÃO DOS PACOTES NECESSÁRIOS"
   ]
  },
  {
   "cell_type": "code",
   "execution_count": null,
   "id": "cac08a34",
   "metadata": {},
   "outputs": [],
   "source": [
    "import os.path\n",
    "from googleapiclient.discovery import build\n",
    "from google_auth_oauthlib.flow import InstalledAppFlow\n",
    "from google.auth.transport.requests import Request\n",
    "from google.oauth2.credentials import Credentials\n",
    "import pandas as pd\n",
    "from collections import defaultdict\n",
    "from datetime import date\n",
    "import openpyxl"
   ]
  },
  {
   "cell_type": "markdown",
   "id": "e2c549a0",
   "metadata": {},
   "source": [
    "## 2 - PARÂMETROS GLOBAIS"
   ]
  },
  {
   "cell_type": "code",
   "execution_count": null,
   "id": "7b216e43",
   "metadata": {},
   "outputs": [],
   "source": [
    "scopes = ['https://www.googleapis.com/auth/analytics']    \n",
    "property_id = 'properties/insira seu ID de Propriedade'\n",
    "start_date = str(date.today())\n",
    "end_date = start_date\n",
    "\n",
    "# Dimensões e métricas gerais para alimentar a tabela tb_users\n",
    "dimensions_users = ['date']\n",
    "metrics_users = ['activeUsers','sessions','sessionsPerUser','newUsers','screenPageViews','screenPageViewsPerSession',\n",
    "                'bounceRate','averageSessionDuration','engagedSessions','active1DayUsers']\n",
    "\n",
    "\n",
    "# Dimensões e métricas para alimentar a tabela tb_sessions               \n",
    "dimensions_sessions = ['date','pageTitle']\n",
    "metrics_sessions = ['screenPageViewsPerSession','sessions']\n",
    "\n",
    "# Dimensões e métricas para alimentar a tabela tb_geo\n",
    "dimensions_geo = ['date','region','country','countryId']\n",
    "metrics_geo = ['sessions']\n",
    "                \n",
    "# Dimensões e métricas para alimentar a tabela tb_devices\n",
    "dimensions_devices = ['date','deviceCategory'] \n",
    "metrics_devices = ['sessions']\n",
    "\n",
    "# Dimensões e métricas para alimentar a tabela tb_channel\n",
    "dimensions_channels = ['date','sessionDefaultChannelGrouping']\n",
    "metrics_channels = ['sessions'] "
   ]
  },
  {
   "cell_type": "markdown",
   "id": "84586cb8",
   "metadata": {},
   "source": [
    "## 3 - FUNÇÕES"
   ]
  },
  {
   "cell_type": "code",
   "execution_count": null,
   "id": "5a55329b",
   "metadata": {},
   "outputs": [],
   "source": [
    "## AUTENTICAÇÃO \n",
    "def ga_auth(scopes):\n",
    "    creds = None\n",
    "    \n",
    "    if os.path.exists('token.json'):\n",
    "        creds = Credentials.from_authorized_user_file('token.json', scopes)\n",
    "    \n",
    "    if not creds or not creds.valid:\n",
    "        if creds and creds.expired and creds.refresh_token:\n",
    "            creds.refresh(Request())\n",
    "        else:\n",
    "            flow = InstalledAppFlow.from_client_secrets_file(\n",
    "                'credentials.json', scopes)\n",
    "            creds = flow.run_local_server(port=0)\n",
    "        # SALVANDO AS CREDENCIAIS\n",
    "        with open('token.json', 'w') as token:\n",
    "            token.write(creds.to_json())\n",
    "\n",
    "    service = build('analyticsdata', 'v1beta', credentials=creds)\n",
    "\n",
    "    return service\n",
    "\n",
    "## EXTRAÇÃO DE DADOS\n",
    "def data_extraction(response,dimensions,metrics):\n",
    "    report_data = defaultdict(list)\n",
    "    for report in response.get('reports', []):\n",
    "        rows = report.get('rows', [])\n",
    "        for row in rows:\n",
    "            for i, key in enumerate(dimensions):\n",
    "                report_data[key].append(row.get('dimensionValues', [])[i]['value'])  \n",
    "            for i, key in enumerate(metrics):\n",
    "                report_data[key].append(row.get('metricValues', [])[i]['value'])\n",
    "    return report_data\n",
    "\n",
    "## RESQUEST API\n",
    "def requests(dimensions,metrics):\n",
    "    request = {\n",
    "      'requests': [\n",
    "        {\n",
    "          'dateRanges': [\n",
    "            {\n",
    "              'startDate': start_date,\n",
    "              'endDate': end_date\n",
    "            }\n",
    "          ],\n",
    "          'dimensions': [{'name': name} for name in dimensions],\n",
    "          'metrics': [{'name': name} for name in metrics],\n",
    "          'limit': 100000\n",
    "        }\n",
    "      ]\n",
    "    }\n",
    "    \n",
    "    return request"
   ]
  },
  {
   "cell_type": "markdown",
   "id": "2e12fb9e",
   "metadata": {},
   "source": [
    "## 4 - AUTENTICAÇÃO"
   ]
  },
  {
   "cell_type": "code",
   "execution_count": null,
   "id": "82441b30",
   "metadata": {},
   "outputs": [],
   "source": [
    "service = ga_auth(scopes)\n",
    "analytics = ga_auth(scopes)"
   ]
  },
  {
   "cell_type": "markdown",
   "id": "fae3a57a",
   "metadata": {},
   "source": [
    "## 5 - EXTRAINDO OS DADOS DO GA4"
   ]
  },
  {
   "cell_type": "code",
   "execution_count": null,
   "id": "f487cd3b",
   "metadata": {},
   "outputs": [],
   "source": [
    "request_users = requests(dimensions_users, metrics_users)\n",
    "request_sessions = requests(dimensions_sessions, metrics_sessions)\n",
    "request_geo = requests(dimensions_geo, metrics_geo)\n",
    "request_devices = requests(dimensions_devices, metrics_devices)\n",
    "request_channels = requests(dimensions_channels, metrics_channels)\n",
    "\n",
    "response_users = analytics.properties().batchRunReports(property=property_id, body=request_users).execute()\n",
    "response_sessions = analytics.properties().batchRunReports(property=property_id, body=request_sessions).execute()\n",
    "response_geo = analytics.properties().batchRunReports(property=property_id, body=request_geo).execute()\n",
    "response_devices = analytics.properties().batchRunReports(property=property_id, body=request_devices).execute()\n",
    "response_channels = analytics.properties().batchRunReports(property=property_id, body=request_channels).execute()\n",
    "\n",
    "\n",
    "df_users = pd.DataFrame(data_extraction(response_users,dimensions_users,metrics_users)) \n",
    "df_sessions = pd.DataFrame(data_extraction(response_sessions,dimensions_sessions,metrics_sessions)) \n",
    "df_geo = pd.DataFrame(data_extraction(response_geo,dimensions_geo,metrics_geo)) \n",
    "df_devices = pd.DataFrame(data_extraction(response_devices,dimensions_devices,metrics_devices)) \n",
    "df_channels = pd.DataFrame(data_extraction(response_channels,dimensions_channels,metrics_channels)) "
   ]
  },
  {
   "cell_type": "markdown",
   "id": "1fd55d46",
   "metadata": {},
   "source": [
    "## 6 - SALVANDO OS DADOS"
   ]
  },
  {
   "cell_type": "code",
   "execution_count": null,
   "id": "4c6f0de1",
   "metadata": {},
   "outputs": [],
   "source": [
    "df_users.to_csv('report_users.csv',encoding='utf-8',index=False)\n",
    "df_sessions.to_csv('report_sessions.csv',encoding='utf-8',index=False)\n",
    "df_geo.to_csv('report_geo.csv',encoding='utf-8',index=False)\n",
    "df_devices.to_csv('report_devices.csv',encoding='utf-8',index=False)\n",
    "df_channels.to_csv('report_channels.csv',encoding='utf-8',index=False)"
   ]
  },
  {
   "cell_type": "markdown",
   "id": "4f50c1ac",
   "metadata": {},
   "source": [
    "## 7 - REQUIREMENTS.TXT"
   ]
  },
  {
   "cell_type": "code",
   "execution_count": 4,
   "id": "62b42373",
   "metadata": {},
   "outputs": [],
   "source": [
    "!pip3 freeze > requirements.txt"
   ]
  }
 ],
 "metadata": {
  "kernelspec": {
   "display_name": "Python 3 (ipykernel)",
   "language": "python",
   "name": "python3"
  },
  "language_info": {
   "codemirror_mode": {
    "name": "ipython",
    "version": 3
   },
   "file_extension": ".py",
   "mimetype": "text/x-python",
   "name": "python",
   "nbconvert_exporter": "python",
   "pygments_lexer": "ipython3",
   "version": "3.9.13"
  }
 },
 "nbformat": 4,
 "nbformat_minor": 5
}
