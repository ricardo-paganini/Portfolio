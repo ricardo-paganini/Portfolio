{
 "cells": [
  {
   "cell_type": "markdown",
   "id": "a4b1f35f",
   "metadata": {},
   "source": [
    "# TWITTER ANALYTICS - ABENDI"
   ]
  },
  {
   "cell_type": "markdown",
   "id": "b693cad0",
   "metadata": {},
   "source": [
    "### OBJETIVO\n",
    "\n",
    "Coletar de forma automática dados através da ferramenta de web scraping Selenium para a geração de dashboards no Power BI para facilitar a tomada de decisão do Marketing e Diretoria.\n",
    "\n",
    "### Métricas coletadas\n",
    "\n",
    "- Tweets\n",
    "- Impressões do Tweet\n",
    "- Visitas ao perfil\n",
    "- Menções\n",
    "- Novos Seguidores\n",
    "\n",
    "### Infomações de acesso\n",
    "\n",
    "- Usuário: USUÁRIO DA PÁGINA DO TWITTER\n",
    "- Senha: SENHA DO USUÁRIO"
   ]
  },
  {
   "cell_type": "markdown",
   "id": "950398fe",
   "metadata": {},
   "source": [
    "## 1 - IMPORTAÇÕES DE PACOTES"
   ]
  },
  {
   "cell_type": "code",
   "execution_count": null,
   "id": "f0c85d2c",
   "metadata": {
    "ExecuteTime": {
     "end_time": "2023-01-30T09:31:24.780695Z",
     "start_time": "2023-01-30T09:31:23.680401Z"
    }
   },
   "outputs": [],
   "source": [
    "from selenium import webdriver\n",
    "from selenium.webdriver.chrome.service import Service\n",
    "from webdriver_manager.chrome import ChromeDriverManager\n",
    "import undetected_chromedriver.v2 as uc\n",
    "from selenium.webdriver.common.by import By\n",
    "from selenium.webdriver.support.ui import WebDriverWait\n",
    "from selenium.webdriver.support import expected_conditions as ec\n",
    "import os\n",
    "import pandas as pd\n",
    "from selenium.webdriver.common.keys import Keys\n",
    "from selenium.webdriver.support.select import Select\n",
    "import time\n",
    "from datetime import date, timedelta\n",
    "import os\n",
    "from zipfile import ZipFile\n",
    "import pandas as pd\n",
    "import shutil\n",
    "import pyodbc\n",
    "import smtplib\n",
    "import email.message"
   ]
  },
  {
   "cell_type": "markdown",
   "id": "5203cbfc",
   "metadata": {},
   "source": [
    "## 2 - DEFINIÇÃO DE PARÂMETROS"
   ]
  },
  {
   "cell_type": "code",
   "execution_count": 2,
   "id": "1ce81eef",
   "metadata": {
    "ExecuteTime": {
     "end_time": "2022-12-16T09:44:26.438028Z",
     "start_time": "2022-12-16T09:44:26.423171Z"
    }
   },
   "outputs": [],
   "source": [
    "day = date.today() - timedelta(days=1)\n",
    "day = str(day.strftime('%d/%m/%Y')) \n",
    "\n",
    "metrics = []\n",
    "values = []\n",
    "\n",
    "obj = {}\n",
    "\n",
    "remetente = 'E-MAIL DO REMETENTE' \n",
    "senha = 'SENHA DE LIBERAÇÃO DO USO DO DO CÓGIGO COM A CONTA DO GOOGLE (REMETENTE)'"
   ]
  },
  {
   "cell_type": "markdown",
   "id": "ea6cb8c7",
   "metadata": {},
   "source": [
    "## 3 - INICIALIZAÇÃO DO NAVEGADOR"
   ]
  },
  {
   "cell_type": "code",
   "execution_count": null,
   "id": "9f0586c7",
   "metadata": {
    "ExecuteTime": {
     "end_time": "2022-12-16T09:44:37.848755Z",
     "start_time": "2022-12-16T09:44:26.440083Z"
    }
   },
   "outputs": [],
   "source": [
    "options = webdriver.ChromeOptions()\n",
    "options.add_argument(r'--user-data-dir=CAMINHO DO PERFIL DO GOOGLE CHROME')\n",
    "service = Service(ChromeDriverManager().install())\n",
    "browser = uc.Chrome(service=service, options=options)"
   ]
  },
  {
   "cell_type": "markdown",
   "id": "4c13f50d",
   "metadata": {},
   "source": [
    "## 4 - ACESSANDO A PÁGINA PRINCIPAL DO TWITTER "
   ]
  },
  {
   "cell_type": "code",
   "execution_count": 4,
   "id": "1f061d6c",
   "metadata": {
    "ExecuteTime": {
     "end_time": "2022-12-16T09:44:44.118744Z",
     "start_time": "2022-12-16T09:44:37.852747Z"
    }
   },
   "outputs": [],
   "source": [
    "browser.get('https://analytics.twitter.com/user/NOME DA PÁGINA/home')\n",
    "browser.maximize_window()\n",
    "time.sleep(5)"
   ]
  },
  {
   "cell_type": "markdown",
   "id": "feacf176",
   "metadata": {},
   "source": [
    "## 5 - COLETANDO INFORMAÇÕES DA PÁGINA PRINCIPAL VIA SELENIUM"
   ]
  },
  {
   "cell_type": "code",
   "execution_count": 5,
   "id": "718b20e5",
   "metadata": {
    "ExecuteTime": {
     "end_time": "2022-12-16T09:44:44.165665Z",
     "start_time": "2022-12-16T09:44:44.118744Z"
    }
   },
   "outputs": [],
   "source": [
    "element = browser.find_elements(By.CLASS_NAME, 'DataPoint-label')\n",
    "element1 = browser.find_elements(By.CLASS_NAME,'DataPoint-info')\n",
    "\n",
    "if browser.find_element(By.CLASS_NAME,'DataPoint-label') == 'Seguidores':\n",
    "    total_followers = browser.find_element(By.CLASS_NAME,'DataPoint-info').text\n",
    "else:\n",
    "    total_followers = '0'"
   ]
  },
  {
   "cell_type": "code",
   "execution_count": 6,
   "id": "6d923d95",
   "metadata": {
    "ExecuteTime": {
     "end_time": "2022-12-16T09:44:44.337089Z",
     "start_time": "2022-12-16T09:44:44.165665Z"
    }
   },
   "outputs": [],
   "source": [
    "metricas = []\n",
    "resultados = []\n",
    "\n",
    "for i in element:\n",
    "    metricas.append(i.text)\n",
    "    \n",
    "for i in element1:\n",
    "    resultados.append(i.text)"
   ]
  },
  {
   "cell_type": "code",
   "execution_count": 8,
   "id": "fff1cd65",
   "metadata": {
    "ExecuteTime": {
     "end_time": "2022-12-16T09:44:44.352693Z",
     "start_time": "2022-12-16T09:44:44.337089Z"
    }
   },
   "outputs": [],
   "source": [
    "for i in range(len(metricas)):\n",
    "    if metricas[i] == 'Seguidores':\n",
    "        total_followers = resultados[i]\n",
    "        total_followers = total_followers.rsplit()\n",
    "        total_followers = total_followers[0]"
   ]
  },
  {
   "cell_type": "code",
   "execution_count": 10,
   "id": "da927f6e",
   "metadata": {
    "ExecuteTime": {
     "end_time": "2022-12-16T09:44:44.384048Z",
     "start_time": "2022-12-16T09:44:44.368296Z"
    }
   },
   "outputs": [],
   "source": [
    "# Definindo o caminho correto das informações na página do Twitter\n",
    "\n",
    "xpath1_value = '/html/body/div[3]/div/div[2]/div[1]/div[2]/div[2]/div/div/div/div[1]/div/div'\n",
    "xpath1_title = '/html/body/div[3]/div/div[2]/div[1]/div[2]/div[2]/div/div/div/div[1]/div/h3'\n",
    "xpath2_value = '/html/body/div[3]/div/div[2]/div[1]/div[2]/div[2]/div/div/div/div[2]/div/div'\n",
    "xpath2_title = '/html/body/div[3]/div/div[2]/div[1]/div[2]/div[2]/div/div/div/div[2]/div/h3'\n",
    "xpath3_value = '/html/body/div[3]/div/div[2]/div[1]/div[2]/div[2]/div/div/div/div[3]/div/div'\n",
    "xpath3_title = '/html/body/div[3]/div/div[2]/div[1]/div[2]/div[2]/div/div/div/div[3]/div/h3'\n",
    "xpath4_value = '/html/body/div[3]/div/div[2]/div[1]/div[2]/div[2]/div/div/div/div[4]/div/div'\n",
    "xpath4_title = '/html/body/div[3]/div/div[2]/div[1]/div[2]/div[2]/div/div/div/div[4]/div/h3'\n",
    "xpath5_value = '/html/body/div[3]/div/div[2]/div[1]/div[2]/div[2]/div/div/div/div[5]/div/div'\n",
    "xpath5_title = '/html/body/div[3]/div/div[2]/div[1]/div[2]/div[2]/div/div/div/div[5]/div/h3'\n",
    "\n",
    "full_info = {xpath1_title:xpath1_value, xpath2_title:xpath2_value, xpath3_title:xpath3_value, xpath4_title:xpath4_value, \n",
    "             xpath5_title:xpath5_value}"
   ]
  },
  {
   "cell_type": "code",
   "execution_count": null,
   "id": "572e25f3",
   "metadata": {
    "ExecuteTime": {
     "end_time": "2022-12-16T09:44:44.587155Z",
     "start_time": "2022-12-16T09:44:44.384048Z"
    }
   },
   "outputs": [],
   "source": [
    "# Coletando os dados\n",
    "\n",
    "for key, value in full_info.items():\n",
    "    try:\n",
    "        print(browser.find_element(By.XPATH,key).text + ' = ' + browser.find_element(By.XPATH,value).text)\n",
    "        metric = browser.find_element(By.XPATH,key).text\n",
    "        total = browser.find_element(By.XPATH,value).text\n",
    "        metrics.append(metric)\n",
    "        values.append(total)\n",
    "    except:\n",
    "        pass"
   ]
  },
  {
   "cell_type": "code",
   "execution_count": 12,
   "id": "4b2df366",
   "metadata": {
    "ExecuteTime": {
     "end_time": "2022-12-16T09:44:44.602922Z",
     "start_time": "2022-12-16T09:44:44.587155Z"
    }
   },
   "outputs": [],
   "source": [
    "# Concatenando os dados coletados em um dicionário\n",
    "\n",
    "obj = dict(zip(metrics, values))"
   ]
  },
  {
   "cell_type": "code",
   "execution_count": 14,
   "id": "9e346185",
   "metadata": {
    "ExecuteTime": {
     "end_time": "2022-12-16T09:44:44.634240Z",
     "start_time": "2022-12-16T09:44:44.618537Z"
    }
   },
   "outputs": [],
   "source": [
    "# Inserindo dados no Dicionário criado\n",
    "\n",
    "obj['Data'] = day\n",
    "obj['Total Seguidores'] = total_followers"
   ]
  },
  {
   "cell_type": "markdown",
   "id": "10550a52",
   "metadata": {},
   "source": [
    "## 6 - CRIANDO O DATAFRAME E SALVANDO OS DADOS COLETADOS"
   ]
  },
  {
   "cell_type": "code",
   "execution_count": 16,
   "id": "1b39066c",
   "metadata": {
    "ExecuteTime": {
     "end_time": "2022-12-16T09:44:44.681112Z",
     "start_time": "2022-12-16T09:44:44.649794Z"
    }
   },
   "outputs": [],
   "source": [
    "# Criando um dataframe padrão\n",
    "\n",
    "default = pd.DataFrame([{'Tweets':'0','Impressões do Tweet':'0','Visitas ao perfil':'0',\n",
    "                        'Novos seguidores':'0','Data':day,'Total Seguidores':'0','Menções':'0'}])"
   ]
  },
  {
   "cell_type": "code",
   "execution_count": 17,
   "id": "15310c7f",
   "metadata": {
    "ExecuteTime": {
     "end_time": "2022-12-16T09:44:44.696308Z",
     "start_time": "2022-12-16T09:44:44.681112Z"
    }
   },
   "outputs": [],
   "source": [
    "# Montando o Dataframe\n",
    "\n",
    "dataframe = pd.DataFrame(data=obj, index=[0])"
   ]
  },
  {
   "cell_type": "code",
   "execution_count": 18,
   "id": "a827c28b",
   "metadata": {
    "ExecuteTime": {
     "end_time": "2022-12-16T09:44:44.727753Z",
     "start_time": "2022-12-16T09:44:44.696308Z"
    }
   },
   "outputs": [],
   "source": [
    "# Unindo o Dataframe padrão com o Dataframe gerado na captura dos dados\n",
    "\n",
    "df = pd.merge(left=dataframe, right=default, how='outer')"
   ]
  },
  {
   "cell_type": "code",
   "execution_count": 19,
   "id": "66e47a8e",
   "metadata": {
    "ExecuteTime": {
     "end_time": "2022-12-16T09:44:44.743345Z",
     "start_time": "2022-12-16T09:44:44.727753Z"
    }
   },
   "outputs": [],
   "source": [
    "# Manipulando os dados\n",
    "\n",
    "df = df.drop(axis=0, index=1)\n",
    "\n",
    "df = df.fillna('0')"
   ]
  },
  {
   "cell_type": "code",
   "execution_count": 21,
   "id": "596d63a6",
   "metadata": {},
   "outputs": [],
   "source": [
    "# Colocando as colunas do Dataframe na ordem em que aparecem no banco\n",
    "\n",
    "df = df[['Data','Total Seguidores','Tweets','Impressões do Tweet','Visitas ao perfil','Menções','Novos seguidores']]"
   ]
  },
  {
   "cell_type": "code",
   "execution_count": 23,
   "id": "33c999b1",
   "metadata": {
    "ExecuteTime": {
     "end_time": "2022-12-16T09:44:44.774594Z",
     "start_time": "2022-12-16T09:44:44.758796Z"
    }
   },
   "outputs": [],
   "source": [
    "# Salvando o dataframe para um arquivo CSV\n",
    "\n",
    "df.to_csv(r'CAMINHO PARA SALVAR O RELATÓRIO GERADO\\tb_twitter_main.csv', index=False, encoding='utf-8')"
   ]
  },
  {
   "cell_type": "markdown",
   "id": "517c700d",
   "metadata": {},
   "source": [
    "## 7 - BANCO DE DADOS"
   ]
  },
  {
   "cell_type": "code",
   "execution_count": 26,
   "id": "b16bd875",
   "metadata": {
    "ExecuteTime": {
     "end_time": "2022-12-16T09:44:44.821684Z",
     "start_time": "2022-12-16T09:44:44.806087Z"
    }
   },
   "outputs": [],
   "source": [
    "# Criando as variáveis\n",
    "\n",
    "tweets = df['Tweets'][0]\n",
    "impressoes = df['Impressões do Tweet'][0]\n",
    "visitas = df['Visitas ao perfil'][0]\n",
    "mencoes = df['Menções'][0]\n",
    "novos = df['Novos seguidores'][0]"
   ]
  },
  {
   "cell_type": "code",
   "execution_count": 28,
   "id": "157c3cf2",
   "metadata": {
    "ExecuteTime": {
     "end_time": "2022-12-16T09:44:45.055654Z",
     "start_time": "2022-12-16T09:44:44.836934Z"
    }
   },
   "outputs": [],
   "source": [
    "# Criando os dados para a conexão com o banco de dados PostgreSQL no servidor ABEDS01 (192.168.0.15)\n",
    "dados_conexao = ('Driver=PostgreSQL Unicode(x64);Server=192.168.0.15;Database=mkt;UID=postgres;PWD=@bendi321')\n",
    "\n",
    "# Criando a conexão com o banco de dados\n",
    "conexao = pyodbc.connect(dados_conexao)\n",
    "\n",
    "# Criando o cursor\n",
    "cursor = conexao.cursor()"
   ]
  },
  {
   "cell_type": "code",
   "execution_count": 29,
   "id": "403aa2f7",
   "metadata": {
    "ExecuteTime": {
     "end_time": "2022-12-16T09:44:45.071543Z",
     "start_time": "2022-12-16T09:44:45.055654Z"
    }
   },
   "outputs": [],
   "source": [
    "# Inserção dos registros coletados na tabela tb_twitter_main\n",
    "cursor.execute(f\"\"\"\n",
    "INSERT INTO public.tb_twitter_main(tweets,tweetviews,profileviews,mentions,newfollowers,date,followers)\n",
    "VALUES('{tweets}','{impressoes}','{visitas}','{mencoes}','{novos}','{day}','{total_followers}');\n",
    "\"\"\")"
   ]
  },
  {
   "cell_type": "code",
   "execution_count": 30,
   "id": "51a3655f",
   "metadata": {
    "ExecuteTime": {
     "end_time": "2022-12-16T09:44:45.087203Z",
     "start_time": "2022-12-16T09:44:45.071543Z"
    }
   },
   "outputs": [],
   "source": [
    "# Efetivando a inserção dos registros\n",
    "cursor.commit()"
   ]
  },
  {
   "cell_type": "code",
   "execution_count": 31,
   "id": "7638d417",
   "metadata": {
    "ExecuteTime": {
     "end_time": "2022-12-16T09:44:45.102470Z",
     "start_time": "2022-12-16T09:44:45.087203Z"
    }
   },
   "outputs": [],
   "source": [
    "# Fechando a conexcão com o Banco de Dados após a inserção dos registros\n",
    "cursor.close()\n",
    "conexao.close()"
   ]
  },
  {
   "cell_type": "code",
   "execution_count": 32,
   "id": "401752e5",
   "metadata": {
    "ExecuteTime": {
     "end_time": "2022-12-16T09:44:45.118518Z",
     "start_time": "2022-12-16T09:44:45.102470Z"
    }
   },
   "outputs": [
    {
     "name": "stdout",
     "output_type": "stream",
     "text": [
      "Programa executado com sucesso.\n"
     ]
    }
   ],
   "source": [
    "#browser.close()\n",
    "print('Programa executado com sucesso.')"
   ]
  },
  {
   "cell_type": "markdown",
   "id": "8a9ea03f",
   "metadata": {},
   "source": [
    "## 8 - NOTIFICANDO O RESPONSÁVEL"
   ]
  },
  {
   "cell_type": "markdown",
   "id": "32e67384",
   "metadata": {},
   "source": [
    "### INFORMAÇÕES GERAIS PARA ENVIO DE E-MAIL\n",
    "\n",
    "    1 - Acesse a conta do Gmail que será utilizada para o envio do e-mail\n",
    "    2 - Clique em \"Gerenciar conta do Google\" no menu do perfil\n",
    "    3 - Clique em \"Segurança\"\n",
    "    4 - Na opção \"Como fazer login no Google\" clique em \"Senhas de App\"\n",
    "    5 - Clique em \"Selecionar App\" e escolha a opção \"Outro - Nome Personalizado\"\n",
    "    6 - Defina um nome para o App e clique no botão GERAR\n",
    "    7 - A senha que será utilizada para autenticação será exibida. Utilize esta senha na variável senha"
   ]
  },
  {
   "cell_type": "code",
   "execution_count": null,
   "id": "1aad4ba8",
   "metadata": {},
   "outputs": [],
   "source": [
    "corpo_email = f\"\"\"\n",
    "<p><b>***** Informativo *****</b></p>\n",
    "<p>Rotina de carga de dados do Twitter realizada com sucesso no dia {day}.</p>\n",
    "\"\"\"\n",
    "\n",
    "msg = email.message.Message()\n",
    "msg['Subject'] = \"Carga de dados Twitter\"\n",
    "msg['From'] = remetente\n",
    "msg['To'] = 'E-MAIL DO DESTINATÁRIO'\n",
    "password = senha \n",
    "msg.add_header('Content-Type', 'text/html')\n",
    "msg.set_payload(corpo_email )\n",
    "\n",
    "s = smtplib.SMTP('smtp.gmail.com: 587')\n",
    "s.starttls()\n",
    "\n",
    "s.login(msg['From'], password)\n",
    "s.sendmail(msg['From'], [msg['To']], msg.as_string().encode('utf-8'))\n",
    "\n",
    "print('Email enviado')"
   ]
  }
 ],
 "metadata": {
  "kernelspec": {
   "display_name": "Python 3 (ipykernel)",
   "language": "python",
   "name": "python3"
  },
  "language_info": {
   "codemirror_mode": {
    "name": "ipython",
    "version": 3
   },
   "file_extension": ".py",
   "mimetype": "text/x-python",
   "name": "python",
   "nbconvert_exporter": "python",
   "pygments_lexer": "ipython3",
   "version": "3.9.13"
  }
 },
 "nbformat": 4,
 "nbformat_minor": 5
}
