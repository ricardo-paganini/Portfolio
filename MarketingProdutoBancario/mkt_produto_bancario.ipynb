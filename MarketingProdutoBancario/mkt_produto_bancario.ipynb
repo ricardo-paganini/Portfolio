{
 "cells": [
  {
   "cell_type": "markdown",
   "id": "09a2decf",
   "metadata": {},
   "source": [
    "# PROJETO: ANÁLISE DE MARKETING DE PRODUTO BANCÁRIO"
   ]
  },
  {
   "cell_type": "markdown",
   "id": "02e4d0e5",
   "metadata": {},
   "source": [
    "### ETAPA 1\n",
    "\n",
    "O Banco **Bono Invest** fez um levantamento de clientes que após tentativas de vendas de determinado produto financeiro, observaram quais aceitaram o produto e quais não aceitaram. Entretanto, para melhorar a eficiência de suas vendas eles te contrataram para realizar a análise destes dados e mostrar a eles algumas soluções para maximizar a eficiência em novas vendas.\n",
    "\n",
    "Uma primeira reunião foi realizada e um arquivo com os dados que eles levantaram foi encaminhado, o arquivo se chama bank_marketing.xlsx.\n",
    "\n",
    "Com os dados em mãos, você iniciou sua análise exploratória para responder as questões levantadas durante a reunião:\n",
    "\n",
    "a) Qual o % de clientes que compraram o Título?\n",
    "\n",
    "b) Quais profissões com maiores frequências são responsáveis por cerca de 80% da base?\n",
    "\n",
    "c) Uma das frases ditas durante a reunião foi: “Podemos afirmar que 66% dos clientes não tem Ensino Superior”. Considerando os dados fornecidos, o que pode dizer sobre essa afirmação?\n",
    "\n",
    "### ETAPA 2\n",
    "\n",
    "Após a primeira reunião com o Banco (ETAPA 1), o próximo passo é identificar como direcionar a oferta de seu produto através de marketing em redes sociais e abordagem dos clientes por parte da equipe comercial. Utilize novamente as informações contidas no arquivo bank_marketing.xlsx para tomar suas decisões.\n",
    "\n",
    "a) Para o marketing em redes sociais, a plataforma permite a seleção do público baseado em até 2 variáveis dentre as seguintes: idade, profissão, estado civil e escolaridade. Quais variáveis você escolheria com o objetivo de separar as pessoas que compram ou não o produto.\n",
    "\n",
    "b) Sobre a linha de comunicação, foi sugerido direcionar ao público com idade entre 30-40, pois, dos 4.778 clientes que compraram o produto, essa foi a faixa com maior quantidade. Você concorda com essa análise? Qual seria a sua sugestão?\n",
    "\n",
    "c) Por fim, para a equipe comercial, qual seria a sua sugestão de priorização de clientes, considerando as variáveis abaixo?\n",
    "\n",
    "- Tem ou não hipoteca.\n",
    "\n",
    "- Tem ou não empréstimo."
   ]
  },
  {
   "cell_type": "code",
   "execution_count": null,
   "id": "24a9e451",
   "metadata": {},
   "outputs": [],
   "source": []
  }
 ],
 "metadata": {
  "kernelspec": {
   "display_name": "Python 3 (ipykernel)",
   "language": "python",
   "name": "python3"
  },
  "language_info": {
   "codemirror_mode": {
    "name": "ipython",
    "version": 3
   },
   "file_extension": ".py",
   "mimetype": "text/x-python",
   "name": "python",
   "nbconvert_exporter": "python",
   "pygments_lexer": "ipython3",
   "version": "3.9.16"
  }
 },
 "nbformat": 4,
 "nbformat_minor": 5
}
